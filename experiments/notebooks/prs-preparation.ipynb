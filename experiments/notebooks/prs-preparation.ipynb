{
 "cells": [
  {
   "cell_type": "markdown",
   "id": "71dc8c4d-b23f-47b6-9adc-5b448a779081",
   "metadata": {},
   "source": [
    "# Pull Requests Dataset Preparation"
   ]
  },
  {
   "cell_type": "markdown",
   "id": "d7bedd84-1b98-448d-9f7f-087304134ec5",
   "metadata": {},
   "source": [
    "## Load Libraries"
   ]
  },
  {
   "cell_type": "code",
   "execution_count": 34,
   "id": "41324d16-ccdd-4692-8e6e-f7d11295e614",
   "metadata": {},
   "outputs": [],
   "source": [
    "from data_preparation import *\n",
    "from datetime import datetime\n",
    "import numpy as np\n",
    "import pandas as pd\n",
    "\n",
    "%matplotlib inline\n",
    "import matplotlib as mpl\n",
    "import matplotlib.pyplot as plt\n",
    "import seaborn as sns\n",
    "sns.set()"
   ]
  },
  {
   "cell_type": "markdown",
   "id": "7481f7fe-6d92-4ef2-bf99-8942b0d8dfd1",
   "metadata": {},
   "source": [
    "## Load Dataset"
   ]
  },
  {
   "cell_type": "code",
   "execution_count": 2,
   "id": "c043faa6-db73-42b7-9d99-c9727564271e",
   "metadata": {},
   "outputs": [
    {
     "data": {
      "text/html": [
       "<div>\n",
       "<style scoped>\n",
       "    .dataframe tbody tr th:only-of-type {\n",
       "        vertical-align: middle;\n",
       "    }\n",
       "\n",
       "    .dataframe tbody tr th {\n",
       "        vertical-align: top;\n",
       "    }\n",
       "\n",
       "    .dataframe thead th {\n",
       "        text-align: right;\n",
       "    }\n",
       "</style>\n",
       "<table border=\"1\" class=\"dataframe\">\n",
       "  <thead>\n",
       "    <tr style=\"text-align: right;\">\n",
       "      <th></th>\n",
       "      <th>cursor</th>\n",
       "      <th>owner</th>\n",
       "      <th>name</th>\n",
       "      <th>sshUrl</th>\n",
       "      <th>url</th>\n",
       "      <th>baseRepo</th>\n",
       "      <th>baseRef</th>\n",
       "      <th>baseRefPrefix</th>\n",
       "      <th>headRepo</th>\n",
       "      <th>headRef</th>\n",
       "      <th>...</th>\n",
       "      <th>files</th>\n",
       "      <th>createdAt</th>\n",
       "      <th>publishedAt</th>\n",
       "      <th>mergedAt</th>\n",
       "      <th>closedAt</th>\n",
       "      <th>groupId</th>\n",
       "      <th>artifactId</th>\n",
       "      <th>version</th>\n",
       "      <th>filePath</th>\n",
       "      <th>timestamp</th>\n",
       "    </tr>\n",
       "  </thead>\n",
       "  <tbody>\n",
       "    <tr>\n",
       "      <th>0</th>\n",
       "      <td>Y3Vyc29yOjY=</td>\n",
       "      <td>javaparser</td>\n",
       "      <td>javaparser</td>\n",
       "      <td>ssh://git@github.com:javaparser/javaparser.git</td>\n",
       "      <td>https://github.com/javaparser/javaparser</td>\n",
       "      <td>javaparser/javaparser</td>\n",
       "      <td>master</td>\n",
       "      <td>refs/heads/</td>\n",
       "      <td>turrisxyz/javaparser</td>\n",
       "      <td>Pinned-Dependencies-GitHub</td>\n",
       "      <td>...</td>\n",
       "      <td>2</td>\n",
       "      <td>2022-06-26</td>\n",
       "      <td>2022-06-26</td>\n",
       "      <td>NaN</td>\n",
       "      <td>NaN</td>\n",
       "      <td>com.github.javaparser</td>\n",
       "      <td>javaparser-parent</td>\n",
       "      <td>3.24.3-SNAPSHOT</td>\n",
       "      <td>.github/workflows/create_github_release.yml</td>\n",
       "      <td>NaN</td>\n",
       "    </tr>\n",
       "    <tr>\n",
       "      <th>1</th>\n",
       "      <td>Y3Vyc29yOjY=</td>\n",
       "      <td>javaparser</td>\n",
       "      <td>javaparser</td>\n",
       "      <td>ssh://git@github.com:javaparser/javaparser.git</td>\n",
       "      <td>https://github.com/javaparser/javaparser</td>\n",
       "      <td>javaparser/javaparser</td>\n",
       "      <td>master</td>\n",
       "      <td>refs/heads/</td>\n",
       "      <td>turrisxyz/javaparser</td>\n",
       "      <td>Pinned-Dependencies-GitHub</td>\n",
       "      <td>...</td>\n",
       "      <td>2</td>\n",
       "      <td>2022-06-26</td>\n",
       "      <td>2022-06-26</td>\n",
       "      <td>NaN</td>\n",
       "      <td>NaN</td>\n",
       "      <td>com.github.javaparser</td>\n",
       "      <td>javaparser-parent</td>\n",
       "      <td>3.24.3-SNAPSHOT</td>\n",
       "      <td>.github/workflows/maven_tests.yml</td>\n",
       "      <td>NaN</td>\n",
       "    </tr>\n",
       "    <tr>\n",
       "      <th>2</th>\n",
       "      <td>Y3Vyc29yOjY=</td>\n",
       "      <td>javaparser</td>\n",
       "      <td>javaparser</td>\n",
       "      <td>ssh://git@github.com:javaparser/javaparser.git</td>\n",
       "      <td>https://github.com/javaparser/javaparser</td>\n",
       "      <td>javaparser/javaparser</td>\n",
       "      <td>master</td>\n",
       "      <td>refs/heads/</td>\n",
       "      <td>turrisxyz/javaparser</td>\n",
       "      <td>Pinned-Dependencies-GitHub</td>\n",
       "      <td>...</td>\n",
       "      <td>2</td>\n",
       "      <td>2022-06-26</td>\n",
       "      <td>2022-06-26</td>\n",
       "      <td>NaN</td>\n",
       "      <td>NaN</td>\n",
       "      <td>com.github.javaparser</td>\n",
       "      <td>javaparser-parent</td>\n",
       "      <td>3.24.3-SNAPSHOT</td>\n",
       "      <td>.github/workflows/create_github_release.yml</td>\n",
       "      <td>NaN</td>\n",
       "    </tr>\n",
       "    <tr>\n",
       "      <th>3</th>\n",
       "      <td>Y3Vyc29yOjY=</td>\n",
       "      <td>javaparser</td>\n",
       "      <td>javaparser</td>\n",
       "      <td>ssh://git@github.com:javaparser/javaparser.git</td>\n",
       "      <td>https://github.com/javaparser/javaparser</td>\n",
       "      <td>javaparser/javaparser</td>\n",
       "      <td>master</td>\n",
       "      <td>refs/heads/</td>\n",
       "      <td>turrisxyz/javaparser</td>\n",
       "      <td>Pinned-Dependencies-GitHub</td>\n",
       "      <td>...</td>\n",
       "      <td>2</td>\n",
       "      <td>2022-06-26</td>\n",
       "      <td>2022-06-26</td>\n",
       "      <td>NaN</td>\n",
       "      <td>NaN</td>\n",
       "      <td>com.github.javaparser</td>\n",
       "      <td>javaparser-parent</td>\n",
       "      <td>3.24.3-SNAPSHOT</td>\n",
       "      <td>.github/workflows/maven_tests.yml</td>\n",
       "      <td>NaN</td>\n",
       "    </tr>\n",
       "    <tr>\n",
       "      <th>4</th>\n",
       "      <td>Y3Vyc29yOjY=</td>\n",
       "      <td>javaparser</td>\n",
       "      <td>javaparser</td>\n",
       "      <td>ssh://git@github.com:javaparser/javaparser.git</td>\n",
       "      <td>https://github.com/javaparser/javaparser</td>\n",
       "      <td>javaparser/javaparser</td>\n",
       "      <td>master</td>\n",
       "      <td>refs/heads/</td>\n",
       "      <td>iChenLei/javaparser</td>\n",
       "      <td>patch-1</td>\n",
       "      <td>...</td>\n",
       "      <td>1</td>\n",
       "      <td>2022-06-17</td>\n",
       "      <td>2022-06-17</td>\n",
       "      <td>NaN</td>\n",
       "      <td>NaN</td>\n",
       "      <td>com.github.javaparser</td>\n",
       "      <td>javaparser-parent</td>\n",
       "      <td>3.24.3-SNAPSHOT</td>\n",
       "      <td>readme.md</td>\n",
       "      <td>NaN</td>\n",
       "    </tr>\n",
       "  </tbody>\n",
       "</table>\n",
       "<p>5 rows × 25 columns</p>\n",
       "</div>"
      ],
      "text/plain": [
       "         cursor       owner        name  \\\n",
       "0  Y3Vyc29yOjY=  javaparser  javaparser   \n",
       "1  Y3Vyc29yOjY=  javaparser  javaparser   \n",
       "2  Y3Vyc29yOjY=  javaparser  javaparser   \n",
       "3  Y3Vyc29yOjY=  javaparser  javaparser   \n",
       "4  Y3Vyc29yOjY=  javaparser  javaparser   \n",
       "\n",
       "                                           sshUrl  \\\n",
       "0  ssh://git@github.com:javaparser/javaparser.git   \n",
       "1  ssh://git@github.com:javaparser/javaparser.git   \n",
       "2  ssh://git@github.com:javaparser/javaparser.git   \n",
       "3  ssh://git@github.com:javaparser/javaparser.git   \n",
       "4  ssh://git@github.com:javaparser/javaparser.git   \n",
       "\n",
       "                                        url               baseRepo baseRef  \\\n",
       "0  https://github.com/javaparser/javaparser  javaparser/javaparser  master   \n",
       "1  https://github.com/javaparser/javaparser  javaparser/javaparser  master   \n",
       "2  https://github.com/javaparser/javaparser  javaparser/javaparser  master   \n",
       "3  https://github.com/javaparser/javaparser  javaparser/javaparser  master   \n",
       "4  https://github.com/javaparser/javaparser  javaparser/javaparser  master   \n",
       "\n",
       "  baseRefPrefix              headRepo                     headRef  ... files  \\\n",
       "0   refs/heads/  turrisxyz/javaparser  Pinned-Dependencies-GitHub  ...     2   \n",
       "1   refs/heads/  turrisxyz/javaparser  Pinned-Dependencies-GitHub  ...     2   \n",
       "2   refs/heads/  turrisxyz/javaparser  Pinned-Dependencies-GitHub  ...     2   \n",
       "3   refs/heads/  turrisxyz/javaparser  Pinned-Dependencies-GitHub  ...     2   \n",
       "4   refs/heads/   iChenLei/javaparser                     patch-1  ...     1   \n",
       "\n",
       "    createdAt  publishedAt mergedAt  closedAt                groupId  \\\n",
       "0  2022-06-26   2022-06-26      NaN       NaN  com.github.javaparser   \n",
       "1  2022-06-26   2022-06-26      NaN       NaN  com.github.javaparser   \n",
       "2  2022-06-26   2022-06-26      NaN       NaN  com.github.javaparser   \n",
       "3  2022-06-26   2022-06-26      NaN       NaN  com.github.javaparser   \n",
       "4  2022-06-17   2022-06-17      NaN       NaN  com.github.javaparser   \n",
       "\n",
       "          artifactId          version  \\\n",
       "0  javaparser-parent  3.24.3-SNAPSHOT   \n",
       "1  javaparser-parent  3.24.3-SNAPSHOT   \n",
       "2  javaparser-parent  3.24.3-SNAPSHOT   \n",
       "3  javaparser-parent  3.24.3-SNAPSHOT   \n",
       "4  javaparser-parent  3.24.3-SNAPSHOT   \n",
       "\n",
       "                                      filePath  timestamp  \n",
       "0  .github/workflows/create_github_release.yml        NaN  \n",
       "1            .github/workflows/maven_tests.yml        NaN  \n",
       "2  .github/workflows/create_github_release.yml        NaN  \n",
       "3            .github/workflows/maven_tests.yml        NaN  \n",
       "4                                    readme.md        NaN  \n",
       "\n",
       "[5 rows x 25 columns]"
      ]
     },
     "execution_count": 2,
     "metadata": {},
     "output_type": "execute_result"
    }
   ],
   "source": [
    "# Paths to datasets\n",
    "prs_vm1_path = '../data/prs-vm1.csv'\n",
    "prs_vm2_path = '../data/prs-vm2.csv'\n",
    "\n",
    "# Combine datasets from different sources\n",
    "df_prs = pd.concat(map(pd.read_csv, [prs_vm1_path, prs_vm2_path]))\n",
    "df_prs.head()"
   ]
  },
  {
   "cell_type": "code",
   "execution_count": 28,
   "id": "0a60c46b-d81a-4e3f-bbd8-25886e3f5cf6",
   "metadata": {},
   "outputs": [
    {
     "data": {
      "text/plain": [
       "0         OPEN\n",
       "1         OPEN\n",
       "2         OPEN\n",
       "3         OPEN\n",
       "4         OPEN\n",
       "          ... \n",
       "564661    OPEN\n",
       "564662    OPEN\n",
       "564663    OPEN\n",
       "564664    OPEN\n",
       "564665    OPEN\n",
       "Name: state, Length: 997289, dtype: object"
      ]
     },
     "execution_count": 28,
     "metadata": {},
     "output_type": "execute_result"
    }
   ],
   "source": [
    "df_prs['state']"
   ]
  },
  {
   "cell_type": "markdown",
   "id": "e9c590dc-70fa-43da-87fe-0450fca66348",
   "metadata": {},
   "source": [
    "## Validate Data"
   ]
  },
  {
   "cell_type": "code",
   "execution_count": 3,
   "id": "51410f61-3a04-4c78-9a03-53f98efad752",
   "metadata": {},
   "outputs": [
    {
     "name": "stdout",
     "output_type": "stream",
     "text": [
      "<class 'pandas.core.frame.DataFrame'>\n",
      "Int64Index: 997289 entries, 0 to 564665\n",
      "Data columns (total 25 columns):\n",
      " #   Column         Non-Null Count   Dtype  \n",
      "---  ------         --------------   -----  \n",
      " 0   cursor         997289 non-null  object \n",
      " 1   owner          997289 non-null  object \n",
      " 2   name           997289 non-null  object \n",
      " 3   sshUrl         997289 non-null  object \n",
      " 4   url            997289 non-null  object \n",
      " 5   baseRepo       997289 non-null  object \n",
      " 6   baseRef        997289 non-null  object \n",
      " 7   baseRefPrefix  997289 non-null  object \n",
      " 8   headRepo       997289 non-null  object \n",
      " 9   headRef        997289 non-null  object \n",
      " 10  headRefPrefix  997289 non-null  object \n",
      " 11  title          997289 non-null  object \n",
      " 12  number         997289 non-null  int64  \n",
      " 13  state          997289 non-null  object \n",
      " 14  draft          997289 non-null  bool   \n",
      " 15  files          997289 non-null  int64  \n",
      " 16  createdAt      997289 non-null  object \n",
      " 17  publishedAt    997289 non-null  object \n",
      " 18  mergedAt       0 non-null       float64\n",
      " 19  closedAt       0 non-null       float64\n",
      " 20  groupId        997289 non-null  object \n",
      " 21  artifactId     997289 non-null  object \n",
      " 22  version        997289 non-null  object \n",
      " 23  filePath       997289 non-null  object \n",
      " 24  timestamp      564666 non-null  object \n",
      "dtypes: bool(1), float64(2), int64(2), object(20)\n",
      "memory usage: 191.2+ MB\n"
     ]
    }
   ],
   "source": [
    "rows, columns = df_prs.shape\n",
    "df_prs.info()"
   ]
  },
  {
   "cell_type": "markdown",
   "id": "7d97dd26-d039-4919-97fd-7ada77c18cf9",
   "metadata": {},
   "source": [
    "All columns seem to have non-null values."
   ]
  },
  {
   "cell_type": "markdown",
   "id": "46b11bd3-c862-4800-bd3e-b1afe258c1e3",
   "metadata": {},
   "source": [
    "### Sanity Checks"
   ]
  },
  {
   "cell_type": "markdown",
   "id": "919ced63-b5b7-4d8d-b9d4-b41a4d9d735b",
   "metadata": {},
   "source": [
    "**Validate `sshUrl` column:** Verify that all SSH URLs are correctly build and match the expected repository owner/name."
   ]
  },
  {
   "cell_type": "code",
   "execution_count": 4,
   "id": "c2477789-8d8c-4b26-8930-aab3737abf26",
   "metadata": {},
   "outputs": [
    {
     "name": "stdout",
     "output_type": "stream",
     "text": [
      "Records have right scheme: True\n",
      "Records have right authority: True\n",
      "Records have right path: True\n"
     ]
    }
   ],
   "source": [
    "ssh_url_check = validate_urls('sshUrl', df_prs)\n",
    "assert ssh_url_check, 'sshUrl check'"
   ]
  },
  {
   "cell_type": "markdown",
   "id": "c83ea651-48ce-4279-8235-74f8ef43a504",
   "metadata": {},
   "source": [
    "**Validate `url` column:** Verify that all HTTP URLs are correctly build and match the expected repository owner/name."
   ]
  },
  {
   "cell_type": "code",
   "execution_count": 5,
   "id": "39649a46-4977-472d-92ce-19bd476219e6",
   "metadata": {},
   "outputs": [
    {
     "name": "stdout",
     "output_type": "stream",
     "text": [
      "Records have right scheme: True\n",
      "Records have right authority: True\n",
      "Records have right path: True\n"
     ]
    }
   ],
   "source": [
    "http_url_check = validate_urls('url', df_prs)\n",
    "assert http_url_check, 'url check'"
   ]
  },
  {
   "cell_type": "markdown",
   "id": "4c0ddcf7-8e6c-4909-942d-e92bb70e05a1",
   "metadata": {},
   "source": [
    "**Validate `baseRepo` column:** Verify that all head repository values follow the format \"owner/name\" and match the expected repository owner/name values."
   ]
  },
  {
   "cell_type": "code",
   "execution_count": 23,
   "id": "05240c02-67ef-4b1c-82e0-e35c90e6daad",
   "metadata": {},
   "outputs": [
    {
     "name": "stdout",
     "output_type": "stream",
     "text": [
      "Records have right repository name: True\n"
     ]
    }
   ],
   "source": [
    "base_repo_check = validate_repo_name('baseRepo', df_prs)\n",
    "assert base_repo_check, 'baseRepo check'"
   ]
  },
  {
   "cell_type": "markdown",
   "id": "7858d600-7a4f-4aab-9482-25d2e2c66c90",
   "metadata": {},
   "source": [
    "**Validate `headRepo` column:** Verify that all head repository values follow the format \"owner/name\"."
   ]
  },
  {
   "cell_type": "code",
   "execution_count": 26,
   "id": "2fcf5b8d-d0aa-4a6c-853c-4ef682f3f89d",
   "metadata": {},
   "outputs": [
    {
     "name": "stdout",
     "output_type": "stream",
     "text": [
      "Records have right repository name: True\n"
     ]
    }
   ],
   "source": [
    "head_repo_check = validate_repo_name_format('headRepo', df_prs)\n",
    "assert head_repo_check, 'headRepo check'"
   ]
  },
  {
   "cell_type": "markdown",
   "id": "0c1354ca-5be8-412e-9ab7-d4946c0ccc9e",
   "metadata": {},
   "source": [
    "**Validate `number` column:** Verify that all records are greater than 0."
   ]
  },
  {
   "cell_type": "code",
   "execution_count": null,
   "id": "c89f4102-f0eb-41ec-b6d4-74f82f741da3",
   "metadata": {},
   "outputs": [],
   "source": [
    "number_check = validate_limit_num(1, 'number', df_prs)\n",
    "assert number_check, 'number check'"
   ]
  },
  {
   "cell_type": "markdown",
   "id": "2039d352-2e00-4d1e-aa86-3973b97cb4a7",
   "metadata": {},
   "source": [
    "**Validate `state` column:** Veridy that all pull requests are open."
   ]
  },
  {
   "cell_type": "code",
   "execution_count": 30,
   "id": "751b7b0d-340d-4380-9021-e58420137143",
   "metadata": {},
   "outputs": [
    {
     "name": "stdout",
     "output_type": "stream",
     "text": [
      "Records have value OPEN: True\n"
     ]
    }
   ],
   "source": [
    "state_check = validate_value('OPEN', 'state', df_prs)\n",
    "assert state_check"
   ]
  },
  {
   "cell_type": "markdown",
   "id": "1a0c36fe-16aa-45f6-a814-0ff0a7f474f2",
   "metadata": {},
   "source": [
    "**Validate `files` column:** Verify that all records are greater than 0."
   ]
  },
  {
   "cell_type": "code",
   "execution_count": 37,
   "id": "2c8597c2-6f15-4436-ae4c-51da6e299d28",
   "metadata": {},
   "outputs": [
    {
     "name": "stdout",
     "output_type": "stream",
     "text": [
      "Records have at least 1: True\n"
     ]
    }
   ],
   "source": [
    "files_check = validate_limit_num(1, 'files', df_prs)\n",
    "assert files_check, 'files check'"
   ]
  },
  {
   "cell_type": "markdown",
   "id": "aa1ac08e-b4a9-4b31-a880-d2990e01e5ce",
   "metadata": {},
   "source": [
    "**Validate `createdAt` column:** Verify that all dates have the expected format \"yyyy-MM-dd\"."
   ]
  },
  {
   "cell_type": "code",
   "execution_count": 44,
   "id": "9b6c3bc4-8526-41fe-96f6-4c5741d4c2de",
   "metadata": {},
   "outputs": [
    {
     "name": "stdout",
     "output_type": "stream",
     "text": [
      "Records have right format: True\n",
      "Records appear after 2022-04-22 00:00:00: False\n",
      "                  cursor    owner     name  \\\n",
      "311606  Y3Vyc29yOjE1Mw==  xuxueli  xxl-job   \n",
      "311607  Y3Vyc29yOjE1Mw==  xuxueli  xxl-job   \n",
      "311608  Y3Vyc29yOjE1Mw==  xuxueli  xxl-job   \n",
      "311609  Y3Vyc29yOjE1Mw==  xuxueli  xxl-job   \n",
      "311610  Y3Vyc29yOjE1Mw==  xuxueli  xxl-job   \n",
      "...                  ...      ...      ...   \n",
      "311895  Y3Vyc29yOjE1Mw==  xuxueli  xxl-job   \n",
      "311896  Y3Vyc29yOjE1Mw==  xuxueli  xxl-job   \n",
      "311897  Y3Vyc29yOjE1Mw==  xuxueli  xxl-job   \n",
      "311898  Y3Vyc29yOjE1Mw==  xuxueli  xxl-job   \n",
      "311899  Y3Vyc29yOjE1Mw==  xuxueli  xxl-job   \n",
      "\n",
      "                                          sshUrl  \\\n",
      "311606  ssh://git@github.com:xuxueli/xxl-job.git   \n",
      "311607  ssh://git@github.com:xuxueli/xxl-job.git   \n",
      "311608  ssh://git@github.com:xuxueli/xxl-job.git   \n",
      "311609  ssh://git@github.com:xuxueli/xxl-job.git   \n",
      "311610  ssh://git@github.com:xuxueli/xxl-job.git   \n",
      "...                                          ...   \n",
      "311895  ssh://git@github.com:xuxueli/xxl-job.git   \n",
      "311896  ssh://git@github.com:xuxueli/xxl-job.git   \n",
      "311897  ssh://git@github.com:xuxueli/xxl-job.git   \n",
      "311898  ssh://git@github.com:xuxueli/xxl-job.git   \n",
      "311899  ssh://git@github.com:xuxueli/xxl-job.git   \n",
      "\n",
      "                                       url         baseRepo baseRef  \\\n",
      "311606  https://github.com/xuxueli/xxl-job  xuxueli/xxl-job  master   \n",
      "311607  https://github.com/xuxueli/xxl-job  xuxueli/xxl-job  master   \n",
      "311608  https://github.com/xuxueli/xxl-job  xuxueli/xxl-job  master   \n",
      "311609  https://github.com/xuxueli/xxl-job  xuxueli/xxl-job  master   \n",
      "311610  https://github.com/xuxueli/xxl-job  xuxueli/xxl-job  master   \n",
      "...                                    ...              ...     ...   \n",
      "311895  https://github.com/xuxueli/xxl-job  xuxueli/xxl-job  master   \n",
      "311896  https://github.com/xuxueli/xxl-job  xuxueli/xxl-job  master   \n",
      "311897  https://github.com/xuxueli/xxl-job  xuxueli/xxl-job  master   \n",
      "311898  https://github.com/xuxueli/xxl-job  xuxueli/xxl-job  master   \n",
      "311899  https://github.com/xuxueli/xxl-job  xuxueli/xxl-job  master   \n",
      "\n",
      "       baseRefPrefix          headRepo                         headRef  ...  \\\n",
      "311606   refs/heads/  cszxyang/xxl-job  feature_20220421_job_interrupt  ...   \n",
      "311607   refs/heads/  cszxyang/xxl-job  feature_20220421_job_interrupt  ...   \n",
      "311608   refs/heads/  cszxyang/xxl-job  feature_20220421_job_interrupt  ...   \n",
      "311609   refs/heads/  cszxyang/xxl-job  feature_20220421_job_interrupt  ...   \n",
      "311610   refs/heads/  cszxyang/xxl-job  feature_20220421_job_interrupt  ...   \n",
      "...              ...               ...                             ...  ...   \n",
      "311895   refs/heads/  cszxyang/xxl-job  feature_20220421_job_interrupt  ...   \n",
      "311896   refs/heads/  cszxyang/xxl-job  feature_20220421_job_interrupt  ...   \n",
      "311897   refs/heads/  cszxyang/xxl-job  feature_20220421_job_interrupt  ...   \n",
      "311898   refs/heads/  cszxyang/xxl-job  feature_20220421_job_interrupt  ...   \n",
      "311899   refs/heads/  cszxyang/xxl-job  feature_20220421_job_interrupt  ...   \n",
      "\n",
      "       files   createdAt  publishedAt mergedAt  closedAt      groupId  \\\n",
      "311606    14  2022-04-21   2022-04-21      NaN       NaN  com.xuxueli   \n",
      "311607    14  2022-04-21   2022-04-21      NaN       NaN  com.xuxueli   \n",
      "311608    14  2022-04-21   2022-04-21      NaN       NaN  com.xuxueli   \n",
      "311609    14  2022-04-21   2022-04-21      NaN       NaN  com.xuxueli   \n",
      "311610    14  2022-04-21   2022-04-21      NaN       NaN  com.xuxueli   \n",
      "...      ...         ...          ...      ...       ...          ...   \n",
      "311895    14  2022-04-21   2022-04-21      NaN       NaN  com.xuxueli   \n",
      "311896    14  2022-04-21   2022-04-21      NaN       NaN  com.xuxueli   \n",
      "311897    14  2022-04-21   2022-04-21      NaN       NaN  com.xuxueli   \n",
      "311898    14  2022-04-21   2022-04-21      NaN       NaN  com.xuxueli   \n",
      "311899    14  2022-04-21   2022-04-21      NaN       NaN  com.xuxueli   \n",
      "\n",
      "           artifactId         version  \\\n",
      "311606  xxl-job-admin  2.4.0-SNAPSHOT   \n",
      "311607  xxl-job-admin  2.4.0-SNAPSHOT   \n",
      "311608  xxl-job-admin  2.4.0-SNAPSHOT   \n",
      "311609  xxl-job-admin  2.4.0-SNAPSHOT   \n",
      "311610  xxl-job-admin  2.4.0-SNAPSHOT   \n",
      "...               ...             ...   \n",
      "311895   xxl-job-core  2.4.0-SNAPSHOT   \n",
      "311896   xxl-job-core  2.4.0-SNAPSHOT   \n",
      "311897   xxl-job-core  2.4.0-SNAPSHOT   \n",
      "311898   xxl-job-core  2.4.0-SNAPSHOT   \n",
      "311899   xxl-job-core  2.4.0-SNAPSHOT   \n",
      "\n",
      "                                                 filePath  \\\n",
      "311606  xxl-job-admin/src/main/java/com/xxl/job/admin/...   \n",
      "311607  xxl-job-admin/src/main/java/com/xxl/job/admin/...   \n",
      "311608  xxl-job-admin/src/main/java/com/xxl/job/admin/...   \n",
      "311609  xxl-job-admin/src/main/resources/i18n/message_...   \n",
      "311610  xxl-job-admin/src/main/resources/i18n/message_...   \n",
      "...                                                   ...   \n",
      "311895  xxl-job-core/src/main/java/com/xxl/job/core/bi...   \n",
      "311896  xxl-job-core/src/main/java/com/xxl/job/core/bi...   \n",
      "311897  xxl-job-core/src/main/java/com/xxl/job/core/ex...   \n",
      "311898  xxl-job-core/src/main/java/com/xxl/job/core/se...   \n",
      "311899  xxl-job-core/src/main/java/com/xxl/job/core/th...   \n",
      "\n",
      "                            timestamp  \n",
      "311606  2022-08-05T06:39:46.543970768  \n",
      "311607  2022-08-05T06:39:46.543970768  \n",
      "311608  2022-08-05T06:39:46.543970768  \n",
      "311609  2022-08-05T06:39:46.543970768  \n",
      "311610  2022-08-05T06:39:46.543970768  \n",
      "...                               ...  \n",
      "311895  2022-08-05T06:39:46.543970768  \n",
      "311896  2022-08-05T06:39:46.543970768  \n",
      "311897  2022-08-05T06:39:46.543970768  \n",
      "311898  2022-08-05T06:39:46.543970768  \n",
      "311899  2022-08-05T06:39:46.543970768  \n",
      "\n",
      "[294 rows x 25 columns]\n",
      "Records appear before 2022-08-07 21:11:31.964189: True\n"
     ]
    },
    {
     "ename": "AssertionError",
     "evalue": "createdAt check",
     "output_type": "error",
     "traceback": [
      "\u001b[0;31m---------------------------------------------------------------------------\u001b[0m",
      "\u001b[0;31mAssertionError\u001b[0m                            Traceback (most recent call last)",
      "\u001b[0;32m/tmp/ipykernel_27767/43700388.py\u001b[0m in \u001b[0;36m<module>\u001b[0;34m\u001b[0m\n\u001b[1;32m      2\u001b[0m \u001b[0mcreated_at_check\u001b[0m \u001b[0;34m=\u001b[0m \u001b[0mvalidate_date\u001b[0m\u001b[0;34m(\u001b[0m\u001b[0;34m'createdAt'\u001b[0m\u001b[0;34m,\u001b[0m \u001b[0mdf_prs\u001b[0m\u001b[0;34m)\u001b[0m\u001b[0;34m\u001b[0m\u001b[0;34m\u001b[0m\u001b[0m\n\u001b[1;32m      3\u001b[0m \u001b[0mcreated_at_limit_check\u001b[0m \u001b[0;34m=\u001b[0m \u001b[0mvalidate_limit_date\u001b[0m\u001b[0;34m(\u001b[0m\u001b[0mlast_created_date\u001b[0m\u001b[0;34m,\u001b[0m \u001b[0;34m'createdAt'\u001b[0m\u001b[0;34m,\u001b[0m \u001b[0mdf_prs\u001b[0m\u001b[0;34m)\u001b[0m\u001b[0;34m\u001b[0m\u001b[0;34m\u001b[0m\u001b[0m\n\u001b[0;32m----> 4\u001b[0;31m \u001b[0;32massert\u001b[0m \u001b[0mcreated_at_check\u001b[0m \u001b[0;32mand\u001b[0m \u001b[0mcreated_at_limit_check\u001b[0m\u001b[0;34m,\u001b[0m \u001b[0;34m'createdAt check'\u001b[0m\u001b[0;34m\u001b[0m\u001b[0;34m\u001b[0m\u001b[0m\n\u001b[0m",
      "\u001b[0;31mAssertionError\u001b[0m: createdAt check"
     ]
    }
   ],
   "source": [
    "last_created_date = datetime(2022, 4, 22)\n",
    "created_at_check = validate_date('createdAt', df_prs)\n",
    "created_at_limit_check = validate_limit_date(last_created_date, 'createdAt', df_prs)\n",
    "assert created_at_check and created_at_limit_check, 'createdAt check'"
   ]
  },
  {
   "cell_type": "markdown",
   "id": "7888403c-8b67-4f8f-b4ee-9495157ed150",
   "metadata": {},
   "source": [
    "**Validate `pushedAt` column:** Verify that all dates have the expected format \"yyyy-MM-dd\" and appear after a limit date."
   ]
  },
  {
   "cell_type": "code",
   "execution_count": 40,
   "id": "5ae4fe77-3027-4059-bb9a-ce0492650190",
   "metadata": {},
   "outputs": [
    {
     "ename": "KeyError",
     "evalue": "'pushedAt'",
     "output_type": "error",
     "traceback": [
      "\u001b[0;31m---------------------------------------------------------------------------\u001b[0m",
      "\u001b[0;31mKeyError\u001b[0m                                  Traceback (most recent call last)",
      "\u001b[0;32m~/.local/lib/python3.9/site-packages/pandas/core/indexes/base.py\u001b[0m in \u001b[0;36mget_loc\u001b[0;34m(self, key, method, tolerance)\u001b[0m\n\u001b[1;32m   3620\u001b[0m             \u001b[0;32mtry\u001b[0m\u001b[0;34m:\u001b[0m\u001b[0;34m\u001b[0m\u001b[0;34m\u001b[0m\u001b[0m\n\u001b[0;32m-> 3621\u001b[0;31m                 \u001b[0;32mreturn\u001b[0m \u001b[0mself\u001b[0m\u001b[0;34m.\u001b[0m\u001b[0m_engine\u001b[0m\u001b[0;34m.\u001b[0m\u001b[0mget_loc\u001b[0m\u001b[0;34m(\u001b[0m\u001b[0mcasted_key\u001b[0m\u001b[0;34m)\u001b[0m\u001b[0;34m\u001b[0m\u001b[0;34m\u001b[0m\u001b[0m\n\u001b[0m\u001b[1;32m   3622\u001b[0m             \u001b[0;32mexcept\u001b[0m \u001b[0mKeyError\u001b[0m \u001b[0;32mas\u001b[0m \u001b[0merr\u001b[0m\u001b[0;34m:\u001b[0m\u001b[0;34m\u001b[0m\u001b[0;34m\u001b[0m\u001b[0m\n",
      "\u001b[0;32m~/.local/lib/python3.9/site-packages/pandas/_libs/index.pyx\u001b[0m in \u001b[0;36mpandas._libs.index.IndexEngine.get_loc\u001b[0;34m()\u001b[0m\n",
      "\u001b[0;32m~/.local/lib/python3.9/site-packages/pandas/_libs/index.pyx\u001b[0m in \u001b[0;36mpandas._libs.index.IndexEngine.get_loc\u001b[0;34m()\u001b[0m\n",
      "\u001b[0;32mpandas/_libs/hashtable_class_helper.pxi\u001b[0m in \u001b[0;36mpandas._libs.hashtable.PyObjectHashTable.get_item\u001b[0;34m()\u001b[0m\n",
      "\u001b[0;32mpandas/_libs/hashtable_class_helper.pxi\u001b[0m in \u001b[0;36mpandas._libs.hashtable.PyObjectHashTable.get_item\u001b[0;34m()\u001b[0m\n",
      "\u001b[0;31mKeyError\u001b[0m: 'pushedAt'",
      "\nThe above exception was the direct cause of the following exception:\n",
      "\u001b[0;31mKeyError\u001b[0m                                  Traceback (most recent call last)",
      "\u001b[0;32m/tmp/ipykernel_27767/2008578840.py\u001b[0m in \u001b[0;36m<module>\u001b[0;34m\u001b[0m\n\u001b[1;32m      1\u001b[0m \u001b[0mlast_pushed_date\u001b[0m \u001b[0;34m=\u001b[0m \u001b[0mdatetime\u001b[0m\u001b[0;34m(\u001b[0m\u001b[0;36m2022\u001b[0m\u001b[0;34m,\u001b[0m \u001b[0;36m4\u001b[0m\u001b[0;34m,\u001b[0m \u001b[0;36m22\u001b[0m\u001b[0;34m)\u001b[0m\u001b[0;34m\u001b[0m\u001b[0;34m\u001b[0m\u001b[0m\n\u001b[0;32m----> 2\u001b[0;31m \u001b[0mpushed_at_format_check\u001b[0m \u001b[0;34m=\u001b[0m \u001b[0mvalidate_date\u001b[0m\u001b[0;34m(\u001b[0m\u001b[0;34m'pushedAt'\u001b[0m\u001b[0;34m,\u001b[0m \u001b[0mdf_prs\u001b[0m\u001b[0;34m)\u001b[0m\u001b[0;34m\u001b[0m\u001b[0;34m\u001b[0m\u001b[0m\n\u001b[0m\u001b[1;32m      3\u001b[0m \u001b[0mpushed_at_limit_check\u001b[0m \u001b[0;34m=\u001b[0m \u001b[0mvalidate_limit_date\u001b[0m\u001b[0;34m(\u001b[0m\u001b[0mlast_pushed_date\u001b[0m\u001b[0;34m,\u001b[0m \u001b[0;34m'pushedAt'\u001b[0m\u001b[0;34m,\u001b[0m \u001b[0mdf_prs\u001b[0m\u001b[0;34m)\u001b[0m\u001b[0;34m\u001b[0m\u001b[0;34m\u001b[0m\u001b[0m\n\u001b[1;32m      4\u001b[0m \u001b[0;32massert\u001b[0m \u001b[0mpushed_at_format_check\u001b[0m \u001b[0;32mand\u001b[0m \u001b[0mpushed_at_limit_check\u001b[0m\u001b[0;34m,\u001b[0m \u001b[0;34m'pushedAt check'\u001b[0m\u001b[0;34m\u001b[0m\u001b[0;34m\u001b[0m\u001b[0m\n",
      "\u001b[0;32m~/Documents/code/maracas/experiments/notebooks/data_preparation.py\u001b[0m in \u001b[0;36mvalidate_date\u001b[0;34m(date_col, df)\u001b[0m\n\u001b[1;32m     81\u001b[0m         \u001b[0;32mraise\u001b[0m \u001b[0mValueError\u001b[0m\u001b[0;34m(\u001b[0m\u001b[0;34m'Invalid date_col value'\u001b[0m\u001b[0;34m)\u001b[0m\u001b[0;34m\u001b[0m\u001b[0;34m\u001b[0m\u001b[0m\n\u001b[1;32m     82\u001b[0m \u001b[0;34m\u001b[0m\u001b[0m\n\u001b[0;32m---> 83\u001b[0;31m     \u001b[0mmask\u001b[0m \u001b[0;34m=\u001b[0m \u001b[0mdf\u001b[0m\u001b[0;34m[\u001b[0m\u001b[0mdate_col\u001b[0m\u001b[0;34m]\u001b[0m\u001b[0;34m.\u001b[0m\u001b[0mstr\u001b[0m\u001b[0;34m.\u001b[0m\u001b[0mmatch\u001b[0m\u001b[0;34m(\u001b[0m\u001b[0;34m'^\\d{4}-\\d{2}-\\d{2}'\u001b[0m\u001b[0;34m)\u001b[0m\u001b[0;34m\u001b[0m\u001b[0;34m\u001b[0m\u001b[0m\n\u001b[0m\u001b[1;32m     84\u001b[0m     \u001b[0mformat_check\u001b[0m \u001b[0;34m=\u001b[0m \u001b[0mmask\u001b[0m\u001b[0;34m.\u001b[0m\u001b[0mall\u001b[0m\u001b[0;34m(\u001b[0m\u001b[0;34m)\u001b[0m\u001b[0;34m\u001b[0m\u001b[0;34m\u001b[0m\u001b[0m\n\u001b[1;32m     85\u001b[0m     \u001b[0mprint\u001b[0m\u001b[0;34m(\u001b[0m\u001b[0;34mf'Records have right format: {format_check}'\u001b[0m\u001b[0;34m)\u001b[0m\u001b[0;34m\u001b[0m\u001b[0;34m\u001b[0m\u001b[0m\n",
      "\u001b[0;32m~/.local/lib/python3.9/site-packages/pandas/core/frame.py\u001b[0m in \u001b[0;36m__getitem__\u001b[0;34m(self, key)\u001b[0m\n\u001b[1;32m   3503\u001b[0m             \u001b[0;32mif\u001b[0m \u001b[0mself\u001b[0m\u001b[0;34m.\u001b[0m\u001b[0mcolumns\u001b[0m\u001b[0;34m.\u001b[0m\u001b[0mnlevels\u001b[0m \u001b[0;34m>\u001b[0m \u001b[0;36m1\u001b[0m\u001b[0;34m:\u001b[0m\u001b[0;34m\u001b[0m\u001b[0;34m\u001b[0m\u001b[0m\n\u001b[1;32m   3504\u001b[0m                 \u001b[0;32mreturn\u001b[0m \u001b[0mself\u001b[0m\u001b[0;34m.\u001b[0m\u001b[0m_getitem_multilevel\u001b[0m\u001b[0;34m(\u001b[0m\u001b[0mkey\u001b[0m\u001b[0;34m)\u001b[0m\u001b[0;34m\u001b[0m\u001b[0;34m\u001b[0m\u001b[0m\n\u001b[0;32m-> 3505\u001b[0;31m             \u001b[0mindexer\u001b[0m \u001b[0;34m=\u001b[0m \u001b[0mself\u001b[0m\u001b[0;34m.\u001b[0m\u001b[0mcolumns\u001b[0m\u001b[0;34m.\u001b[0m\u001b[0mget_loc\u001b[0m\u001b[0;34m(\u001b[0m\u001b[0mkey\u001b[0m\u001b[0;34m)\u001b[0m\u001b[0;34m\u001b[0m\u001b[0;34m\u001b[0m\u001b[0m\n\u001b[0m\u001b[1;32m   3506\u001b[0m             \u001b[0;32mif\u001b[0m \u001b[0mis_integer\u001b[0m\u001b[0;34m(\u001b[0m\u001b[0mindexer\u001b[0m\u001b[0;34m)\u001b[0m\u001b[0;34m:\u001b[0m\u001b[0;34m\u001b[0m\u001b[0;34m\u001b[0m\u001b[0m\n\u001b[1;32m   3507\u001b[0m                 \u001b[0mindexer\u001b[0m \u001b[0;34m=\u001b[0m \u001b[0;34m[\u001b[0m\u001b[0mindexer\u001b[0m\u001b[0;34m]\u001b[0m\u001b[0;34m\u001b[0m\u001b[0;34m\u001b[0m\u001b[0m\n",
      "\u001b[0;32m~/.local/lib/python3.9/site-packages/pandas/core/indexes/base.py\u001b[0m in \u001b[0;36mget_loc\u001b[0;34m(self, key, method, tolerance)\u001b[0m\n\u001b[1;32m   3621\u001b[0m                 \u001b[0;32mreturn\u001b[0m \u001b[0mself\u001b[0m\u001b[0;34m.\u001b[0m\u001b[0m_engine\u001b[0m\u001b[0;34m.\u001b[0m\u001b[0mget_loc\u001b[0m\u001b[0;34m(\u001b[0m\u001b[0mcasted_key\u001b[0m\u001b[0;34m)\u001b[0m\u001b[0;34m\u001b[0m\u001b[0;34m\u001b[0m\u001b[0m\n\u001b[1;32m   3622\u001b[0m             \u001b[0;32mexcept\u001b[0m \u001b[0mKeyError\u001b[0m \u001b[0;32mas\u001b[0m \u001b[0merr\u001b[0m\u001b[0;34m:\u001b[0m\u001b[0;34m\u001b[0m\u001b[0;34m\u001b[0m\u001b[0m\n\u001b[0;32m-> 3623\u001b[0;31m                 \u001b[0;32mraise\u001b[0m \u001b[0mKeyError\u001b[0m\u001b[0;34m(\u001b[0m\u001b[0mkey\u001b[0m\u001b[0;34m)\u001b[0m \u001b[0;32mfrom\u001b[0m \u001b[0merr\u001b[0m\u001b[0;34m\u001b[0m\u001b[0;34m\u001b[0m\u001b[0m\n\u001b[0m\u001b[1;32m   3624\u001b[0m             \u001b[0;32mexcept\u001b[0m \u001b[0mTypeError\u001b[0m\u001b[0;34m:\u001b[0m\u001b[0;34m\u001b[0m\u001b[0;34m\u001b[0m\u001b[0m\n\u001b[1;32m   3625\u001b[0m                 \u001b[0;31m# If we have a listlike key, _check_indexing_error will raise\u001b[0m\u001b[0;34m\u001b[0m\u001b[0;34m\u001b[0m\u001b[0;34m\u001b[0m\u001b[0m\n",
      "\u001b[0;31mKeyError\u001b[0m: 'pushedAt'"
     ]
    }
   ],
   "source": [
    "last_pushed_date = datetime(2022, 4, 22)\n",
    "pushed_at_format_check = validate_date('pushedAt', df_prs)\n",
    "pushed_at_limit_check = validate_limit_date(last_pushed_date, 'pushedAt', df_prs)\n",
    "assert pushed_at_format_check and pushed_at_limit_check, 'pushedAt check'"
   ]
  },
  {
   "cell_type": "markdown",
   "id": "6bc2af5b-365d-49e5-b601-2a26ffb5bd02",
   "metadata": {},
   "source": [
    "## Clean Dataset"
   ]
  },
  {
   "cell_type": "code",
   "execution_count": 31,
   "id": "7777b4e3-6001-4837-95e4-f429bab047d4",
   "metadata": {},
   "outputs": [],
   "source": [
    "# Remove non java files\n",
    "# Shall we discard draft pull requests?"
   ]
  },
  {
   "cell_type": "markdown",
   "id": "bfef048d-7c98-4fd5-9ebc-8c2d3e683110",
   "metadata": {},
   "source": [
    "## Store Cleaned Dataset"
   ]
  },
  {
   "cell_type": "code",
   "execution_count": null,
   "id": "bfc35835-7289-4bec-8af7-d86eede353dc",
   "metadata": {},
   "outputs": [],
   "source": []
  }
 ],
 "metadata": {
  "kernelspec": {
   "display_name": "Python 3 (ipykernel)",
   "language": "python",
   "name": "python3"
  },
  "language_info": {
   "codemirror_mode": {
    "name": "ipython",
    "version": 3
   },
   "file_extension": ".py",
   "mimetype": "text/x-python",
   "name": "python",
   "nbconvert_exporter": "python",
   "pygments_lexer": "ipython3",
   "version": "3.9.5"
  }
 },
 "nbformat": 4,
 "nbformat_minor": 5
}
