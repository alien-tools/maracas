{
 "cells": [
  {
   "cell_type": "markdown",
   "id": "3075f040-68c9-4e3c-a4b1-a83db2e53487",
   "metadata": {},
   "source": [
    "# TSE Data Analysis"
   ]
  },
  {
   "cell_type": "code",
   "execution_count": 5,
   "id": "7b62d27f-a18e-4910-a676-cd3dcf306d90",
   "metadata": {},
   "outputs": [
    {
     "name": "stderr",
     "output_type": "stream",
     "text": [
      "\n",
      "Attaching package: ‘dplyr’\n",
      "\n",
      "\n",
      "The following objects are masked from ‘package:stats’:\n",
      "\n",
      "    filter, lag\n",
      "\n",
      "\n",
      "The following objects are masked from ‘package:base’:\n",
      "\n",
      "    intersect, setdiff, setequal, union\n",
      "\n",
      "\n"
     ]
    }
   ],
   "source": [
    "library(dplyr)\n",
    "library(ggplot2)"
   ]
  },
  {
   "cell_type": "code",
   "execution_count": 17,
   "id": "971e49ee-5438-4bbe-a083-2a766c5684db",
   "metadata": {},
   "outputs": [
    {
     "data": {
      "text/html": [
       "3786"
      ],
      "text/latex": [
       "3786"
      ],
      "text/markdown": [
       "3786"
      ],
      "text/plain": [
       "[1] 3786"
      ]
     },
     "metadata": {},
     "output_type": "display_data"
    },
    {
     "data": {
      "text/html": [
       "<table class=\"dataframe\">\n",
       "<caption>A data.frame: 6 × 31</caption>\n",
       "<thead>\n",
       "\t<tr><th></th><th scope=col>X</th><th scope=col>owner</th><th scope=col>name</th><th scope=col>number</th><th scope=col>cursor</th><th scope=col>repoUrl</th><th scope=col>clients</th><th scope=col>prUrl</th><th scope=col>title</th><th scope=col>state</th><th scope=col>⋯</th><th scope=col>base</th><th scope=col>breakingChanges</th><th scope=col>brokenClients</th><th scope=col>brokenUses</th><th scope=col>changedFiles</th><th scope=col>checkedClients</th><th scope=col>errors</th><th scope=col>head</th><th scope=col>impactedPackages</th><th scope=col>seconds</th></tr>\n",
       "\t<tr><th></th><th scope=col>&lt;int&gt;</th><th scope=col>&lt;fct&gt;</th><th scope=col>&lt;fct&gt;</th><th scope=col>&lt;int&gt;</th><th scope=col>&lt;fct&gt;</th><th scope=col>&lt;fct&gt;</th><th scope=col>&lt;int&gt;</th><th scope=col>&lt;fct&gt;</th><th scope=col>&lt;fct&gt;</th><th scope=col>&lt;fct&gt;</th><th scope=col>⋯</th><th scope=col>&lt;fct&gt;</th><th scope=col>&lt;int&gt;</th><th scope=col>&lt;int&gt;</th><th scope=col>&lt;int&gt;</th><th scope=col>&lt;int&gt;</th><th scope=col>&lt;int&gt;</th><th scope=col>&lt;fct&gt;</th><th scope=col>&lt;fct&gt;</th><th scope=col>&lt;int&gt;</th><th scope=col>&lt;int&gt;</th></tr>\n",
       "</thead>\n",
       "<tbody>\n",
       "\t<tr><th scope=row>1</th><td>1</td><td>abel533</td><td>Mapper</td><td>245</td><td>Y3Vyc29yOjIwMA==</td><td>https://github.com/abel533/Mapper</td><td>53441</td><td>https://github.com/abel533/Mapper/pull/245</td><td><span style=white-space:pre-wrap>添加别名                                 </span></td><td>OPEN</td><td>⋯</td><td>master</td><td>0</td><td>0</td><td>0</td><td>7</td><td>0</td><td><span style=white-space:pre-wrap>null[package] failed (1): [ERROR] COMPILATION ERROR : [ERROR] Source option 6 is no longer supported. Use 7 or later.[ERROR] Target option 6 is no longer supported. Use 7 or later.[ERROR] Failed to execute goal org.apache.maven.plugins:maven-compiler-plugin:3.1:compile (default-compile) on project mapper-core: Compilation failure: Compilation failure: [ERROR] Source option 6 is no longer supported. Use 7 or later.[ERROR] Target option 6 is no longer supported. Use 7 or later.[ERROR] -&gt; [Help 1][ERROR] [ERROR] To see the full stack trace of the errors, re-run Maven with the -e switch.[ERROR] Re-run Maven using the -X switch to enable full debug logging.[ERROR] [ERROR] For more information about the errors and possible solutions, please read the following articles:[ERROR] [Help 1] http://cwiki.apache.org/confluence/display/MAVEN/MojoFailureException                                                                                                                             </span></td><td><span style=white-space:pre-wrap>master                 </span></td><td>1</td><td>5</td></tr>\n",
       "\t<tr><th scope=row>2</th><td>2</td><td>abel533</td><td>Mapper</td><td>577</td><td>Y3Vyc29yOjIwMA==</td><td>https://github.com/abel533/Mapper</td><td>53441</td><td>https://github.com/abel533/Mapper/pull/577</td><td><span style=white-space:pre-wrap>Update SqlHelper.java                    </span></td><td>OPEN</td><td>⋯</td><td>master</td><td>0</td><td>0</td><td>0</td><td>1</td><td>0</td><td><span style=white-space:pre-wrap>null[package] failed (1): [ERROR] COMPILATION ERROR : [ERROR] Source option 6 is no longer supported. Use 7 or later.[ERROR] Target option 6 is no longer supported. Use 7 or later.[ERROR] Failed to execute goal org.apache.maven.plugins:maven-compiler-plugin:3.1:compile (default-compile) on project mapper-core: Compilation failure: Compilation failure: [ERROR] Source option 6 is no longer supported. Use 7 or later.[ERROR] Target option 6 is no longer supported. Use 7 or later.[ERROR] -&gt; [Help 1][ERROR] [ERROR] To see the full stack trace of the errors, re-run Maven with the -e switch.[ERROR] Re-run Maven using the -X switch to enable full debug logging.[ERROR] [ERROR] For more information about the errors and possible solutions, please read the following articles:[ERROR] [Help 1] http://cwiki.apache.org/confluence/display/MAVEN/MojoFailureException[ERROR] [ERROR] After correcting the problems, you can resume the build with the command[ERROR]   mvn &lt;args&gt; -rf :mapper-core</span></td><td><span style=white-space:pre-wrap>stotem-patch-1         </span></td><td>1</td><td>5</td></tr>\n",
       "\t<tr><th scope=row>3</th><td>3</td><td>abel533</td><td>Mapper</td><td>647</td><td>Y3Vyc29yOjIwMA==</td><td>https://github.com/abel533/Mapper</td><td>53441</td><td>https://github.com/abel533/Mapper/pull/647</td><td><span style=white-space:pre-wrap>增加指定字段强制更新(包含null)方法       </span></td><td>OPEN</td><td>⋯</td><td>master</td><td>0</td><td>0</td><td>0</td><td>2</td><td>0</td><td><span style=white-space:pre-wrap>null[package] failed (1): [ERROR] COMPILATION ERROR : [ERROR] Source option 6 is no longer supported. Use 7 or later.[ERROR] Target option 6 is no longer supported. Use 7 or later.[ERROR] Failed to execute goal org.apache.maven.plugins:maven-compiler-plugin:3.1:compile (default-compile) on project mapper-core: Compilation failure: Compilation failure: [ERROR] Source option 6 is no longer supported. Use 7 or later.[ERROR] Target option 6 is no longer supported. Use 7 or later.[ERROR] -&gt; [Help 1][ERROR] [ERROR] To see the full stack trace of the errors, re-run Maven with the -e switch.[ERROR] Re-run Maven using the -X switch to enable full debug logging.[ERROR] [ERROR] For more information about the errors and possible solutions, please read the following articles:[ERROR] [Help 1] http://cwiki.apache.org/confluence/display/MAVEN/MojoFailureException[ERROR] [ERROR] After correcting the problems, you can resume the build with the command[ERROR]   mvn &lt;args&gt; -rf :mapper-core</span></td><td><span style=white-space:pre-wrap>force                  </span></td><td>1</td><td>5</td></tr>\n",
       "\t<tr><th scope=row>4</th><td>4</td><td>abel533</td><td>Mapper</td><td>741</td><td>Y3Vyc29yOjIwMA==</td><td>https://github.com/abel533/Mapper</td><td>53441</td><td>https://github.com/abel533/Mapper/pull/741</td><td>Feat:增加批量update功能                  </td><td>OPEN</td><td>⋯</td><td>master</td><td>0</td><td>0</td><td>0</td><td>6</td><td>0</td><td>                                                                                                                                                                                                                                                                                                                                                                                                                                                                                                                                                                                                                                                                                                                                                                                                                                                                                                                                                                                                                        </td><td>master                 </td><td>0</td><td>3</td></tr>\n",
       "\t<tr><th scope=row>5</th><td>5</td><td>abel533</td><td>Mapper</td><td>743</td><td>Y3Vyc29yOjIwMA==</td><td>https://github.com/abel533/Mapper</td><td>53441</td><td>https://github.com/abel533/Mapper/pull/743</td><td><span style=white-space:pre-wrap>修复 AggregationProvider 的问题          </span></td><td>OPEN</td><td>⋯</td><td>master</td><td>0</td><td>0</td><td>0</td><td>5</td><td>0</td><td><span style=white-space:pre-wrap>null[package] failed (1): [ERROR] COMPILATION ERROR : [ERROR] Source option 6 is no longer supported. Use 7 or later.[ERROR] Target option 6 is no longer supported. Use 7 or later.[ERROR] Failed to execute goal org.apache.maven.plugins:maven-compiler-plugin:3.1:compile (default-compile) on project mapper-core: Compilation failure: Compilation failure: [ERROR] Source option 6 is no longer supported. Use 7 or later.[ERROR] Target option 6 is no longer supported. Use 7 or later.[ERROR] -&gt; [Help 1][ERROR] [ERROR] To see the full stack trace of the errors, re-run Maven with the -e switch.[ERROR] Re-run Maven using the -X switch to enable full debug logging.[ERROR] [ERROR] For more information about the errors and possible solutions, please read the following articles:[ERROR] [Help 1] http://cwiki.apache.org/confluence/display/MAVEN/MojoFailureException[ERROR] [ERROR] After correcting the problems, you can resume the build with the command[ERROR]   mvn &lt;args&gt; -rf :mapper-core</span></td><td>Fix_AggregationProvider</td><td>1</td><td>6</td></tr>\n",
       "\t<tr><th scope=row>6</th><td>6</td><td>abel533</td><td>Mapper</td><td>793</td><td>Y3Vyc29yOjIwMA==</td><td>https://github.com/abel533/Mapper</td><td>53441</td><td>https://github.com/abel533/Mapper/pull/793</td><td>feat:新增根据实体中的属性进行查询指定属性</td><td>OPEN</td><td>⋯</td><td>master</td><td>0</td><td>0</td><td>0</td><td>2</td><td>0</td><td>                                                                                                                                                                                                                                                                                                                                                                                                                                                                                                                                                                                                                                                                                                                                                                                                                                                                                                                                                                                                                        </td><td>master                 </td><td>0</td><td>2</td></tr>\n",
       "</tbody>\n",
       "</table>\n"
      ],
      "text/latex": [
       "A data.frame: 6 × 31\n",
       "\\begin{tabular}{r|lllllllllllllllllllll}\n",
       "  & X & owner & name & number & cursor & repoUrl & clients & prUrl & title & state & ⋯ & base & breakingChanges & brokenClients & brokenUses & changedFiles & checkedClients & errors & head & impactedPackages & seconds\\\\\n",
       "  & <int> & <fct> & <fct> & <int> & <fct> & <fct> & <int> & <fct> & <fct> & <fct> & ⋯ & <fct> & <int> & <int> & <int> & <int> & <int> & <fct> & <fct> & <int> & <int>\\\\\n",
       "\\hline\n",
       "\t1 & 1 & abel533 & Mapper & 245 & Y3Vyc29yOjIwMA== & https://github.com/abel533/Mapper & 53441 & https://github.com/abel533/Mapper/pull/245 & 添加别名                                  & OPEN & ⋯ & master & 0 & 0 & 0 & 7 & 0 & null{[}package{]} failed (1): {[}ERROR{]} COMPILATION ERROR : {[}ERROR{]} Source option 6 is no longer supported. Use 7 or later.{[}ERROR{]} Target option 6 is no longer supported. Use 7 or later.{[}ERROR{]} Failed to execute goal org.apache.maven.plugins:maven-compiler-plugin:3.1:compile (default-compile) on project mapper-core: Compilation failure: Compilation failure: {[}ERROR{]} Source option 6 is no longer supported. Use 7 or later.{[}ERROR{]} Target option 6 is no longer supported. Use 7 or later.{[}ERROR{]} -> {[}Help 1{]}{[}ERROR{]} {[}ERROR{]} To see the full stack trace of the errors, re-run Maven with the -e switch.{[}ERROR{]} Re-run Maven using the -X switch to enable full debug logging.{[}ERROR{]} {[}ERROR{]} For more information about the errors and possible solutions, please read the following articles:{[}ERROR{]} {[}Help 1{]} http://cwiki.apache.org/confluence/display/MAVEN/MojoFailureException                                                                                                                              & master                  & 1 & 5\\\\\n",
       "\t2 & 2 & abel533 & Mapper & 577 & Y3Vyc29yOjIwMA== & https://github.com/abel533/Mapper & 53441 & https://github.com/abel533/Mapper/pull/577 & Update SqlHelper.java                     & OPEN & ⋯ & master & 0 & 0 & 0 & 1 & 0 & null{[}package{]} failed (1): {[}ERROR{]} COMPILATION ERROR : {[}ERROR{]} Source option 6 is no longer supported. Use 7 or later.{[}ERROR{]} Target option 6 is no longer supported. Use 7 or later.{[}ERROR{]} Failed to execute goal org.apache.maven.plugins:maven-compiler-plugin:3.1:compile (default-compile) on project mapper-core: Compilation failure: Compilation failure: {[}ERROR{]} Source option 6 is no longer supported. Use 7 or later.{[}ERROR{]} Target option 6 is no longer supported. Use 7 or later.{[}ERROR{]} -> {[}Help 1{]}{[}ERROR{]} {[}ERROR{]} To see the full stack trace of the errors, re-run Maven with the -e switch.{[}ERROR{]} Re-run Maven using the -X switch to enable full debug logging.{[}ERROR{]} {[}ERROR{]} For more information about the errors and possible solutions, please read the following articles:{[}ERROR{]} {[}Help 1{]} http://cwiki.apache.org/confluence/display/MAVEN/MojoFailureException{[}ERROR{]} {[}ERROR{]} After correcting the problems, you can resume the build with the command{[}ERROR{]}   mvn <args> -rf :mapper-core & stotem-patch-1          & 1 & 5\\\\\n",
       "\t3 & 3 & abel533 & Mapper & 647 & Y3Vyc29yOjIwMA== & https://github.com/abel533/Mapper & 53441 & https://github.com/abel533/Mapper/pull/647 & 增加指定字段强制更新(包含null)方法        & OPEN & ⋯ & master & 0 & 0 & 0 & 2 & 0 & null{[}package{]} failed (1): {[}ERROR{]} COMPILATION ERROR : {[}ERROR{]} Source option 6 is no longer supported. Use 7 or later.{[}ERROR{]} Target option 6 is no longer supported. Use 7 or later.{[}ERROR{]} Failed to execute goal org.apache.maven.plugins:maven-compiler-plugin:3.1:compile (default-compile) on project mapper-core: Compilation failure: Compilation failure: {[}ERROR{]} Source option 6 is no longer supported. Use 7 or later.{[}ERROR{]} Target option 6 is no longer supported. Use 7 or later.{[}ERROR{]} -> {[}Help 1{]}{[}ERROR{]} {[}ERROR{]} To see the full stack trace of the errors, re-run Maven with the -e switch.{[}ERROR{]} Re-run Maven using the -X switch to enable full debug logging.{[}ERROR{]} {[}ERROR{]} For more information about the errors and possible solutions, please read the following articles:{[}ERROR{]} {[}Help 1{]} http://cwiki.apache.org/confluence/display/MAVEN/MojoFailureException{[}ERROR{]} {[}ERROR{]} After correcting the problems, you can resume the build with the command{[}ERROR{]}   mvn <args> -rf :mapper-core & force                   & 1 & 5\\\\\n",
       "\t4 & 4 & abel533 & Mapper & 741 & Y3Vyc29yOjIwMA== & https://github.com/abel533/Mapper & 53441 & https://github.com/abel533/Mapper/pull/741 & Feat:增加批量update功能                   & OPEN & ⋯ & master & 0 & 0 & 0 & 6 & 0 &                                                                                                                                                                                                                                                                                                                                                                                                                                                                                                                                                                                                                                                                                                                                                                                                                                                                                                                                                                                                                          & master                  & 0 & 3\\\\\n",
       "\t5 & 5 & abel533 & Mapper & 743 & Y3Vyc29yOjIwMA== & https://github.com/abel533/Mapper & 53441 & https://github.com/abel533/Mapper/pull/743 & 修复 AggregationProvider 的问题           & OPEN & ⋯ & master & 0 & 0 & 0 & 5 & 0 & null{[}package{]} failed (1): {[}ERROR{]} COMPILATION ERROR : {[}ERROR{]} Source option 6 is no longer supported. Use 7 or later.{[}ERROR{]} Target option 6 is no longer supported. Use 7 or later.{[}ERROR{]} Failed to execute goal org.apache.maven.plugins:maven-compiler-plugin:3.1:compile (default-compile) on project mapper-core: Compilation failure: Compilation failure: {[}ERROR{]} Source option 6 is no longer supported. Use 7 or later.{[}ERROR{]} Target option 6 is no longer supported. Use 7 or later.{[}ERROR{]} -> {[}Help 1{]}{[}ERROR{]} {[}ERROR{]} To see the full stack trace of the errors, re-run Maven with the -e switch.{[}ERROR{]} Re-run Maven using the -X switch to enable full debug logging.{[}ERROR{]} {[}ERROR{]} For more information about the errors and possible solutions, please read the following articles:{[}ERROR{]} {[}Help 1{]} http://cwiki.apache.org/confluence/display/MAVEN/MojoFailureException{[}ERROR{]} {[}ERROR{]} After correcting the problems, you can resume the build with the command{[}ERROR{]}   mvn <args> -rf :mapper-core & Fix\\_AggregationProvider & 1 & 6\\\\\n",
       "\t6 & 6 & abel533 & Mapper & 793 & Y3Vyc29yOjIwMA== & https://github.com/abel533/Mapper & 53441 & https://github.com/abel533/Mapper/pull/793 & feat:新增根据实体中的属性进行查询指定属性 & OPEN & ⋯ & master & 0 & 0 & 0 & 2 & 0 &                                                                                                                                                                                                                                                                                                                                                                                                                                                                                                                                                                                                                                                                                                                                                                                                                                                                                                                                                                                                                          & master                  & 0 & 2\\\\\n",
       "\\end{tabular}\n"
      ],
      "text/markdown": [
       "\n",
       "A data.frame: 6 × 31\n",
       "\n",
       "| <!--/--> | X &lt;int&gt; | owner &lt;fct&gt; | name &lt;fct&gt; | number &lt;int&gt; | cursor &lt;fct&gt; | repoUrl &lt;fct&gt; | clients &lt;int&gt; | prUrl &lt;fct&gt; | title &lt;fct&gt; | state &lt;fct&gt; | ⋯ ⋯ | base &lt;fct&gt; | breakingChanges &lt;int&gt; | brokenClients &lt;int&gt; | brokenUses &lt;int&gt; | changedFiles &lt;int&gt; | checkedClients &lt;int&gt; | errors &lt;fct&gt; | head &lt;fct&gt; | impactedPackages &lt;int&gt; | seconds &lt;int&gt; |\n",
       "|---|---|---|---|---|---|---|---|---|---|---|---|---|---|---|---|---|---|---|---|---|---|\n",
       "| 1 | 1 | abel533 | Mapper | 245 | Y3Vyc29yOjIwMA== | https://github.com/abel533/Mapper | 53441 | https://github.com/abel533/Mapper/pull/245 | 添加别名                                  | OPEN | ⋯ | master | 0 | 0 | 0 | 7 | 0 | null[package] failed (1): [ERROR] COMPILATION ERROR : [ERROR] Source option 6 is no longer supported. Use 7 or later.[ERROR] Target option 6 is no longer supported. Use 7 or later.[ERROR] Failed to execute goal org.apache.maven.plugins:maven-compiler-plugin:3.1:compile (default-compile) on project mapper-core: Compilation failure: Compilation failure: [ERROR] Source option 6 is no longer supported. Use 7 or later.[ERROR] Target option 6 is no longer supported. Use 7 or later.[ERROR] -&gt; [Help 1][ERROR] [ERROR] To see the full stack trace of the errors, re-run Maven with the -e switch.[ERROR] Re-run Maven using the -X switch to enable full debug logging.[ERROR] [ERROR] For more information about the errors and possible solutions, please read the following articles:[ERROR] [Help 1] http://cwiki.apache.org/confluence/display/MAVEN/MojoFailureException                                                                                                                              | master                  | 1 | 5 |\n",
       "| 2 | 2 | abel533 | Mapper | 577 | Y3Vyc29yOjIwMA== | https://github.com/abel533/Mapper | 53441 | https://github.com/abel533/Mapper/pull/577 | Update SqlHelper.java                     | OPEN | ⋯ | master | 0 | 0 | 0 | 1 | 0 | null[package] failed (1): [ERROR] COMPILATION ERROR : [ERROR] Source option 6 is no longer supported. Use 7 or later.[ERROR] Target option 6 is no longer supported. Use 7 or later.[ERROR] Failed to execute goal org.apache.maven.plugins:maven-compiler-plugin:3.1:compile (default-compile) on project mapper-core: Compilation failure: Compilation failure: [ERROR] Source option 6 is no longer supported. Use 7 or later.[ERROR] Target option 6 is no longer supported. Use 7 or later.[ERROR] -&gt; [Help 1][ERROR] [ERROR] To see the full stack trace of the errors, re-run Maven with the -e switch.[ERROR] Re-run Maven using the -X switch to enable full debug logging.[ERROR] [ERROR] For more information about the errors and possible solutions, please read the following articles:[ERROR] [Help 1] http://cwiki.apache.org/confluence/display/MAVEN/MojoFailureException[ERROR] [ERROR] After correcting the problems, you can resume the build with the command[ERROR]   mvn &lt;args&gt; -rf :mapper-core | stotem-patch-1          | 1 | 5 |\n",
       "| 3 | 3 | abel533 | Mapper | 647 | Y3Vyc29yOjIwMA== | https://github.com/abel533/Mapper | 53441 | https://github.com/abel533/Mapper/pull/647 | 增加指定字段强制更新(包含null)方法        | OPEN | ⋯ | master | 0 | 0 | 0 | 2 | 0 | null[package] failed (1): [ERROR] COMPILATION ERROR : [ERROR] Source option 6 is no longer supported. Use 7 or later.[ERROR] Target option 6 is no longer supported. Use 7 or later.[ERROR] Failed to execute goal org.apache.maven.plugins:maven-compiler-plugin:3.1:compile (default-compile) on project mapper-core: Compilation failure: Compilation failure: [ERROR] Source option 6 is no longer supported. Use 7 or later.[ERROR] Target option 6 is no longer supported. Use 7 or later.[ERROR] -&gt; [Help 1][ERROR] [ERROR] To see the full stack trace of the errors, re-run Maven with the -e switch.[ERROR] Re-run Maven using the -X switch to enable full debug logging.[ERROR] [ERROR] For more information about the errors and possible solutions, please read the following articles:[ERROR] [Help 1] http://cwiki.apache.org/confluence/display/MAVEN/MojoFailureException[ERROR] [ERROR] After correcting the problems, you can resume the build with the command[ERROR]   mvn &lt;args&gt; -rf :mapper-core | force                   | 1 | 5 |\n",
       "| 4 | 4 | abel533 | Mapper | 741 | Y3Vyc29yOjIwMA== | https://github.com/abel533/Mapper | 53441 | https://github.com/abel533/Mapper/pull/741 | Feat:增加批量update功能                   | OPEN | ⋯ | master | 0 | 0 | 0 | 6 | 0 | <!----> | master                  | 0 | 3 |\n",
       "| 5 | 5 | abel533 | Mapper | 743 | Y3Vyc29yOjIwMA== | https://github.com/abel533/Mapper | 53441 | https://github.com/abel533/Mapper/pull/743 | 修复 AggregationProvider 的问题           | OPEN | ⋯ | master | 0 | 0 | 0 | 5 | 0 | null[package] failed (1): [ERROR] COMPILATION ERROR : [ERROR] Source option 6 is no longer supported. Use 7 or later.[ERROR] Target option 6 is no longer supported. Use 7 or later.[ERROR] Failed to execute goal org.apache.maven.plugins:maven-compiler-plugin:3.1:compile (default-compile) on project mapper-core: Compilation failure: Compilation failure: [ERROR] Source option 6 is no longer supported. Use 7 or later.[ERROR] Target option 6 is no longer supported. Use 7 or later.[ERROR] -&gt; [Help 1][ERROR] [ERROR] To see the full stack trace of the errors, re-run Maven with the -e switch.[ERROR] Re-run Maven using the -X switch to enable full debug logging.[ERROR] [ERROR] For more information about the errors and possible solutions, please read the following articles:[ERROR] [Help 1] http://cwiki.apache.org/confluence/display/MAVEN/MojoFailureException[ERROR] [ERROR] After correcting the problems, you can resume the build with the command[ERROR]   mvn &lt;args&gt; -rf :mapper-core | Fix_AggregationProvider | 1 | 6 |\n",
       "| 6 | 6 | abel533 | Mapper | 793 | Y3Vyc29yOjIwMA== | https://github.com/abel533/Mapper | 53441 | https://github.com/abel533/Mapper/pull/793 | feat:新增根据实体中的属性进行查询指定属性 | OPEN | ⋯ | master | 0 | 0 | 0 | 2 | 0 | <!----> | master                  | 0 | 2 |\n",
       "\n"
      ],
      "text/plain": [
       "  X owner   name   number cursor           repoUrl                          \n",
       "1 1 abel533 Mapper 245    Y3Vyc29yOjIwMA== https://github.com/abel533/Mapper\n",
       "2 2 abel533 Mapper 577    Y3Vyc29yOjIwMA== https://github.com/abel533/Mapper\n",
       "3 3 abel533 Mapper 647    Y3Vyc29yOjIwMA== https://github.com/abel533/Mapper\n",
       "4 4 abel533 Mapper 741    Y3Vyc29yOjIwMA== https://github.com/abel533/Mapper\n",
       "5 5 abel533 Mapper 743    Y3Vyc29yOjIwMA== https://github.com/abel533/Mapper\n",
       "6 6 abel533 Mapper 793    Y3Vyc29yOjIwMA== https://github.com/abel533/Mapper\n",
       "  clients prUrl                                     \n",
       "1 53441   https://github.com/abel533/Mapper/pull/245\n",
       "2 53441   https://github.com/abel533/Mapper/pull/577\n",
       "3 53441   https://github.com/abel533/Mapper/pull/647\n",
       "4 53441   https://github.com/abel533/Mapper/pull/741\n",
       "5 53441   https://github.com/abel533/Mapper/pull/743\n",
       "6 53441   https://github.com/abel533/Mapper/pull/793\n",
       "  title                                     state ⋯ base   breakingChanges\n",
       "1 添加别名                                  OPEN  ⋯ master 0              \n",
       "2 Update SqlHelper.java                     OPEN  ⋯ master 0              \n",
       "3 增加指定字段强制更新(包含null)方法        OPEN  ⋯ master 0              \n",
       "4 Feat:增加批量update功能                   OPEN  ⋯ master 0              \n",
       "5 修复 AggregationProvider 的问题           OPEN  ⋯ master 0              \n",
       "6 feat:新增根据实体中的属性进行查询指定属性 OPEN  ⋯ master 0              \n",
       "  brokenClients brokenUses changedFiles checkedClients\n",
       "1 0             0          7            0             \n",
       "2 0             0          1            0             \n",
       "3 0             0          2            0             \n",
       "4 0             0          6            0             \n",
       "5 0             0          5            0             \n",
       "6 0             0          2            0             \n",
       "  errors                                                                                                                                                                                                                                                                                                                                                                                                                                                                                                                                                                                                                                                                                                                                                                                                                                                                                                                                                                                                                  \n",
       "1 null[package] failed (1): [ERROR] COMPILATION ERROR : [ERROR] Source option 6 is no longer supported. Use 7 or later.[ERROR] Target option 6 is no longer supported. Use 7 or later.[ERROR] Failed to execute goal org.apache.maven.plugins:maven-compiler-plugin:3.1:compile (default-compile) on project mapper-core: Compilation failure: Compilation failure: [ERROR] Source option 6 is no longer supported. Use 7 or later.[ERROR] Target option 6 is no longer supported. Use 7 or later.[ERROR] -> [Help 1][ERROR] [ERROR] To see the full stack trace of the errors, re-run Maven with the -e switch.[ERROR] Re-run Maven using the -X switch to enable full debug logging.[ERROR] [ERROR] For more information about the errors and possible solutions, please read the following articles:[ERROR] [Help 1] http://cwiki.apache.org/confluence/display/MAVEN/MojoFailureException                                                                                                                             \n",
       "2 null[package] failed (1): [ERROR] COMPILATION ERROR : [ERROR] Source option 6 is no longer supported. Use 7 or later.[ERROR] Target option 6 is no longer supported. Use 7 or later.[ERROR] Failed to execute goal org.apache.maven.plugins:maven-compiler-plugin:3.1:compile (default-compile) on project mapper-core: Compilation failure: Compilation failure: [ERROR] Source option 6 is no longer supported. Use 7 or later.[ERROR] Target option 6 is no longer supported. Use 7 or later.[ERROR] -> [Help 1][ERROR] [ERROR] To see the full stack trace of the errors, re-run Maven with the -e switch.[ERROR] Re-run Maven using the -X switch to enable full debug logging.[ERROR] [ERROR] For more information about the errors and possible solutions, please read the following articles:[ERROR] [Help 1] http://cwiki.apache.org/confluence/display/MAVEN/MojoFailureException[ERROR] [ERROR] After correcting the problems, you can resume the build with the command[ERROR]   mvn <args> -rf :mapper-core\n",
       "3 null[package] failed (1): [ERROR] COMPILATION ERROR : [ERROR] Source option 6 is no longer supported. Use 7 or later.[ERROR] Target option 6 is no longer supported. Use 7 or later.[ERROR] Failed to execute goal org.apache.maven.plugins:maven-compiler-plugin:3.1:compile (default-compile) on project mapper-core: Compilation failure: Compilation failure: [ERROR] Source option 6 is no longer supported. Use 7 or later.[ERROR] Target option 6 is no longer supported. Use 7 or later.[ERROR] -> [Help 1][ERROR] [ERROR] To see the full stack trace of the errors, re-run Maven with the -e switch.[ERROR] Re-run Maven using the -X switch to enable full debug logging.[ERROR] [ERROR] For more information about the errors and possible solutions, please read the following articles:[ERROR] [Help 1] http://cwiki.apache.org/confluence/display/MAVEN/MojoFailureException[ERROR] [ERROR] After correcting the problems, you can resume the build with the command[ERROR]   mvn <args> -rf :mapper-core\n",
       "4                                                                                                                                                                                                                                                                                                                                                                                                                                                                                                                                                                                                                                                                                                                                                                                                                                                                                                                                                                                                                         \n",
       "5 null[package] failed (1): [ERROR] COMPILATION ERROR : [ERROR] Source option 6 is no longer supported. Use 7 or later.[ERROR] Target option 6 is no longer supported. Use 7 or later.[ERROR] Failed to execute goal org.apache.maven.plugins:maven-compiler-plugin:3.1:compile (default-compile) on project mapper-core: Compilation failure: Compilation failure: [ERROR] Source option 6 is no longer supported. Use 7 or later.[ERROR] Target option 6 is no longer supported. Use 7 or later.[ERROR] -> [Help 1][ERROR] [ERROR] To see the full stack trace of the errors, re-run Maven with the -e switch.[ERROR] Re-run Maven using the -X switch to enable full debug logging.[ERROR] [ERROR] For more information about the errors and possible solutions, please read the following articles:[ERROR] [Help 1] http://cwiki.apache.org/confluence/display/MAVEN/MojoFailureException[ERROR] [ERROR] After correcting the problems, you can resume the build with the command[ERROR]   mvn <args> -rf :mapper-core\n",
       "6                                                                                                                                                                                                                                                                                                                                                                                                                                                                                                                                                                                                                                                                                                                                                                                                                                                                                                                                                                                                                         \n",
       "  head                    impactedPackages seconds\n",
       "1 master                  1                5      \n",
       "2 stotem-patch-1          1                5      \n",
       "3 force                   1                5      \n",
       "4 master                  0                3      \n",
       "5 Fix_AggregationProvider 1                6      \n",
       "6 master                  0                2      "
      ]
     },
     "metadata": {},
     "output_type": "display_data"
    },
    {
     "data": {
      "text/plain": [
       "       X                   owner           name          number     \n",
       " Min.   :   1.0   apache      :1594   trino  : 390   Min.   :   66  \n",
       " 1st Qu.: 947.2   trinodb     : 390   alluxio: 232   1st Qu.: 3599  \n",
       " Median :1893.5   Alluxio     : 232   hudi   : 177   Median : 8574  \n",
       " Mean   :1893.5   OpenAPITools:  93   flink  : 173   Mean   : 9827  \n",
       " 3rd Qu.:2839.8   alibaba     :  80   pulsar : 159   3rd Qu.:14849  \n",
       " Max.   :3786.0   keycloak    :  76   hadoop :  93   Max.   :32312  \n",
       "                  (Other)     :1321   (Other):2562                  \n",
       "              cursor                                   repoUrl    \n",
       " Y3Vyc29yOjIxNA==: 343   https://github.com/trinodb/trino  : 390  \n",
       " Y3Vyc29yOjI0MA==: 214   https://github.com/Alluxio/alluxio: 232  \n",
       " Y3Vyc29yOjU1    : 173   https://github.com/apache/hudi    : 177  \n",
       " Y3Vyc29yOjM4OA==: 143   https://github.com/apache/flink   : 173  \n",
       " Y3Vyc29yOjExMg==: 125   https://github.com/apache/pulsar  : 159  \n",
       " Y3Vyc29yOjgz    :  95   https://github.com/apache/hadoop  :  93  \n",
       " (Other)         :2693   (Other)                           :2562  \n",
       "    clients                                               prUrl     \n",
       " Min.   :    127   https://github.com/abel533/Mapper/pull/245:   1  \n",
       " 1st Qu.:   1589   https://github.com/abel533/Mapper/pull/577:   1  \n",
       " Median :   3272   https://github.com/abel533/Mapper/pull/647:   1  \n",
       " Mean   :  26750   https://github.com/abel533/Mapper/pull/741:   1  \n",
       " 3rd Qu.:  22544   https://github.com/abel533/Mapper/pull/743:   1  \n",
       " Max.   :1380374   https://github.com/abel533/Mapper/pull/793:   1  \n",
       "                   (Other)                                   :3780  \n",
       "                                                                                                                                          title     \n",
       " [SECURITY] Fix Temporary File Information Disclosure Vulnerability                                                                          :   7  \n",
       " Internal                                                                                                                                    :   5  \n",
       " [Bug][API]edit workflow query resources list error.                                                                                         :   2  \n",
       " [BUG][API]task definition reference deleted resource files.                                                                                 :   2  \n",
       " [FLINK-29781][table-planner] Fix ChangelogNormalize uses wrong keys after transformation by WatermarkAssignerChangelogNormalizeTransposeRule:   2  \n",
       " [ISSUE #8694] Support prometheus http service discovery                                                                                     :   2  \n",
       " (Other)                                                                                                                                     :3766  \n",
       "  state        draft          files          javaFiles     \n",
       " OPEN:3786   false:3395   Min.   :  1.00   Min.   :  1.00  \n",
       "             true : 391   1st Qu.:  2.00   1st Qu.:  2.00  \n",
       "                          Median :  5.00   Median :  4.00  \n",
       "                          Mean   : 13.44   Mean   : 10.54  \n",
       "                          3rd Qu.: 14.00   3rd Qu.: 11.00  \n",
       "                          Max.   :100.00   Max.   :100.00  \n",
       "                                                           \n",
       "            baseRepo         baseRef         baseRefPrefix \n",
       " trinodb/trino  : 390   master   :2467   refs/heads/:3786  \n",
       " Alluxio/alluxio: 232   main     : 637                     \n",
       " apache/hudi    : 177   dev      : 167                     \n",
       " apache/flink   : 173   develop  : 111                     \n",
       " apache/pulsar  : 159   trunk    :  90                     \n",
       " apache/hadoop  :  93   dev-1.3.1:  15                     \n",
       " (Other)        :2562   (Other)  : 299                     \n",
       "                     headRepo   \n",
       " eclipse/jetty.project   :  21  \n",
       " nsivabalan/hudi         :  21  \n",
       " Graylog2/graylog2-server:  20  \n",
       " maobaolong/alluxio      :  18  \n",
       " ashutoshcipher/hadoop   :  15  \n",
       " findepi/trino           :  15  \n",
       " (Other)                 :3676  \n",
       "                                                headRef         headRefPrefix \n",
       " master                                             : 152   refs/heads/:3786  \n",
       " main                                               :  38                     \n",
       " dev                                                :  22                     \n",
       " develop                                            :  18                     \n",
       " patch-1                                            :  18                     \n",
       " fix/JLL/temporary_file_local_information_disclosure:   8                     \n",
       " (Other)                                            :3530                     \n",
       "      createdAt        publishedAt        base      breakingChanges    \n",
       " 2022-11-23: 143   2022-11-23: 143   master :2435   Min.   :    0.000  \n",
       " 2022-11-11: 121   2022-11-11: 121   main   : 631   1st Qu.:    0.000  \n",
       " 2022-11-22: 114   2022-11-22: 114   dev    : 167   Median :    0.000  \n",
       " 2022-11-10: 108   2022-11-10: 108   develop: 111   Mean   :    8.455  \n",
       " 2022-11-18:  84   2022-11-18:  84   trunk  :  90   3rd Qu.:    0.000  \n",
       " 2022-11-08:  81   2022-11-08:  81          :  45   Max.   :17826.000  \n",
       " (Other)   :3135   (Other)   :3135   (Other): 307                      \n",
       " brokenClients      brokenUses        changedFiles     checkedClients   \n",
       " Min.   : 0.000   Min.   :   0.000   Min.   :   0.00   Min.   :  0.000  \n",
       " 1st Qu.: 0.000   1st Qu.:   0.000   1st Qu.:   2.00   1st Qu.:  0.000  \n",
       " Median : 0.000   Median :   0.000   Median :   5.00   Median :  0.000  \n",
       " Mean   : 0.127   Mean   :   3.166   Mean   :  24.16   Mean   :  4.598  \n",
       " 3rd Qu.: 0.000   3rd Qu.:   0.000   3rd Qu.:  14.00   3rd Qu.:  0.000  \n",
       " Max.   :91.000   Max.   :2693.000   Max.   :3000.00   Max.   :337.000  \n",
       "                                                                        \n",
       "                                                                                                                                                                                                                                                                                                                                                                                                                                                                                                                                                                                                                                                                                                                                                                                                                                                                                                                                                                                                                                                                                                                                                                                                 errors    \n",
       "                                                                                                                                                                                                                                                                                                                                                                                                                                                                                                                                                                                                                                                                                                                                                                                                                                                                                                                                                                                                                                                                                                                                                                                                    :1319  \n",
       " nullnull                                                                                                                                                                                                                                                                                                                                                                                                                                                                                                                                                                                                                                                                                                                                                                                                                                                                                                                                                                                                                                                                                                                                                                                           :  81  \n",
       " null[package] failed (1): [ERROR] Failed to execute goal on project pulsar-broker: Could not resolve dependencies for project org.apache.pulsar:pulsar-broker:jar:2.11.0-SNAPSHOT: Failure to find org.apache.pulsar:pulsar-metadata:jar:tests:2.11.0-SNAPSHOT in https://repository.apache.org/snapshots was cached in the local repository, resolution will not be reattempted until the update interval of apache.snapshots has elapsed or updates are forced -> [Help 1][ERROR] [ERROR] To see the full stack trace of the errors, re-run Maven with the -e switch.[ERROR] Re-run Maven using the -X switch to enable full debug logging.[ERROR] [ERROR] For more information about the errors and possible solutions, please read the following articles:[ERROR] [Help 1] http://cwiki.apache.org/confluence/display/MAVEN/DependencyResolutionException[ERROR] [ERROR] After correcting the problems, you can resume the build with the command[ERROR]   mvn <args> -rf :pulsar-broker                                                                                                                                                                                                       :  38  \n",
       " null[package] failed (1): [ERROR] Failed to execute goal on project trino-plugin-toolkit: Could not resolve dependencies for project io.trino:trino-plugin-toolkit:jar:403-SNAPSHOT: Failure to find io.trino:trino-spi:jar:tests:403-SNAPSHOT in https://oss.sonatype.org/content/repositories/snapshots was cached in the local repository, resolution will not be reattempted until the update interval of sonatype-nexus-snapshots has elapsed or updates are forced -> [Help 1][ERROR] [ERROR] To see the full stack trace of the errors, re-run Maven with the -e switch.[ERROR] Re-run Maven using the -X switch to enable full debug logging.[ERROR] [ERROR] For more information about the errors and possible solutions, please read the following articles:[ERROR] [Help 1] http://cwiki.apache.org/confluence/display/MAVEN/DependencyResolutionException[ERROR] [ERROR] After correcting the problems, you can resume the build with the command[ERROR]   mvn <args> -rf :trino-plugin-toolkit                                                                                                                                                                                        :  34  \n",
       " null[package] failed (1): [info] Running process libraries[info] Processing library Library: type: jni[info] Running process libraries[info] Processing library Library: type: jni[ERROR] Failed to execute goal on project bookkeeper-common: Could not resolve dependencies for project org.apache.bookkeeper:bookkeeper-common:jar:4.16.0-SNAPSHOT: org.apache.bookkeeper:cpu-affinity:jar:4.16.0-SNAPSHOT was not found in https://repository.apache.org/snapshots during a previous attempt. This failure was cached in the local repository and resolution is not reattempted until the update interval of apache.snapshots has elapsed or updates are forced -> [Help 1][ERROR] [ERROR] To see the full stack trace of the errors, re-run Maven with the -e switch.[ERROR] Re-run Maven using the -X switch to enable full debug logging.[ERROR] [ERROR] For more information about the errors and possible solutions, please read the following articles:[ERROR] [Help 1] http://cwiki.apache.org/confluence/display/MAVEN/DependencyResolutionException[ERROR] [ERROR] After correcting the problems, you can resume the build with the command[ERROR]   mvn <args> -rf :bookkeeper-common:  28  \n",
       " null[package] failed (1): [ERROR] Failed to execute goal on project keycloak-crypto-default: Could not resolve dependencies for project org.keycloak:keycloak-crypto-default:jar:999-SNAPSHOT: Could not find artifact org.keycloak:keycloak-core:jar:tests:999-SNAPSHOT -> [Help 1][ERROR] [ERROR] To see the full stack trace of the errors, re-run Maven with the -e switch.[ERROR] Re-run Maven using the -X switch to enable full debug logging.[ERROR] [ERROR] For more information about the errors and possible solutions, please read the following articles:[ERROR] [Help 1] http://cwiki.apache.org/confluence/display/MAVEN/DependencyResolutionException[ERROR] [ERROR] After correcting the problems, you can resume the build with the command[ERROR]   mvn <args> -rf :keycloak-crypto-default                                                                                                                                                                                                                                                                                                                                                                                     :  25  \n",
       " (Other)                                                                                                                                                                                                                                                                                                                                                                                                                                                                                                                                                                                                                                                                                                                                                                                                                                                                                                                                                                                                                                                                                                                                                                                            :2261  \n",
       "      head      impactedPackages    seconds       \n",
       " master : 151   Min.   : 0.000   Min.   :    1.0  \n",
       "        :  45   1st Qu.: 1.000   1st Qu.:   31.0  \n",
       " main   :  38   Median : 1.000   Median :   54.0  \n",
       " dev    :  22   Mean   : 2.188   Mean   :  147.3  \n",
       " develop:  18   3rd Qu.: 2.000   3rd Qu.:  123.0  \n",
       " patch-1:  18   Max.   :97.000   Max.   :28661.0  \n",
       " (Other):3494                                     "
      ]
     },
     "metadata": {},
     "output_type": "display_data"
    }
   ],
   "source": [
    "prs <- read.csv('../data/final.csv', stringsAsFactors=TRUE)\n",
    "nrow(prs)\n",
    "head(prs)\n",
    "summary(prs)"
   ]
  },
  {
   "cell_type": "markdown",
   "id": "05e999c8-c882-4a8d-aad0-908c775f3bdd",
   "metadata": {},
   "source": [
    "## Popular active Java libraries on GitHub, as of 2022-11-13\n",
    "  - Repositories written in Java\n",
    "  - With a pom.xml file at the root\n",
    "  - With >= 5000 stars\n",
    "  - With >= 100 clients (all packages included)\n",
    "  - Last push activity >= 2022-10-13 (1 month)\n",
    "  - PR created >= 2022-10-13 (1 month)\n",
    "  - PR merged >= 2022-09-13 (2 months)\n",
    "  - !archived, !disabled, !fork, !mirror, !locked"
   ]
  },
  {
   "cell_type": "code",
   "execution_count": 21,
   "id": "310be62d-cc55-45b2-9ae3-eae044f1fa7a",
   "metadata": {},
   "outputs": [
    {
     "data": {
      "text/html": [
       "230"
      ],
      "text/latex": [
       "230"
      ],
      "text/markdown": [
       "230"
      ],
      "text/plain": [
       "[1] 230"
      ]
     },
     "metadata": {},
     "output_type": "display_data"
    },
    {
     "data": {
      "text/html": [
       "<table class=\"dataframe\">\n",
       "<caption>A data.frame: 6 × 2</caption>\n",
       "<thead>\n",
       "\t<tr><th></th><th scope=col>owner</th><th scope=col>name</th></tr>\n",
       "\t<tr><th></th><th scope=col>&lt;fct&gt;</th><th scope=col>&lt;fct&gt;</th></tr>\n",
       "</thead>\n",
       "<tbody>\n",
       "\t<tr><th scope=row>1</th><td>abel533 </td><td>Mapper                 </td></tr>\n",
       "\t<tr><th scope=row>2</th><td>Activiti</td><td>Activiti               </td></tr>\n",
       "\t<tr><th scope=row>3</th><td>adobe   </td><td>aem-core-wcm-components</td></tr>\n",
       "\t<tr><th scope=row>4</th><td>adobe   </td><td>S3Mock                 </td></tr>\n",
       "\t<tr><th scope=row>5</th><td>airlift </td><td>airlift                </td></tr>\n",
       "\t<tr><th scope=row>6</th><td>alibaba </td><td>arthas                 </td></tr>\n",
       "</tbody>\n",
       "</table>\n"
      ],
      "text/latex": [
       "A data.frame: 6 × 2\n",
       "\\begin{tabular}{r|ll}\n",
       "  & owner & name\\\\\n",
       "  & <fct> & <fct>\\\\\n",
       "\\hline\n",
       "\t1 & abel533  & Mapper                 \\\\\n",
       "\t2 & Activiti & Activiti               \\\\\n",
       "\t3 & adobe    & aem-core-wcm-components\\\\\n",
       "\t4 & adobe    & S3Mock                 \\\\\n",
       "\t5 & airlift  & airlift                \\\\\n",
       "\t6 & alibaba  & arthas                 \\\\\n",
       "\\end{tabular}\n"
      ],
      "text/markdown": [
       "\n",
       "A data.frame: 6 × 2\n",
       "\n",
       "| <!--/--> | owner &lt;fct&gt; | name &lt;fct&gt; |\n",
       "|---|---|---|\n",
       "| 1 | abel533  | Mapper                  |\n",
       "| 2 | Activiti | Activiti                |\n",
       "| 3 | adobe    | aem-core-wcm-components |\n",
       "| 4 | adobe    | S3Mock                  |\n",
       "| 5 | airlift  | airlift                 |\n",
       "| 6 | alibaba  | arthas                  |\n",
       "\n"
      ],
      "text/plain": [
       "  owner    name                   \n",
       "1 abel533  Mapper                 \n",
       "2 Activiti Activiti               \n",
       "3 adobe    aem-core-wcm-components\n",
       "4 adobe    S3Mock                 \n",
       "5 airlift  airlift                \n",
       "6 alibaba  arthas                 "
      ]
     },
     "metadata": {},
     "output_type": "display_data"
    },
    {
     "data": {
      "text/plain": [
       "          owner                          name    \n",
       " apache      : 53   druid                  :  2  \n",
       " alibaba     : 10   accumulo               :  1  \n",
       " spring-cloud: 10   activemq               :  1  \n",
       " google      :  5   activemq-artemis       :  1  \n",
       " bytedeco    :  3   Activiti               :  1  \n",
       " eclipse     :  3   aem-core-wcm-components:  1  \n",
       " (Other)     :146   (Other)                :223  "
      ]
     },
     "metadata": {},
     "output_type": "display_data"
    }
   ],
   "source": [
    "libs <- distinct(prs[, c('owner', 'name')])\n",
    "nrow(libs)\n",
    "head(libs)\n",
    "summary(libs)"
   ]
  },
  {
   "cell_type": "markdown",
   "id": "ee50813a-e905-4b4e-b9cc-808b0f3ec606",
   "metadata": {},
   "source": [
    "## Interesting pull requests\n",
    "  - Opened, unmerged, and unlocked\n",
    "  - Affects Java files\n",
    "  - Updated >= 2022-10-13 (1 month)"
   ]
  },
  {
   "cell_type": "code",
   "execution_count": 22,
   "id": "5e6a5ad2-f0d0-4e04-9f4e-813726b40988",
   "metadata": {},
   "outputs": [
    {
     "data": {
      "text/html": [
       "<table class=\"dataframe\">\n",
       "<caption>A data.frame: 6 × 31</caption>\n",
       "<thead>\n",
       "\t<tr><th></th><th scope=col>X</th><th scope=col>owner</th><th scope=col>name</th><th scope=col>number</th><th scope=col>cursor</th><th scope=col>repoUrl</th><th scope=col>clients</th><th scope=col>prUrl</th><th scope=col>title</th><th scope=col>state</th><th scope=col>⋯</th><th scope=col>base</th><th scope=col>breakingChanges</th><th scope=col>brokenClients</th><th scope=col>brokenUses</th><th scope=col>changedFiles</th><th scope=col>checkedClients</th><th scope=col>errors</th><th scope=col>head</th><th scope=col>impactedPackages</th><th scope=col>seconds</th></tr>\n",
       "\t<tr><th></th><th scope=col>&lt;int&gt;</th><th scope=col>&lt;fct&gt;</th><th scope=col>&lt;fct&gt;</th><th scope=col>&lt;int&gt;</th><th scope=col>&lt;fct&gt;</th><th scope=col>&lt;fct&gt;</th><th scope=col>&lt;int&gt;</th><th scope=col>&lt;fct&gt;</th><th scope=col>&lt;fct&gt;</th><th scope=col>&lt;fct&gt;</th><th scope=col>⋯</th><th scope=col>&lt;fct&gt;</th><th scope=col>&lt;int&gt;</th><th scope=col>&lt;int&gt;</th><th scope=col>&lt;int&gt;</th><th scope=col>&lt;int&gt;</th><th scope=col>&lt;int&gt;</th><th scope=col>&lt;fct&gt;</th><th scope=col>&lt;fct&gt;</th><th scope=col>&lt;int&gt;</th><th scope=col>&lt;int&gt;</th></tr>\n",
       "</thead>\n",
       "<tbody>\n",
       "\t<tr><th scope=row>1</th><td>1</td><td>abel533</td><td>Mapper</td><td>245</td><td>Y3Vyc29yOjIwMA==</td><td>https://github.com/abel533/Mapper</td><td>53441</td><td>https://github.com/abel533/Mapper/pull/245</td><td><span style=white-space:pre-wrap>添加别名                                 </span></td><td>OPEN</td><td>⋯</td><td>master</td><td>0</td><td>0</td><td>0</td><td>7</td><td>0</td><td><span style=white-space:pre-wrap>null[package] failed (1): [ERROR] COMPILATION ERROR : [ERROR] Source option 6 is no longer supported. Use 7 or later.[ERROR] Target option 6 is no longer supported. Use 7 or later.[ERROR] Failed to execute goal org.apache.maven.plugins:maven-compiler-plugin:3.1:compile (default-compile) on project mapper-core: Compilation failure: Compilation failure: [ERROR] Source option 6 is no longer supported. Use 7 or later.[ERROR] Target option 6 is no longer supported. Use 7 or later.[ERROR] -&gt; [Help 1][ERROR] [ERROR] To see the full stack trace of the errors, re-run Maven with the -e switch.[ERROR] Re-run Maven using the -X switch to enable full debug logging.[ERROR] [ERROR] For more information about the errors and possible solutions, please read the following articles:[ERROR] [Help 1] http://cwiki.apache.org/confluence/display/MAVEN/MojoFailureException                                                                                                                             </span></td><td><span style=white-space:pre-wrap>master                 </span></td><td>1</td><td>5</td></tr>\n",
       "\t<tr><th scope=row>2</th><td>2</td><td>abel533</td><td>Mapper</td><td>577</td><td>Y3Vyc29yOjIwMA==</td><td>https://github.com/abel533/Mapper</td><td>53441</td><td>https://github.com/abel533/Mapper/pull/577</td><td><span style=white-space:pre-wrap>Update SqlHelper.java                    </span></td><td>OPEN</td><td>⋯</td><td>master</td><td>0</td><td>0</td><td>0</td><td>1</td><td>0</td><td><span style=white-space:pre-wrap>null[package] failed (1): [ERROR] COMPILATION ERROR : [ERROR] Source option 6 is no longer supported. Use 7 or later.[ERROR] Target option 6 is no longer supported. Use 7 or later.[ERROR] Failed to execute goal org.apache.maven.plugins:maven-compiler-plugin:3.1:compile (default-compile) on project mapper-core: Compilation failure: Compilation failure: [ERROR] Source option 6 is no longer supported. Use 7 or later.[ERROR] Target option 6 is no longer supported. Use 7 or later.[ERROR] -&gt; [Help 1][ERROR] [ERROR] To see the full stack trace of the errors, re-run Maven with the -e switch.[ERROR] Re-run Maven using the -X switch to enable full debug logging.[ERROR] [ERROR] For more information about the errors and possible solutions, please read the following articles:[ERROR] [Help 1] http://cwiki.apache.org/confluence/display/MAVEN/MojoFailureException[ERROR] [ERROR] After correcting the problems, you can resume the build with the command[ERROR]   mvn &lt;args&gt; -rf :mapper-core</span></td><td><span style=white-space:pre-wrap>stotem-patch-1         </span></td><td>1</td><td>5</td></tr>\n",
       "\t<tr><th scope=row>3</th><td>3</td><td>abel533</td><td>Mapper</td><td>647</td><td>Y3Vyc29yOjIwMA==</td><td>https://github.com/abel533/Mapper</td><td>53441</td><td>https://github.com/abel533/Mapper/pull/647</td><td><span style=white-space:pre-wrap>增加指定字段强制更新(包含null)方法       </span></td><td>OPEN</td><td>⋯</td><td>master</td><td>0</td><td>0</td><td>0</td><td>2</td><td>0</td><td><span style=white-space:pre-wrap>null[package] failed (1): [ERROR] COMPILATION ERROR : [ERROR] Source option 6 is no longer supported. Use 7 or later.[ERROR] Target option 6 is no longer supported. Use 7 or later.[ERROR] Failed to execute goal org.apache.maven.plugins:maven-compiler-plugin:3.1:compile (default-compile) on project mapper-core: Compilation failure: Compilation failure: [ERROR] Source option 6 is no longer supported. Use 7 or later.[ERROR] Target option 6 is no longer supported. Use 7 or later.[ERROR] -&gt; [Help 1][ERROR] [ERROR] To see the full stack trace of the errors, re-run Maven with the -e switch.[ERROR] Re-run Maven using the -X switch to enable full debug logging.[ERROR] [ERROR] For more information about the errors and possible solutions, please read the following articles:[ERROR] [Help 1] http://cwiki.apache.org/confluence/display/MAVEN/MojoFailureException[ERROR] [ERROR] After correcting the problems, you can resume the build with the command[ERROR]   mvn &lt;args&gt; -rf :mapper-core</span></td><td><span style=white-space:pre-wrap>force                  </span></td><td>1</td><td>5</td></tr>\n",
       "\t<tr><th scope=row>4</th><td>4</td><td>abel533</td><td>Mapper</td><td>741</td><td>Y3Vyc29yOjIwMA==</td><td>https://github.com/abel533/Mapper</td><td>53441</td><td>https://github.com/abel533/Mapper/pull/741</td><td>Feat:增加批量update功能                  </td><td>OPEN</td><td>⋯</td><td>master</td><td>0</td><td>0</td><td>0</td><td>6</td><td>0</td><td>                                                                                                                                                                                                                                                                                                                                                                                                                                                                                                                                                                                                                                                                                                                                                                                                                                                                                                                                                                                                                        </td><td>master                 </td><td>0</td><td>3</td></tr>\n",
       "\t<tr><th scope=row>5</th><td>5</td><td>abel533</td><td>Mapper</td><td>743</td><td>Y3Vyc29yOjIwMA==</td><td>https://github.com/abel533/Mapper</td><td>53441</td><td>https://github.com/abel533/Mapper/pull/743</td><td><span style=white-space:pre-wrap>修复 AggregationProvider 的问题          </span></td><td>OPEN</td><td>⋯</td><td>master</td><td>0</td><td>0</td><td>0</td><td>5</td><td>0</td><td><span style=white-space:pre-wrap>null[package] failed (1): [ERROR] COMPILATION ERROR : [ERROR] Source option 6 is no longer supported. Use 7 or later.[ERROR] Target option 6 is no longer supported. Use 7 or later.[ERROR] Failed to execute goal org.apache.maven.plugins:maven-compiler-plugin:3.1:compile (default-compile) on project mapper-core: Compilation failure: Compilation failure: [ERROR] Source option 6 is no longer supported. Use 7 or later.[ERROR] Target option 6 is no longer supported. Use 7 or later.[ERROR] -&gt; [Help 1][ERROR] [ERROR] To see the full stack trace of the errors, re-run Maven with the -e switch.[ERROR] Re-run Maven using the -X switch to enable full debug logging.[ERROR] [ERROR] For more information about the errors and possible solutions, please read the following articles:[ERROR] [Help 1] http://cwiki.apache.org/confluence/display/MAVEN/MojoFailureException[ERROR] [ERROR] After correcting the problems, you can resume the build with the command[ERROR]   mvn &lt;args&gt; -rf :mapper-core</span></td><td>Fix_AggregationProvider</td><td>1</td><td>6</td></tr>\n",
       "\t<tr><th scope=row>6</th><td>6</td><td>abel533</td><td>Mapper</td><td>793</td><td>Y3Vyc29yOjIwMA==</td><td>https://github.com/abel533/Mapper</td><td>53441</td><td>https://github.com/abel533/Mapper/pull/793</td><td>feat:新增根据实体中的属性进行查询指定属性</td><td>OPEN</td><td>⋯</td><td>master</td><td>0</td><td>0</td><td>0</td><td>2</td><td>0</td><td>                                                                                                                                                                                                                                                                                                                                                                                                                                                                                                                                                                                                                                                                                                                                                                                                                                                                                                                                                                                                                        </td><td>master                 </td><td>0</td><td>2</td></tr>\n",
       "</tbody>\n",
       "</table>\n"
      ],
      "text/latex": [
       "A data.frame: 6 × 31\n",
       "\\begin{tabular}{r|lllllllllllllllllllll}\n",
       "  & X & owner & name & number & cursor & repoUrl & clients & prUrl & title & state & ⋯ & base & breakingChanges & brokenClients & brokenUses & changedFiles & checkedClients & errors & head & impactedPackages & seconds\\\\\n",
       "  & <int> & <fct> & <fct> & <int> & <fct> & <fct> & <int> & <fct> & <fct> & <fct> & ⋯ & <fct> & <int> & <int> & <int> & <int> & <int> & <fct> & <fct> & <int> & <int>\\\\\n",
       "\\hline\n",
       "\t1 & 1 & abel533 & Mapper & 245 & Y3Vyc29yOjIwMA== & https://github.com/abel533/Mapper & 53441 & https://github.com/abel533/Mapper/pull/245 & 添加别名                                  & OPEN & ⋯ & master & 0 & 0 & 0 & 7 & 0 & null{[}package{]} failed (1): {[}ERROR{]} COMPILATION ERROR : {[}ERROR{]} Source option 6 is no longer supported. Use 7 or later.{[}ERROR{]} Target option 6 is no longer supported. Use 7 or later.{[}ERROR{]} Failed to execute goal org.apache.maven.plugins:maven-compiler-plugin:3.1:compile (default-compile) on project mapper-core: Compilation failure: Compilation failure: {[}ERROR{]} Source option 6 is no longer supported. Use 7 or later.{[}ERROR{]} Target option 6 is no longer supported. Use 7 or later.{[}ERROR{]} -> {[}Help 1{]}{[}ERROR{]} {[}ERROR{]} To see the full stack trace of the errors, re-run Maven with the -e switch.{[}ERROR{]} Re-run Maven using the -X switch to enable full debug logging.{[}ERROR{]} {[}ERROR{]} For more information about the errors and possible solutions, please read the following articles:{[}ERROR{]} {[}Help 1{]} http://cwiki.apache.org/confluence/display/MAVEN/MojoFailureException                                                                                                                              & master                  & 1 & 5\\\\\n",
       "\t2 & 2 & abel533 & Mapper & 577 & Y3Vyc29yOjIwMA== & https://github.com/abel533/Mapper & 53441 & https://github.com/abel533/Mapper/pull/577 & Update SqlHelper.java                     & OPEN & ⋯ & master & 0 & 0 & 0 & 1 & 0 & null{[}package{]} failed (1): {[}ERROR{]} COMPILATION ERROR : {[}ERROR{]} Source option 6 is no longer supported. Use 7 or later.{[}ERROR{]} Target option 6 is no longer supported. Use 7 or later.{[}ERROR{]} Failed to execute goal org.apache.maven.plugins:maven-compiler-plugin:3.1:compile (default-compile) on project mapper-core: Compilation failure: Compilation failure: {[}ERROR{]} Source option 6 is no longer supported. Use 7 or later.{[}ERROR{]} Target option 6 is no longer supported. Use 7 or later.{[}ERROR{]} -> {[}Help 1{]}{[}ERROR{]} {[}ERROR{]} To see the full stack trace of the errors, re-run Maven with the -e switch.{[}ERROR{]} Re-run Maven using the -X switch to enable full debug logging.{[}ERROR{]} {[}ERROR{]} For more information about the errors and possible solutions, please read the following articles:{[}ERROR{]} {[}Help 1{]} http://cwiki.apache.org/confluence/display/MAVEN/MojoFailureException{[}ERROR{]} {[}ERROR{]} After correcting the problems, you can resume the build with the command{[}ERROR{]}   mvn <args> -rf :mapper-core & stotem-patch-1          & 1 & 5\\\\\n",
       "\t3 & 3 & abel533 & Mapper & 647 & Y3Vyc29yOjIwMA== & https://github.com/abel533/Mapper & 53441 & https://github.com/abel533/Mapper/pull/647 & 增加指定字段强制更新(包含null)方法        & OPEN & ⋯ & master & 0 & 0 & 0 & 2 & 0 & null{[}package{]} failed (1): {[}ERROR{]} COMPILATION ERROR : {[}ERROR{]} Source option 6 is no longer supported. Use 7 or later.{[}ERROR{]} Target option 6 is no longer supported. Use 7 or later.{[}ERROR{]} Failed to execute goal org.apache.maven.plugins:maven-compiler-plugin:3.1:compile (default-compile) on project mapper-core: Compilation failure: Compilation failure: {[}ERROR{]} Source option 6 is no longer supported. Use 7 or later.{[}ERROR{]} Target option 6 is no longer supported. Use 7 or later.{[}ERROR{]} -> {[}Help 1{]}{[}ERROR{]} {[}ERROR{]} To see the full stack trace of the errors, re-run Maven with the -e switch.{[}ERROR{]} Re-run Maven using the -X switch to enable full debug logging.{[}ERROR{]} {[}ERROR{]} For more information about the errors and possible solutions, please read the following articles:{[}ERROR{]} {[}Help 1{]} http://cwiki.apache.org/confluence/display/MAVEN/MojoFailureException{[}ERROR{]} {[}ERROR{]} After correcting the problems, you can resume the build with the command{[}ERROR{]}   mvn <args> -rf :mapper-core & force                   & 1 & 5\\\\\n",
       "\t4 & 4 & abel533 & Mapper & 741 & Y3Vyc29yOjIwMA== & https://github.com/abel533/Mapper & 53441 & https://github.com/abel533/Mapper/pull/741 & Feat:增加批量update功能                   & OPEN & ⋯ & master & 0 & 0 & 0 & 6 & 0 &                                                                                                                                                                                                                                                                                                                                                                                                                                                                                                                                                                                                                                                                                                                                                                                                                                                                                                                                                                                                                          & master                  & 0 & 3\\\\\n",
       "\t5 & 5 & abel533 & Mapper & 743 & Y3Vyc29yOjIwMA== & https://github.com/abel533/Mapper & 53441 & https://github.com/abel533/Mapper/pull/743 & 修复 AggregationProvider 的问题           & OPEN & ⋯ & master & 0 & 0 & 0 & 5 & 0 & null{[}package{]} failed (1): {[}ERROR{]} COMPILATION ERROR : {[}ERROR{]} Source option 6 is no longer supported. Use 7 or later.{[}ERROR{]} Target option 6 is no longer supported. Use 7 or later.{[}ERROR{]} Failed to execute goal org.apache.maven.plugins:maven-compiler-plugin:3.1:compile (default-compile) on project mapper-core: Compilation failure: Compilation failure: {[}ERROR{]} Source option 6 is no longer supported. Use 7 or later.{[}ERROR{]} Target option 6 is no longer supported. Use 7 or later.{[}ERROR{]} -> {[}Help 1{]}{[}ERROR{]} {[}ERROR{]} To see the full stack trace of the errors, re-run Maven with the -e switch.{[}ERROR{]} Re-run Maven using the -X switch to enable full debug logging.{[}ERROR{]} {[}ERROR{]} For more information about the errors and possible solutions, please read the following articles:{[}ERROR{]} {[}Help 1{]} http://cwiki.apache.org/confluence/display/MAVEN/MojoFailureException{[}ERROR{]} {[}ERROR{]} After correcting the problems, you can resume the build with the command{[}ERROR{]}   mvn <args> -rf :mapper-core & Fix\\_AggregationProvider & 1 & 6\\\\\n",
       "\t6 & 6 & abel533 & Mapper & 793 & Y3Vyc29yOjIwMA== & https://github.com/abel533/Mapper & 53441 & https://github.com/abel533/Mapper/pull/793 & feat:新增根据实体中的属性进行查询指定属性 & OPEN & ⋯ & master & 0 & 0 & 0 & 2 & 0 &                                                                                                                                                                                                                                                                                                                                                                                                                                                                                                                                                                                                                                                                                                                                                                                                                                                                                                                                                                                                                          & master                  & 0 & 2\\\\\n",
       "\\end{tabular}\n"
      ],
      "text/markdown": [
       "\n",
       "A data.frame: 6 × 31\n",
       "\n",
       "| <!--/--> | X &lt;int&gt; | owner &lt;fct&gt; | name &lt;fct&gt; | number &lt;int&gt; | cursor &lt;fct&gt; | repoUrl &lt;fct&gt; | clients &lt;int&gt; | prUrl &lt;fct&gt; | title &lt;fct&gt; | state &lt;fct&gt; | ⋯ ⋯ | base &lt;fct&gt; | breakingChanges &lt;int&gt; | brokenClients &lt;int&gt; | brokenUses &lt;int&gt; | changedFiles &lt;int&gt; | checkedClients &lt;int&gt; | errors &lt;fct&gt; | head &lt;fct&gt; | impactedPackages &lt;int&gt; | seconds &lt;int&gt; |\n",
       "|---|---|---|---|---|---|---|---|---|---|---|---|---|---|---|---|---|---|---|---|---|---|\n",
       "| 1 | 1 | abel533 | Mapper | 245 | Y3Vyc29yOjIwMA== | https://github.com/abel533/Mapper | 53441 | https://github.com/abel533/Mapper/pull/245 | 添加别名                                  | OPEN | ⋯ | master | 0 | 0 | 0 | 7 | 0 | null[package] failed (1): [ERROR] COMPILATION ERROR : [ERROR] Source option 6 is no longer supported. Use 7 or later.[ERROR] Target option 6 is no longer supported. Use 7 or later.[ERROR] Failed to execute goal org.apache.maven.plugins:maven-compiler-plugin:3.1:compile (default-compile) on project mapper-core: Compilation failure: Compilation failure: [ERROR] Source option 6 is no longer supported. Use 7 or later.[ERROR] Target option 6 is no longer supported. Use 7 or later.[ERROR] -&gt; [Help 1][ERROR] [ERROR] To see the full stack trace of the errors, re-run Maven with the -e switch.[ERROR] Re-run Maven using the -X switch to enable full debug logging.[ERROR] [ERROR] For more information about the errors and possible solutions, please read the following articles:[ERROR] [Help 1] http://cwiki.apache.org/confluence/display/MAVEN/MojoFailureException                                                                                                                              | master                  | 1 | 5 |\n",
       "| 2 | 2 | abel533 | Mapper | 577 | Y3Vyc29yOjIwMA== | https://github.com/abel533/Mapper | 53441 | https://github.com/abel533/Mapper/pull/577 | Update SqlHelper.java                     | OPEN | ⋯ | master | 0 | 0 | 0 | 1 | 0 | null[package] failed (1): [ERROR] COMPILATION ERROR : [ERROR] Source option 6 is no longer supported. Use 7 or later.[ERROR] Target option 6 is no longer supported. Use 7 or later.[ERROR] Failed to execute goal org.apache.maven.plugins:maven-compiler-plugin:3.1:compile (default-compile) on project mapper-core: Compilation failure: Compilation failure: [ERROR] Source option 6 is no longer supported. Use 7 or later.[ERROR] Target option 6 is no longer supported. Use 7 or later.[ERROR] -&gt; [Help 1][ERROR] [ERROR] To see the full stack trace of the errors, re-run Maven with the -e switch.[ERROR] Re-run Maven using the -X switch to enable full debug logging.[ERROR] [ERROR] For more information about the errors and possible solutions, please read the following articles:[ERROR] [Help 1] http://cwiki.apache.org/confluence/display/MAVEN/MojoFailureException[ERROR] [ERROR] After correcting the problems, you can resume the build with the command[ERROR]   mvn &lt;args&gt; -rf :mapper-core | stotem-patch-1          | 1 | 5 |\n",
       "| 3 | 3 | abel533 | Mapper | 647 | Y3Vyc29yOjIwMA== | https://github.com/abel533/Mapper | 53441 | https://github.com/abel533/Mapper/pull/647 | 增加指定字段强制更新(包含null)方法        | OPEN | ⋯ | master | 0 | 0 | 0 | 2 | 0 | null[package] failed (1): [ERROR] COMPILATION ERROR : [ERROR] Source option 6 is no longer supported. Use 7 or later.[ERROR] Target option 6 is no longer supported. Use 7 or later.[ERROR] Failed to execute goal org.apache.maven.plugins:maven-compiler-plugin:3.1:compile (default-compile) on project mapper-core: Compilation failure: Compilation failure: [ERROR] Source option 6 is no longer supported. Use 7 or later.[ERROR] Target option 6 is no longer supported. Use 7 or later.[ERROR] -&gt; [Help 1][ERROR] [ERROR] To see the full stack trace of the errors, re-run Maven with the -e switch.[ERROR] Re-run Maven using the -X switch to enable full debug logging.[ERROR] [ERROR] For more information about the errors and possible solutions, please read the following articles:[ERROR] [Help 1] http://cwiki.apache.org/confluence/display/MAVEN/MojoFailureException[ERROR] [ERROR] After correcting the problems, you can resume the build with the command[ERROR]   mvn &lt;args&gt; -rf :mapper-core | force                   | 1 | 5 |\n",
       "| 4 | 4 | abel533 | Mapper | 741 | Y3Vyc29yOjIwMA== | https://github.com/abel533/Mapper | 53441 | https://github.com/abel533/Mapper/pull/741 | Feat:增加批量update功能                   | OPEN | ⋯ | master | 0 | 0 | 0 | 6 | 0 | <!----> | master                  | 0 | 3 |\n",
       "| 5 | 5 | abel533 | Mapper | 743 | Y3Vyc29yOjIwMA== | https://github.com/abel533/Mapper | 53441 | https://github.com/abel533/Mapper/pull/743 | 修复 AggregationProvider 的问题           | OPEN | ⋯ | master | 0 | 0 | 0 | 5 | 0 | null[package] failed (1): [ERROR] COMPILATION ERROR : [ERROR] Source option 6 is no longer supported. Use 7 or later.[ERROR] Target option 6 is no longer supported. Use 7 or later.[ERROR] Failed to execute goal org.apache.maven.plugins:maven-compiler-plugin:3.1:compile (default-compile) on project mapper-core: Compilation failure: Compilation failure: [ERROR] Source option 6 is no longer supported. Use 7 or later.[ERROR] Target option 6 is no longer supported. Use 7 or later.[ERROR] -&gt; [Help 1][ERROR] [ERROR] To see the full stack trace of the errors, re-run Maven with the -e switch.[ERROR] Re-run Maven using the -X switch to enable full debug logging.[ERROR] [ERROR] For more information about the errors and possible solutions, please read the following articles:[ERROR] [Help 1] http://cwiki.apache.org/confluence/display/MAVEN/MojoFailureException[ERROR] [ERROR] After correcting the problems, you can resume the build with the command[ERROR]   mvn &lt;args&gt; -rf :mapper-core | Fix_AggregationProvider | 1 | 6 |\n",
       "| 6 | 6 | abel533 | Mapper | 793 | Y3Vyc29yOjIwMA== | https://github.com/abel533/Mapper | 53441 | https://github.com/abel533/Mapper/pull/793 | feat:新增根据实体中的属性进行查询指定属性 | OPEN | ⋯ | master | 0 | 0 | 0 | 2 | 0 | <!----> | master                  | 0 | 2 |\n",
       "\n"
      ],
      "text/plain": [
       "  X owner   name   number cursor           repoUrl                          \n",
       "1 1 abel533 Mapper 245    Y3Vyc29yOjIwMA== https://github.com/abel533/Mapper\n",
       "2 2 abel533 Mapper 577    Y3Vyc29yOjIwMA== https://github.com/abel533/Mapper\n",
       "3 3 abel533 Mapper 647    Y3Vyc29yOjIwMA== https://github.com/abel533/Mapper\n",
       "4 4 abel533 Mapper 741    Y3Vyc29yOjIwMA== https://github.com/abel533/Mapper\n",
       "5 5 abel533 Mapper 743    Y3Vyc29yOjIwMA== https://github.com/abel533/Mapper\n",
       "6 6 abel533 Mapper 793    Y3Vyc29yOjIwMA== https://github.com/abel533/Mapper\n",
       "  clients prUrl                                     \n",
       "1 53441   https://github.com/abel533/Mapper/pull/245\n",
       "2 53441   https://github.com/abel533/Mapper/pull/577\n",
       "3 53441   https://github.com/abel533/Mapper/pull/647\n",
       "4 53441   https://github.com/abel533/Mapper/pull/741\n",
       "5 53441   https://github.com/abel533/Mapper/pull/743\n",
       "6 53441   https://github.com/abel533/Mapper/pull/793\n",
       "  title                                     state ⋯ base   breakingChanges\n",
       "1 添加别名                                  OPEN  ⋯ master 0              \n",
       "2 Update SqlHelper.java                     OPEN  ⋯ master 0              \n",
       "3 增加指定字段强制更新(包含null)方法        OPEN  ⋯ master 0              \n",
       "4 Feat:增加批量update功能                   OPEN  ⋯ master 0              \n",
       "5 修复 AggregationProvider 的问题           OPEN  ⋯ master 0              \n",
       "6 feat:新增根据实体中的属性进行查询指定属性 OPEN  ⋯ master 0              \n",
       "  brokenClients brokenUses changedFiles checkedClients\n",
       "1 0             0          7            0             \n",
       "2 0             0          1            0             \n",
       "3 0             0          2            0             \n",
       "4 0             0          6            0             \n",
       "5 0             0          5            0             \n",
       "6 0             0          2            0             \n",
       "  errors                                                                                                                                                                                                                                                                                                                                                                                                                                                                                                                                                                                                                                                                                                                                                                                                                                                                                                                                                                                                                  \n",
       "1 null[package] failed (1): [ERROR] COMPILATION ERROR : [ERROR] Source option 6 is no longer supported. Use 7 or later.[ERROR] Target option 6 is no longer supported. Use 7 or later.[ERROR] Failed to execute goal org.apache.maven.plugins:maven-compiler-plugin:3.1:compile (default-compile) on project mapper-core: Compilation failure: Compilation failure: [ERROR] Source option 6 is no longer supported. Use 7 or later.[ERROR] Target option 6 is no longer supported. Use 7 or later.[ERROR] -> [Help 1][ERROR] [ERROR] To see the full stack trace of the errors, re-run Maven with the -e switch.[ERROR] Re-run Maven using the -X switch to enable full debug logging.[ERROR] [ERROR] For more information about the errors and possible solutions, please read the following articles:[ERROR] [Help 1] http://cwiki.apache.org/confluence/display/MAVEN/MojoFailureException                                                                                                                             \n",
       "2 null[package] failed (1): [ERROR] COMPILATION ERROR : [ERROR] Source option 6 is no longer supported. Use 7 or later.[ERROR] Target option 6 is no longer supported. Use 7 or later.[ERROR] Failed to execute goal org.apache.maven.plugins:maven-compiler-plugin:3.1:compile (default-compile) on project mapper-core: Compilation failure: Compilation failure: [ERROR] Source option 6 is no longer supported. Use 7 or later.[ERROR] Target option 6 is no longer supported. Use 7 or later.[ERROR] -> [Help 1][ERROR] [ERROR] To see the full stack trace of the errors, re-run Maven with the -e switch.[ERROR] Re-run Maven using the -X switch to enable full debug logging.[ERROR] [ERROR] For more information about the errors and possible solutions, please read the following articles:[ERROR] [Help 1] http://cwiki.apache.org/confluence/display/MAVEN/MojoFailureException[ERROR] [ERROR] After correcting the problems, you can resume the build with the command[ERROR]   mvn <args> -rf :mapper-core\n",
       "3 null[package] failed (1): [ERROR] COMPILATION ERROR : [ERROR] Source option 6 is no longer supported. Use 7 or later.[ERROR] Target option 6 is no longer supported. Use 7 or later.[ERROR] Failed to execute goal org.apache.maven.plugins:maven-compiler-plugin:3.1:compile (default-compile) on project mapper-core: Compilation failure: Compilation failure: [ERROR] Source option 6 is no longer supported. Use 7 or later.[ERROR] Target option 6 is no longer supported. Use 7 or later.[ERROR] -> [Help 1][ERROR] [ERROR] To see the full stack trace of the errors, re-run Maven with the -e switch.[ERROR] Re-run Maven using the -X switch to enable full debug logging.[ERROR] [ERROR] For more information about the errors and possible solutions, please read the following articles:[ERROR] [Help 1] http://cwiki.apache.org/confluence/display/MAVEN/MojoFailureException[ERROR] [ERROR] After correcting the problems, you can resume the build with the command[ERROR]   mvn <args> -rf :mapper-core\n",
       "4                                                                                                                                                                                                                                                                                                                                                                                                                                                                                                                                                                                                                                                                                                                                                                                                                                                                                                                                                                                                                         \n",
       "5 null[package] failed (1): [ERROR] COMPILATION ERROR : [ERROR] Source option 6 is no longer supported. Use 7 or later.[ERROR] Target option 6 is no longer supported. Use 7 or later.[ERROR] Failed to execute goal org.apache.maven.plugins:maven-compiler-plugin:3.1:compile (default-compile) on project mapper-core: Compilation failure: Compilation failure: [ERROR] Source option 6 is no longer supported. Use 7 or later.[ERROR] Target option 6 is no longer supported. Use 7 or later.[ERROR] -> [Help 1][ERROR] [ERROR] To see the full stack trace of the errors, re-run Maven with the -e switch.[ERROR] Re-run Maven using the -X switch to enable full debug logging.[ERROR] [ERROR] For more information about the errors and possible solutions, please read the following articles:[ERROR] [Help 1] http://cwiki.apache.org/confluence/display/MAVEN/MojoFailureException[ERROR] [ERROR] After correcting the problems, you can resume the build with the command[ERROR]   mvn <args> -rf :mapper-core\n",
       "6                                                                                                                                                                                                                                                                                                                                                                                                                                                                                                                                                                                                                                                                                                                                                                                                                                                                                                                                                                                                                         \n",
       "  head                    impactedPackages seconds\n",
       "1 master                  1                5      \n",
       "2 stotem-patch-1          1                5      \n",
       "3 force                   1                5      \n",
       "4 master                  0                3      \n",
       "5 Fix_AggregationProvider 1                6      \n",
       "6 master                  0                2      "
      ]
     },
     "metadata": {},
     "output_type": "display_data"
    },
    {
     "data": {
      "text/plain": [
       "       X                   owner           name          number     \n",
       " Min.   :   1.0   apache      :1594   trino  : 390   Min.   :   66  \n",
       " 1st Qu.: 947.2   trinodb     : 390   alluxio: 232   1st Qu.: 3599  \n",
       " Median :1893.5   Alluxio     : 232   hudi   : 177   Median : 8574  \n",
       " Mean   :1893.5   OpenAPITools:  93   flink  : 173   Mean   : 9827  \n",
       " 3rd Qu.:2839.8   alibaba     :  80   pulsar : 159   3rd Qu.:14849  \n",
       " Max.   :3786.0   keycloak    :  76   hadoop :  93   Max.   :32312  \n",
       "                  (Other)     :1321   (Other):2562                  \n",
       "              cursor                                   repoUrl    \n",
       " Y3Vyc29yOjIxNA==: 343   https://github.com/trinodb/trino  : 390  \n",
       " Y3Vyc29yOjI0MA==: 214   https://github.com/Alluxio/alluxio: 232  \n",
       " Y3Vyc29yOjU1    : 173   https://github.com/apache/hudi    : 177  \n",
       " Y3Vyc29yOjM4OA==: 143   https://github.com/apache/flink   : 173  \n",
       " Y3Vyc29yOjExMg==: 125   https://github.com/apache/pulsar  : 159  \n",
       " Y3Vyc29yOjgz    :  95   https://github.com/apache/hadoop  :  93  \n",
       " (Other)         :2693   (Other)                           :2562  \n",
       "    clients                                               prUrl     \n",
       " Min.   :    127   https://github.com/abel533/Mapper/pull/245:   1  \n",
       " 1st Qu.:   1589   https://github.com/abel533/Mapper/pull/577:   1  \n",
       " Median :   3272   https://github.com/abel533/Mapper/pull/647:   1  \n",
       " Mean   :  26750   https://github.com/abel533/Mapper/pull/741:   1  \n",
       " 3rd Qu.:  22544   https://github.com/abel533/Mapper/pull/743:   1  \n",
       " Max.   :1380374   https://github.com/abel533/Mapper/pull/793:   1  \n",
       "                   (Other)                                   :3780  \n",
       "                                                                                                                                          title     \n",
       " [SECURITY] Fix Temporary File Information Disclosure Vulnerability                                                                          :   7  \n",
       " Internal                                                                                                                                    :   5  \n",
       " [Bug][API]edit workflow query resources list error.                                                                                         :   2  \n",
       " [BUG][API]task definition reference deleted resource files.                                                                                 :   2  \n",
       " [FLINK-29781][table-planner] Fix ChangelogNormalize uses wrong keys after transformation by WatermarkAssignerChangelogNormalizeTransposeRule:   2  \n",
       " [ISSUE #8694] Support prometheus http service discovery                                                                                     :   2  \n",
       " (Other)                                                                                                                                     :3766  \n",
       "  state        draft          files          javaFiles     \n",
       " OPEN:3786   false:3395   Min.   :  1.00   Min.   :  1.00  \n",
       "             true : 391   1st Qu.:  2.00   1st Qu.:  2.00  \n",
       "                          Median :  5.00   Median :  4.00  \n",
       "                          Mean   : 13.44   Mean   : 10.54  \n",
       "                          3rd Qu.: 14.00   3rd Qu.: 11.00  \n",
       "                          Max.   :100.00   Max.   :100.00  \n",
       "                                                           \n",
       "            baseRepo         baseRef         baseRefPrefix \n",
       " trinodb/trino  : 390   master   :2467   refs/heads/:3786  \n",
       " Alluxio/alluxio: 232   main     : 637                     \n",
       " apache/hudi    : 177   dev      : 167                     \n",
       " apache/flink   : 173   develop  : 111                     \n",
       " apache/pulsar  : 159   trunk    :  90                     \n",
       " apache/hadoop  :  93   dev-1.3.1:  15                     \n",
       " (Other)        :2562   (Other)  : 299                     \n",
       "                     headRepo   \n",
       " eclipse/jetty.project   :  21  \n",
       " nsivabalan/hudi         :  21  \n",
       " Graylog2/graylog2-server:  20  \n",
       " maobaolong/alluxio      :  18  \n",
       " ashutoshcipher/hadoop   :  15  \n",
       " findepi/trino           :  15  \n",
       " (Other)                 :3676  \n",
       "                                                headRef         headRefPrefix \n",
       " master                                             : 152   refs/heads/:3786  \n",
       " main                                               :  38                     \n",
       " dev                                                :  22                     \n",
       " develop                                            :  18                     \n",
       " patch-1                                            :  18                     \n",
       " fix/JLL/temporary_file_local_information_disclosure:   8                     \n",
       " (Other)                                            :3530                     \n",
       "      createdAt        publishedAt        base      breakingChanges    \n",
       " 2022-11-23: 143   2022-11-23: 143   master :2435   Min.   :    0.000  \n",
       " 2022-11-11: 121   2022-11-11: 121   main   : 631   1st Qu.:    0.000  \n",
       " 2022-11-22: 114   2022-11-22: 114   dev    : 167   Median :    0.000  \n",
       " 2022-11-10: 108   2022-11-10: 108   develop: 111   Mean   :    8.455  \n",
       " 2022-11-18:  84   2022-11-18:  84   trunk  :  90   3rd Qu.:    0.000  \n",
       " 2022-11-08:  81   2022-11-08:  81          :  45   Max.   :17826.000  \n",
       " (Other)   :3135   (Other)   :3135   (Other): 307                      \n",
       " brokenClients      brokenUses        changedFiles     checkedClients   \n",
       " Min.   : 0.000   Min.   :   0.000   Min.   :   0.00   Min.   :  0.000  \n",
       " 1st Qu.: 0.000   1st Qu.:   0.000   1st Qu.:   2.00   1st Qu.:  0.000  \n",
       " Median : 0.000   Median :   0.000   Median :   5.00   Median :  0.000  \n",
       " Mean   : 0.127   Mean   :   3.166   Mean   :  24.16   Mean   :  4.598  \n",
       " 3rd Qu.: 0.000   3rd Qu.:   0.000   3rd Qu.:  14.00   3rd Qu.:  0.000  \n",
       " Max.   :91.000   Max.   :2693.000   Max.   :3000.00   Max.   :337.000  \n",
       "                                                                        \n",
       "                                                                                                                                                                                                                                                                                                                                                                                                                                                                                                                                                                                                                                                                                                                                                                                                                                                                                                                                                                                                                                                                                                                                                                                                 errors    \n",
       "                                                                                                                                                                                                                                                                                                                                                                                                                                                                                                                                                                                                                                                                                                                                                                                                                                                                                                                                                                                                                                                                                                                                                                                                    :1319  \n",
       " nullnull                                                                                                                                                                                                                                                                                                                                                                                                                                                                                                                                                                                                                                                                                                                                                                                                                                                                                                                                                                                                                                                                                                                                                                                           :  81  \n",
       " null[package] failed (1): [ERROR] Failed to execute goal on project pulsar-broker: Could not resolve dependencies for project org.apache.pulsar:pulsar-broker:jar:2.11.0-SNAPSHOT: Failure to find org.apache.pulsar:pulsar-metadata:jar:tests:2.11.0-SNAPSHOT in https://repository.apache.org/snapshots was cached in the local repository, resolution will not be reattempted until the update interval of apache.snapshots has elapsed or updates are forced -> [Help 1][ERROR] [ERROR] To see the full stack trace of the errors, re-run Maven with the -e switch.[ERROR] Re-run Maven using the -X switch to enable full debug logging.[ERROR] [ERROR] For more information about the errors and possible solutions, please read the following articles:[ERROR] [Help 1] http://cwiki.apache.org/confluence/display/MAVEN/DependencyResolutionException[ERROR] [ERROR] After correcting the problems, you can resume the build with the command[ERROR]   mvn <args> -rf :pulsar-broker                                                                                                                                                                                                       :  38  \n",
       " null[package] failed (1): [ERROR] Failed to execute goal on project trino-plugin-toolkit: Could not resolve dependencies for project io.trino:trino-plugin-toolkit:jar:403-SNAPSHOT: Failure to find io.trino:trino-spi:jar:tests:403-SNAPSHOT in https://oss.sonatype.org/content/repositories/snapshots was cached in the local repository, resolution will not be reattempted until the update interval of sonatype-nexus-snapshots has elapsed or updates are forced -> [Help 1][ERROR] [ERROR] To see the full stack trace of the errors, re-run Maven with the -e switch.[ERROR] Re-run Maven using the -X switch to enable full debug logging.[ERROR] [ERROR] For more information about the errors and possible solutions, please read the following articles:[ERROR] [Help 1] http://cwiki.apache.org/confluence/display/MAVEN/DependencyResolutionException[ERROR] [ERROR] After correcting the problems, you can resume the build with the command[ERROR]   mvn <args> -rf :trino-plugin-toolkit                                                                                                                                                                                        :  34  \n",
       " null[package] failed (1): [info] Running process libraries[info] Processing library Library: type: jni[info] Running process libraries[info] Processing library Library: type: jni[ERROR] Failed to execute goal on project bookkeeper-common: Could not resolve dependencies for project org.apache.bookkeeper:bookkeeper-common:jar:4.16.0-SNAPSHOT: org.apache.bookkeeper:cpu-affinity:jar:4.16.0-SNAPSHOT was not found in https://repository.apache.org/snapshots during a previous attempt. This failure was cached in the local repository and resolution is not reattempted until the update interval of apache.snapshots has elapsed or updates are forced -> [Help 1][ERROR] [ERROR] To see the full stack trace of the errors, re-run Maven with the -e switch.[ERROR] Re-run Maven using the -X switch to enable full debug logging.[ERROR] [ERROR] For more information about the errors and possible solutions, please read the following articles:[ERROR] [Help 1] http://cwiki.apache.org/confluence/display/MAVEN/DependencyResolutionException[ERROR] [ERROR] After correcting the problems, you can resume the build with the command[ERROR]   mvn <args> -rf :bookkeeper-common:  28  \n",
       " null[package] failed (1): [ERROR] Failed to execute goal on project keycloak-crypto-default: Could not resolve dependencies for project org.keycloak:keycloak-crypto-default:jar:999-SNAPSHOT: Could not find artifact org.keycloak:keycloak-core:jar:tests:999-SNAPSHOT -> [Help 1][ERROR] [ERROR] To see the full stack trace of the errors, re-run Maven with the -e switch.[ERROR] Re-run Maven using the -X switch to enable full debug logging.[ERROR] [ERROR] For more information about the errors and possible solutions, please read the following articles:[ERROR] [Help 1] http://cwiki.apache.org/confluence/display/MAVEN/DependencyResolutionException[ERROR] [ERROR] After correcting the problems, you can resume the build with the command[ERROR]   mvn <args> -rf :keycloak-crypto-default                                                                                                                                                                                                                                                                                                                                                                                     :  25  \n",
       " (Other)                                                                                                                                                                                                                                                                                                                                                                                                                                                                                                                                                                                                                                                                                                                                                                                                                                                                                                                                                                                                                                                                                                                                                                                            :2261  \n",
       "      head      impactedPackages    seconds       \n",
       " master : 151   Min.   : 0.000   Min.   :    1.0  \n",
       "        :  45   1st Qu.: 1.000   1st Qu.:   31.0  \n",
       " main   :  38   Median : 1.000   Median :   54.0  \n",
       " dev    :  22   Mean   : 2.188   Mean   :  147.3  \n",
       " develop:  18   3rd Qu.: 2.000   3rd Qu.:  123.0  \n",
       " patch-1:  18   Max.   :97.000   Max.   :28661.0  \n",
       " (Other):3494                                     "
      ]
     },
     "metadata": {},
     "output_type": "display_data"
    }
   ],
   "source": [
    "head(prs)\n",
    "summary(prs)"
   ]
  },
  {
   "cell_type": "markdown",
   "id": "701378b4-d4c8-4970-a287-950795162cfe",
   "metadata": {},
   "source": [
    "## Results"
   ]
  },
  {
   "cell_type": "code",
   "execution_count": 26,
   "id": "62a5c7c8-929f-4cce-9043-a0ccf149f747",
   "metadata": {},
   "outputs": [
    {
     "data": {
      "text/html": [
       "3786"
      ],
      "text/latex": [
       "3786"
      ],
      "text/markdown": [
       "3786"
      ],
      "text/plain": [
       "[1] 3786"
      ]
     },
     "metadata": {},
     "output_type": "display_data"
    },
    {
     "data": {
      "text/html": [
       "465"
      ],
      "text/latex": [
       "465"
      ],
      "text/markdown": [
       "465"
      ],
      "text/plain": [
       "[1] 465"
      ]
     },
     "metadata": {},
     "output_type": "display_data"
    },
    {
     "data": {
      "text/html": [
       "83"
      ],
      "text/latex": [
       "83"
      ],
      "text/markdown": [
       "83"
      ],
      "text/plain": [
       "[1] 83"
      ]
     },
     "metadata": {},
     "output_type": "display_data"
    },
    {
     "ename": "ERROR",
     "evalue": "Error in nrow(results): object 'results' not found\n",
     "output_type": "error",
     "traceback": [
      "Error in nrow(results): object 'results' not found\nTraceback:\n",
      "1. nrow(results)"
     ]
    }
   ],
   "source": [
    "breaking <- subset(all, breakingChanges > 0)\n",
    "nrow(all)\n",
    "nrow(breaking)\n",
    "impacting <- subset(breaking, brokenClients > 0)\n",
    "nrow(impacting)\n",
    "nrow(results)"
   ]
  },
  {
   "cell_type": "markdown",
   "id": "bbe3d7a4-29f5-4dcf-a675-731883ef6548",
   "metadata": {},
   "source": [
    "Overall, 465 out of 3786 PRs are breaking (12.28%), and 42 have an impact on clients (2.19% of all, 17.85% of breaking ones)."
   ]
  },
  {
   "cell_type": "markdown",
   "id": "73723c49-5e49-456a-af9d-c3a66589eea5",
   "metadata": {},
   "source": [
    "## BreakBot reports\n",
    "  - First, we fork the original repository in our own organization `breakbot-playground`\n",
    "  - Then, we copy the PRs of interest in the fork\n",
    "  - BreakBot runs automatically on these PRs to produce its reports\n",
    "  - The `.github/breakbot.yml` configuration we use is as follows (100 clients per impacted package at most, with a minimum of 5 stars)\n",
    "  \n",
    "```\n",
    "clients:\n",
    "  top: 100\n",
    "  stars: 5\n",
    "```\n"
   ]
  },
  {
   "cell_type": "code",
   "execution_count": null,
   "id": "20abe5a1-10ac-403d-944c-0420c6eefafb",
   "metadata": {},
   "outputs": [],
   "source": []
  }
 ],
 "metadata": {
  "kernelspec": {
   "display_name": "R",
   "language": "R",
   "name": "ir"
  },
  "language_info": {
   "codemirror_mode": "r",
   "file_extension": ".r",
   "mimetype": "text/x-r-source",
   "name": "R",
   "pygments_lexer": "r",
   "version": "4.2.2"
  }
 },
 "nbformat": 4,
 "nbformat_minor": 5
}
