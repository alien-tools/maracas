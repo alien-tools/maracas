{
 "cells": [
  {
   "cell_type": "markdown",
   "id": "3075f040-68c9-4e3c-a4b1-a83db2e53487",
   "metadata": {},
   "source": [
    "# TSE Data Analysis"
   ]
  },
  {
   "cell_type": "code",
   "execution_count": 1,
   "id": "7b62d27f-a18e-4910-a676-cd3dcf306d90",
   "metadata": {},
   "outputs": [
    {
     "name": "stderr",
     "output_type": "stream",
     "text": [
      "\n",
      "Attaching package: ‘dplyr’\n",
      "\n",
      "\n",
      "The following objects are masked from ‘package:stats’:\n",
      "\n",
      "    filter, lag\n",
      "\n",
      "\n",
      "The following objects are masked from ‘package:base’:\n",
      "\n",
      "    intersect, setdiff, setequal, union\n",
      "\n",
      "\n"
     ]
    }
   ],
   "source": [
    "library(dplyr)\n",
    "library(ggplot2)"
   ]
  },
  {
   "cell_type": "code",
   "execution_count": 2,
   "id": "971e49ee-5438-4bbe-a083-2a766c5684db",
   "metadata": {},
   "outputs": [
    {
     "data": {
      "text/html": [
       "<table class=\"dataframe\">\n",
       "<caption>A data.frame: 6 × 22</caption>\n",
       "<thead>\n",
       "\t<tr><th></th><th scope=col>cursor</th><th scope=col>owner</th><th scope=col>name</th><th scope=col>repoUrl</th><th scope=col>clients</th><th scope=col>prUrl</th><th scope=col>title</th><th scope=col>number</th><th scope=col>state</th><th scope=col>draft</th><th scope=col>⋯</th><th scope=col>baseRepo</th><th scope=col>baseRef</th><th scope=col>baseRefPrefix</th><th scope=col>headRepo</th><th scope=col>headRef</th><th scope=col>headRefPrefix</th><th scope=col>createdAt</th><th scope=col>publishedAt</th><th scope=col>mergedAt</th><th scope=col>closedAt</th></tr>\n",
       "\t<tr><th></th><th scope=col>&lt;fct&gt;</th><th scope=col>&lt;fct&gt;</th><th scope=col>&lt;fct&gt;</th><th scope=col>&lt;fct&gt;</th><th scope=col>&lt;int&gt;</th><th scope=col>&lt;fct&gt;</th><th scope=col>&lt;fct&gt;</th><th scope=col>&lt;int&gt;</th><th scope=col>&lt;fct&gt;</th><th scope=col>&lt;fct&gt;</th><th scope=col>⋯</th><th scope=col>&lt;fct&gt;</th><th scope=col>&lt;fct&gt;</th><th scope=col>&lt;fct&gt;</th><th scope=col>&lt;fct&gt;</th><th scope=col>&lt;fct&gt;</th><th scope=col>&lt;fct&gt;</th><th scope=col>&lt;fct&gt;</th><th scope=col>&lt;fct&gt;</th><th scope=col>&lt;lgl&gt;</th><th scope=col>&lt;lgl&gt;</th></tr>\n",
       "</thead>\n",
       "<tbody>\n",
       "\t<tr><th scope=row>1</th><td>Y3Vyc29yOjEx</td><td>google</td><td>guava</td><td>https://github.com/google/guava</td><td>304728</td><td>https://github.com/google/guava/pull/6232 </td><td>Fixes for issues #3965, #1710, #5882 and #5773                             </td><td> 6232</td><td>OPEN</td><td>false</td><td>⋯</td><td>google/guava</td><td>master</td><td>refs/heads/</td><td>u6873285/guava  </td><td>master                                                </td><td>refs/heads/</td><td>2022-10-29</td><td>2022-10-29</td><td>NA</td><td>NA</td></tr>\n",
       "\t<tr><th scope=row>2</th><td>Y3Vyc29yOjEx</td><td>google</td><td>guava</td><td>https://github.com/google/guava</td><td>304728</td><td>https://github.com/google/guava/pull/6225 </td><td>added testput_nullvaluesupported to test                                   </td><td> 6225</td><td>OPEN</td><td>false</td><td>⋯</td><td>google/guava</td><td>master</td><td>refs/heads/</td><td>alvonellos/guava</td><td>#6217_Add_test_that_putIfAbsent_replaces_a_null_value_</td><td>refs/heads/</td><td>2022-10-23</td><td>2022-10-23</td><td>NA</td><td>NA</td></tr>\n",
       "\t<tr><th scope=row>3</th><td>Y3Vyc29yOjEx</td><td>google</td><td>guava</td><td>https://github.com/google/guava</td><td>304728</td><td>https://github.com/google/guava/pull/6218 </td><td>PR: Fix #3720                                                              </td><td> 6218</td><td>OPEN</td><td>false</td><td>⋯</td><td>google/guava</td><td>master</td><td>refs/heads/</td><td>yonghao97/guava </td><td>fix_3720                                              </td><td>refs/heads/</td><td>2022-10-17</td><td>2022-10-17</td><td>NA</td><td>NA</td></tr>\n",
       "\t<tr><th scope=row>4</th><td>Y3Vyc29yOjEx</td><td>google</td><td>guava</td><td>https://github.com/google/guava</td><td>304728</td><td>https://github.com/google/guava/pull/6188 </td><td>Fix Spliterator implementations for sorted collections                     </td><td> 6188</td><td>OPEN</td><td>false</td><td>⋯</td><td>google/guava</td><td>master</td><td>refs/heads/</td><td>kilink/guava    </td><td>sorted-collection-spliterator-fix                     </td><td>refs/heads/</td><td>2022-09-28</td><td>2022-09-28</td><td>NA</td><td>NA</td></tr>\n",
       "\t<tr><th scope=row>5</th><td>Y3Vyc29yOjEz</td><td>apache</td><td>dubbo</td><td>https://github.com/apache/dubbo</td><td> 50218</td><td>https://github.com/apache/dubbo/pull/10929</td><td>InstantiationAwareBeanPostProcessorAdapter即将废弃，不再兼容Spring Boot 3.x</td><td>10929</td><td>OPEN</td><td>false</td><td>⋯</td><td>apache/dubbo</td><td>3.1   </td><td>refs/heads/</td><td>chang6666/dubbo </td><td>3.1                                                   </td><td>refs/heads/</td><td>2022-11-13</td><td>2022-11-13</td><td>NA</td><td>NA</td></tr>\n",
       "\t<tr><th scope=row>6</th><td>Y3Vyc29yOjEz</td><td>apache</td><td>dubbo</td><td>https://github.com/apache/dubbo</td><td> 50218</td><td>https://github.com/apache/dubbo/pull/10926</td><td>Add some logs                                                              </td><td>10926</td><td>OPEN</td><td>false</td><td>⋯</td><td>apache/dubbo</td><td>3.2   </td><td>refs/heads/</td><td>AlbumenJ/dubbo  </td><td>1112_add_log                                          </td><td>refs/heads/</td><td>2022-11-12</td><td>2022-11-12</td><td>NA</td><td>NA</td></tr>\n",
       "</tbody>\n",
       "</table>\n"
      ],
      "text/latex": [
       "A data.frame: 6 × 22\n",
       "\\begin{tabular}{r|lllllllllllllllllllll}\n",
       "  & cursor & owner & name & repoUrl & clients & prUrl & title & number & state & draft & ⋯ & baseRepo & baseRef & baseRefPrefix & headRepo & headRef & headRefPrefix & createdAt & publishedAt & mergedAt & closedAt\\\\\n",
       "  & <fct> & <fct> & <fct> & <fct> & <int> & <fct> & <fct> & <int> & <fct> & <fct> & ⋯ & <fct> & <fct> & <fct> & <fct> & <fct> & <fct> & <fct> & <fct> & <lgl> & <lgl>\\\\\n",
       "\\hline\n",
       "\t1 & Y3Vyc29yOjEx & google & guava & https://github.com/google/guava & 304728 & https://github.com/google/guava/pull/6232  & Fixes for issues \\#3965, \\#1710, \\#5882 and \\#5773                              &  6232 & OPEN & false & ⋯ & google/guava & master & refs/heads/ & u6873285/guava   & master                                                 & refs/heads/ & 2022-10-29 & 2022-10-29 & NA & NA\\\\\n",
       "\t2 & Y3Vyc29yOjEx & google & guava & https://github.com/google/guava & 304728 & https://github.com/google/guava/pull/6225  & added testput\\_nullvaluesupported to test                                    &  6225 & OPEN & false & ⋯ & google/guava & master & refs/heads/ & alvonellos/guava & \\#6217\\_Add\\_test\\_that\\_putIfAbsent\\_replaces\\_a\\_null\\_value\\_ & refs/heads/ & 2022-10-23 & 2022-10-23 & NA & NA\\\\\n",
       "\t3 & Y3Vyc29yOjEx & google & guava & https://github.com/google/guava & 304728 & https://github.com/google/guava/pull/6218  & PR: Fix \\#3720                                                               &  6218 & OPEN & false & ⋯ & google/guava & master & refs/heads/ & yonghao97/guava  & fix\\_3720                                               & refs/heads/ & 2022-10-17 & 2022-10-17 & NA & NA\\\\\n",
       "\t4 & Y3Vyc29yOjEx & google & guava & https://github.com/google/guava & 304728 & https://github.com/google/guava/pull/6188  & Fix Spliterator implementations for sorted collections                      &  6188 & OPEN & false & ⋯ & google/guava & master & refs/heads/ & kilink/guava     & sorted-collection-spliterator-fix                      & refs/heads/ & 2022-09-28 & 2022-09-28 & NA & NA\\\\\n",
       "\t5 & Y3Vyc29yOjEz & apache & dubbo & https://github.com/apache/dubbo &  50218 & https://github.com/apache/dubbo/pull/10929 & InstantiationAwareBeanPostProcessorAdapter即将废弃，不再兼容Spring Boot 3.x & 10929 & OPEN & false & ⋯ & apache/dubbo & 3.1    & refs/heads/ & chang6666/dubbo  & 3.1                                                    & refs/heads/ & 2022-11-13 & 2022-11-13 & NA & NA\\\\\n",
       "\t6 & Y3Vyc29yOjEz & apache & dubbo & https://github.com/apache/dubbo &  50218 & https://github.com/apache/dubbo/pull/10926 & Add some logs                                                               & 10926 & OPEN & false & ⋯ & apache/dubbo & 3.2    & refs/heads/ & AlbumenJ/dubbo   & 1112\\_add\\_log                                           & refs/heads/ & 2022-11-12 & 2022-11-12 & NA & NA\\\\\n",
       "\\end{tabular}\n"
      ],
      "text/markdown": [
       "\n",
       "A data.frame: 6 × 22\n",
       "\n",
       "| <!--/--> | cursor &lt;fct&gt; | owner &lt;fct&gt; | name &lt;fct&gt; | repoUrl &lt;fct&gt; | clients &lt;int&gt; | prUrl &lt;fct&gt; | title &lt;fct&gt; | number &lt;int&gt; | state &lt;fct&gt; | draft &lt;fct&gt; | ⋯ ⋯ | baseRepo &lt;fct&gt; | baseRef &lt;fct&gt; | baseRefPrefix &lt;fct&gt; | headRepo &lt;fct&gt; | headRef &lt;fct&gt; | headRefPrefix &lt;fct&gt; | createdAt &lt;fct&gt; | publishedAt &lt;fct&gt; | mergedAt &lt;lgl&gt; | closedAt &lt;lgl&gt; |\n",
       "|---|---|---|---|---|---|---|---|---|---|---|---|---|---|---|---|---|---|---|---|---|---|\n",
       "| 1 | Y3Vyc29yOjEx | google | guava | https://github.com/google/guava | 304728 | https://github.com/google/guava/pull/6232  | Fixes for issues #3965, #1710, #5882 and #5773                              |  6232 | OPEN | false | ⋯ | google/guava | master | refs/heads/ | u6873285/guava   | master                                                 | refs/heads/ | 2022-10-29 | 2022-10-29 | NA | NA |\n",
       "| 2 | Y3Vyc29yOjEx | google | guava | https://github.com/google/guava | 304728 | https://github.com/google/guava/pull/6225  | added testput_nullvaluesupported to test                                    |  6225 | OPEN | false | ⋯ | google/guava | master | refs/heads/ | alvonellos/guava | #6217_Add_test_that_putIfAbsent_replaces_a_null_value_ | refs/heads/ | 2022-10-23 | 2022-10-23 | NA | NA |\n",
       "| 3 | Y3Vyc29yOjEx | google | guava | https://github.com/google/guava | 304728 | https://github.com/google/guava/pull/6218  | PR: Fix #3720                                                               |  6218 | OPEN | false | ⋯ | google/guava | master | refs/heads/ | yonghao97/guava  | fix_3720                                               | refs/heads/ | 2022-10-17 | 2022-10-17 | NA | NA |\n",
       "| 4 | Y3Vyc29yOjEx | google | guava | https://github.com/google/guava | 304728 | https://github.com/google/guava/pull/6188  | Fix Spliterator implementations for sorted collections                      |  6188 | OPEN | false | ⋯ | google/guava | master | refs/heads/ | kilink/guava     | sorted-collection-spliterator-fix                      | refs/heads/ | 2022-09-28 | 2022-09-28 | NA | NA |\n",
       "| 5 | Y3Vyc29yOjEz | apache | dubbo | https://github.com/apache/dubbo |  50218 | https://github.com/apache/dubbo/pull/10929 | InstantiationAwareBeanPostProcessorAdapter即将废弃，不再兼容Spring Boot 3.x | 10929 | OPEN | false | ⋯ | apache/dubbo | 3.1    | refs/heads/ | chang6666/dubbo  | 3.1                                                    | refs/heads/ | 2022-11-13 | 2022-11-13 | NA | NA |\n",
       "| 6 | Y3Vyc29yOjEz | apache | dubbo | https://github.com/apache/dubbo |  50218 | https://github.com/apache/dubbo/pull/10926 | Add some logs                                                               | 10926 | OPEN | false | ⋯ | apache/dubbo | 3.2    | refs/heads/ | AlbumenJ/dubbo   | 1112_add_log                                           | refs/heads/ | 2022-11-12 | 2022-11-12 | NA | NA |\n",
       "\n"
      ],
      "text/plain": [
       "  cursor       owner  name  repoUrl                         clients\n",
       "1 Y3Vyc29yOjEx google guava https://github.com/google/guava 304728 \n",
       "2 Y3Vyc29yOjEx google guava https://github.com/google/guava 304728 \n",
       "3 Y3Vyc29yOjEx google guava https://github.com/google/guava 304728 \n",
       "4 Y3Vyc29yOjEx google guava https://github.com/google/guava 304728 \n",
       "5 Y3Vyc29yOjEz apache dubbo https://github.com/apache/dubbo  50218 \n",
       "6 Y3Vyc29yOjEz apache dubbo https://github.com/apache/dubbo  50218 \n",
       "  prUrl                                     \n",
       "1 https://github.com/google/guava/pull/6232 \n",
       "2 https://github.com/google/guava/pull/6225 \n",
       "3 https://github.com/google/guava/pull/6218 \n",
       "4 https://github.com/google/guava/pull/6188 \n",
       "5 https://github.com/apache/dubbo/pull/10929\n",
       "6 https://github.com/apache/dubbo/pull/10926\n",
       "  title                                                                      \n",
       "1 Fixes for issues #3965, #1710, #5882 and #5773                             \n",
       "2 added testput_nullvaluesupported to test                                   \n",
       "3 PR: Fix #3720                                                              \n",
       "4 Fix Spliterator implementations for sorted collections                     \n",
       "5 InstantiationAwareBeanPostProcessorAdapter即将废弃，不再兼容Spring Boot 3.x\n",
       "6 Add some logs                                                              \n",
       "  number state draft ⋯ baseRepo     baseRef baseRefPrefix headRepo        \n",
       "1  6232  OPEN  false ⋯ google/guava master  refs/heads/   u6873285/guava  \n",
       "2  6225  OPEN  false ⋯ google/guava master  refs/heads/   alvonellos/guava\n",
       "3  6218  OPEN  false ⋯ google/guava master  refs/heads/   yonghao97/guava \n",
       "4  6188  OPEN  false ⋯ google/guava master  refs/heads/   kilink/guava    \n",
       "5 10929  OPEN  false ⋯ apache/dubbo 3.1     refs/heads/   chang6666/dubbo \n",
       "6 10926  OPEN  false ⋯ apache/dubbo 3.2     refs/heads/   AlbumenJ/dubbo  \n",
       "  headRef                                                headRefPrefix\n",
       "1 master                                                 refs/heads/  \n",
       "2 #6217_Add_test_that_putIfAbsent_replaces_a_null_value_ refs/heads/  \n",
       "3 fix_3720                                               refs/heads/  \n",
       "4 sorted-collection-spliterator-fix                      refs/heads/  \n",
       "5 3.1                                                    refs/heads/  \n",
       "6 1112_add_log                                           refs/heads/  \n",
       "  createdAt  publishedAt mergedAt closedAt\n",
       "1 2022-10-29 2022-10-29  NA       NA      \n",
       "2 2022-10-23 2022-10-23  NA       NA      \n",
       "3 2022-10-17 2022-10-17  NA       NA      \n",
       "4 2022-09-28 2022-09-28  NA       NA      \n",
       "5 2022-11-13 2022-11-13  NA       NA      \n",
       "6 2022-11-12 2022-11-12  NA       NA      "
      ]
     },
     "metadata": {},
     "output_type": "display_data"
    },
    {
     "data": {
      "text/plain": [
       "              cursor              owner           name     \n",
       " Y3Vyc29yOjIxNA==: 343   apache      :1066   trino  : 343  \n",
       " Y3Vyc29yOjI0MA==: 214   trinodb     : 343   alluxio: 214  \n",
       " Y3Vyc29yOjM4OA==: 144   Alluxio     : 214   hudi   : 144  \n",
       " Y3Vyc29yOjU1    : 139   OpenAPITools:  78   flink  : 139  \n",
       " Y3Vyc29yOjExMg==: 125   alibaba     :  56   pulsar : 125  \n",
       " Y3Vyc29yOjk4    :  93   keycloak    :  56   hadoop :  93  \n",
       " (Other)         :1470   (Other)     : 715   (Other):1470  \n",
       "                               repoUrl        clients       \n",
       " https://github.com/trinodb/trino  : 343   Min.   :    132  \n",
       " https://github.com/Alluxio/alluxio: 214   1st Qu.:   1589  \n",
       " https://github.com/apache/hudi    : 144   Median :   3272  \n",
       " https://github.com/apache/flink   : 139   Mean   :  28792  \n",
       " https://github.com/apache/pulsar  : 125   3rd Qu.:  22544  \n",
       " https://github.com/apache/hadoop  :  93   Max.   :1374859  \n",
       " (Other)                           :1470                    \n",
       "                                        prUrl     \n",
       " https://github.com/abel533/Mapper/pull/245:   1  \n",
       " https://github.com/abel533/Mapper/pull/577:   1  \n",
       " https://github.com/abel533/Mapper/pull/647:   1  \n",
       " https://github.com/abel533/Mapper/pull/741:   1  \n",
       " https://github.com/abel533/Mapper/pull/743:   1  \n",
       " https://github.com/abel533/Mapper/pull/793:   1  \n",
       " (Other)                                   :2522  \n",
       "                                                                                                                                          title     \n",
       " [Bug][API]edit workflow query resources list error.                                                                                         :   2  \n",
       " [BUG][API]task definition reference deleted resource files.                                                                                 :   2  \n",
       " [FLINK-29781][table-planner] Fix ChangelogNormalize uses wrong keys after transformation by WatermarkAssignerChangelogNormalizeTransposeRule:   2  \n",
       " [ISSUE #8694] Support prometheus http service discovery                                                                                     :   2  \n",
       " [UNDERTOW-2198] Add Option to force the SNIHostName                                                                                         :   2  \n",
       " Allow fetching file based access provider rules via http(s) url                                                                             :   2  \n",
       " (Other)                                                                                                                                     :2516  \n",
       "     number       state        draft          files          javaFiles     \n",
       " Min.   :  152   OPEN:2528   false:2295   Min.   :  1.00   Min.   :  1.00  \n",
       " 1st Qu.: 3956               true : 233   1st Qu.:  2.00   1st Qu.:  2.00  \n",
       " Median : 9638                            Median :  5.00   Median :  4.00  \n",
       " Mean   :10065                            Mean   : 13.09   Mean   : 10.05  \n",
       " 3rd Qu.:14946                            3rd Qu.: 13.00   3rd Qu.: 10.00  \n",
       " Max.   :29239                            Max.   :100.00   Max.   :100.00  \n",
       "                                                                           \n",
       "            baseRepo       baseRef         baseRefPrefix \n",
       " trinodb/trino  : 343   master :1766   refs/heads/:2528  \n",
       " Alluxio/alluxio: 214   main   : 284                     \n",
       " apache/hudi    : 144   dev    : 129                     \n",
       " apache/flink   : 139   trunk  :  88                     \n",
       " apache/pulsar  : 125   develop:  73                     \n",
       " apache/hadoop  :  93   4.1    :  11                     \n",
       " (Other)        :1470   (Other): 177                     \n",
       "                     headRepo       headRef         headRefPrefix \n",
       " nsivabalan/hudi         :  20   master : 117   refs/heads/:2528  \n",
       " maobaolong/alluxio      :  18   dev    :  16                     \n",
       " eclipse/jetty.project   :  16   main   :  15                     \n",
       " ashutoshcipher/hadoop   :  15   develop:  12                     \n",
       " Graylog2/graylog2-server:  13   patch-1:  11                     \n",
       " onehouseinc/hudi        :  13   3.1    :   2                     \n",
       " (Other)                 :2433   (Other):2355                     \n",
       "      createdAt        publishedAt   mergedAt       closedAt      \n",
       " 2022-11-11: 114   2022-11-11: 114   Mode:logical   Mode:logical  \n",
       " 2022-11-10: 100   2022-11-10: 100   NA's:2528      NA's:2528     \n",
       " 2022-11-09:  70   2022-11-09:  70                                \n",
       " 2022-11-08:  64   2022-11-08:  64                                \n",
       " 2022-11-07:  63   2022-11-07:  63                                \n",
       " 2022-11-02:  59   2022-11-02:  59                                \n",
       " (Other)   :2058   (Other)   :2058                                "
      ]
     },
     "metadata": {},
     "output_type": "display_data"
    }
   ],
   "source": [
    "prs <- read.csv('../data/prs.csv', stringsAsFactors=TRUE)\n",
    "head(prs)\n",
    "summary(prs)"
   ]
  },
  {
   "cell_type": "markdown",
   "id": "05e999c8-c882-4a8d-aad0-908c775f3bdd",
   "metadata": {},
   "source": [
    "## Popular active Java libraries on GitHub, as of 2022-11-13\n",
    "  - Repositories written in Java\n",
    "  - With a pom.xml file at the root\n",
    "  - With >= 1000 stars\n",
    "  - With >= 100 clients (all packages included)\n",
    "  - Last push activity >= 2022-10-13 (1 month)\n",
    "  - PR created >= 2022-10-13 (1 month)\n",
    "  - PR merged >= 2022-09-13 (2 months)\n",
    "  - !archived, !disabled, !fork, !mirror, !locked"
   ]
  },
  {
   "cell_type": "code",
   "execution_count": 3,
   "id": "310be62d-cc55-45b2-9ae3-eae044f1fa7a",
   "metadata": {},
   "outputs": [
    {
     "data": {
      "text/html": [
       "<table class=\"dataframe\">\n",
       "<caption>A data.frame: 6 × 3</caption>\n",
       "<thead>\n",
       "\t<tr><th></th><th scope=col>owner</th><th scope=col>name</th><th scope=col>clients</th></tr>\n",
       "\t<tr><th></th><th scope=col>&lt;fct&gt;</th><th scope=col>&lt;fct&gt;</th><th scope=col>&lt;int&gt;</th></tr>\n",
       "</thead>\n",
       "<tbody>\n",
       "\t<tr><th scope=row>1</th><td>google   </td><td>guava     </td><td>304728</td></tr>\n",
       "\t<tr><th scope=row>2</th><td>apache   </td><td>dubbo     </td><td> 50218</td></tr>\n",
       "\t<tr><th scope=row>3</th><td>jeecgboot</td><td>jeecg-boot</td><td>  1085</td></tr>\n",
       "\t<tr><th scope=row>4</th><td>alibaba  </td><td>arthas    </td><td>   884</td></tr>\n",
       "\t<tr><th scope=row>5</th><td>netty    </td><td>netty     </td><td>120116</td></tr>\n",
       "\t<tr><th scope=row>6</th><td>alibaba  </td><td>druid     </td><td>309589</td></tr>\n",
       "</tbody>\n",
       "</table>\n"
      ],
      "text/latex": [
       "A data.frame: 6 × 3\n",
       "\\begin{tabular}{r|lll}\n",
       "  & owner & name & clients\\\\\n",
       "  & <fct> & <fct> & <int>\\\\\n",
       "\\hline\n",
       "\t1 & google    & guava      & 304728\\\\\n",
       "\t2 & apache    & dubbo      &  50218\\\\\n",
       "\t3 & jeecgboot & jeecg-boot &   1085\\\\\n",
       "\t4 & alibaba   & arthas     &    884\\\\\n",
       "\t5 & netty     & netty      & 120116\\\\\n",
       "\t6 & alibaba   & druid      & 309589\\\\\n",
       "\\end{tabular}\n"
      ],
      "text/markdown": [
       "\n",
       "A data.frame: 6 × 3\n",
       "\n",
       "| <!--/--> | owner &lt;fct&gt; | name &lt;fct&gt; | clients &lt;int&gt; |\n",
       "|---|---|---|---|\n",
       "| 1 | google    | guava      | 304728 |\n",
       "| 2 | apache    | dubbo      |  50218 |\n",
       "| 3 | jeecgboot | jeecg-boot |   1085 |\n",
       "| 4 | alibaba   | arthas     |    884 |\n",
       "| 5 | netty     | netty      | 120116 |\n",
       "| 6 | alibaba   | druid      | 309589 |\n",
       "\n"
      ],
      "text/plain": [
       "  owner     name       clients\n",
       "1 google    guava      304728 \n",
       "2 apache    dubbo       50218 \n",
       "3 jeecgboot jeecg-boot   1085 \n",
       "4 alibaba   arthas        884 \n",
       "5 netty     netty      120116 \n",
       "6 alibaba   druid      309589 "
      ]
     },
     "metadata": {},
     "output_type": "display_data"
    },
    {
     "data": {
      "text/plain": [
       "          owner           name        clients       \n",
       " apache      : 33   druid   :  2   Min.   :    132  \n",
       " alibaba     : 10   activemq:  1   1st Qu.:   1501  \n",
       " google      :  4   Activiti:  1   Median :   6420  \n",
       " spring-cloud:  4   alluxio :  1   Mean   :  56016  \n",
       " kiegroup    :  3   antlr4  :  1   3rd Qu.:  42081  \n",
       " sofastack   :  3   arthas  :  1   Max.   :1374859  \n",
       " (Other)     :100   (Other) :150                    "
      ]
     },
     "metadata": {},
     "output_type": "display_data"
    }
   ],
   "source": [
    "libs <- distinct(prs[, c('owner', 'name', 'clients')])\n",
    "head(libs)\n",
    "summary(libs)"
   ]
  },
  {
   "cell_type": "markdown",
   "id": "ee50813a-e905-4b4e-b9cc-808b0f3ec606",
   "metadata": {},
   "source": [
    "## Interesting pull requests\n",
    "  - Opened, unmerged, and unlocked\n",
    "  - Affects Java files\n",
    "  - Updated >= 2022-10-13 (1 month)"
   ]
  },
  {
   "cell_type": "code",
   "execution_count": 4,
   "id": "5e6a5ad2-f0d0-4e04-9f4e-813726b40988",
   "metadata": {},
   "outputs": [
    {
     "data": {
      "text/html": [
       "<table class=\"dataframe\">\n",
       "<caption>A data.frame: 6 × 22</caption>\n",
       "<thead>\n",
       "\t<tr><th></th><th scope=col>cursor</th><th scope=col>owner</th><th scope=col>name</th><th scope=col>repoUrl</th><th scope=col>clients</th><th scope=col>prUrl</th><th scope=col>title</th><th scope=col>number</th><th scope=col>state</th><th scope=col>draft</th><th scope=col>⋯</th><th scope=col>baseRepo</th><th scope=col>baseRef</th><th scope=col>baseRefPrefix</th><th scope=col>headRepo</th><th scope=col>headRef</th><th scope=col>headRefPrefix</th><th scope=col>createdAt</th><th scope=col>publishedAt</th><th scope=col>mergedAt</th><th scope=col>closedAt</th></tr>\n",
       "\t<tr><th></th><th scope=col>&lt;fct&gt;</th><th scope=col>&lt;fct&gt;</th><th scope=col>&lt;fct&gt;</th><th scope=col>&lt;fct&gt;</th><th scope=col>&lt;int&gt;</th><th scope=col>&lt;fct&gt;</th><th scope=col>&lt;fct&gt;</th><th scope=col>&lt;int&gt;</th><th scope=col>&lt;fct&gt;</th><th scope=col>&lt;fct&gt;</th><th scope=col>⋯</th><th scope=col>&lt;fct&gt;</th><th scope=col>&lt;fct&gt;</th><th scope=col>&lt;fct&gt;</th><th scope=col>&lt;fct&gt;</th><th scope=col>&lt;fct&gt;</th><th scope=col>&lt;fct&gt;</th><th scope=col>&lt;fct&gt;</th><th scope=col>&lt;fct&gt;</th><th scope=col>&lt;lgl&gt;</th><th scope=col>&lt;lgl&gt;</th></tr>\n",
       "</thead>\n",
       "<tbody>\n",
       "\t<tr><th scope=row>1</th><td>Y3Vyc29yOjEx</td><td>google</td><td>guava</td><td>https://github.com/google/guava</td><td>304728</td><td>https://github.com/google/guava/pull/6232 </td><td>Fixes for issues #3965, #1710, #5882 and #5773                             </td><td> 6232</td><td>OPEN</td><td>false</td><td>⋯</td><td>google/guava</td><td>master</td><td>refs/heads/</td><td>u6873285/guava  </td><td>master                                                </td><td>refs/heads/</td><td>2022-10-29</td><td>2022-10-29</td><td>NA</td><td>NA</td></tr>\n",
       "\t<tr><th scope=row>2</th><td>Y3Vyc29yOjEx</td><td>google</td><td>guava</td><td>https://github.com/google/guava</td><td>304728</td><td>https://github.com/google/guava/pull/6225 </td><td>added testput_nullvaluesupported to test                                   </td><td> 6225</td><td>OPEN</td><td>false</td><td>⋯</td><td>google/guava</td><td>master</td><td>refs/heads/</td><td>alvonellos/guava</td><td>#6217_Add_test_that_putIfAbsent_replaces_a_null_value_</td><td>refs/heads/</td><td>2022-10-23</td><td>2022-10-23</td><td>NA</td><td>NA</td></tr>\n",
       "\t<tr><th scope=row>3</th><td>Y3Vyc29yOjEx</td><td>google</td><td>guava</td><td>https://github.com/google/guava</td><td>304728</td><td>https://github.com/google/guava/pull/6218 </td><td>PR: Fix #3720                                                              </td><td> 6218</td><td>OPEN</td><td>false</td><td>⋯</td><td>google/guava</td><td>master</td><td>refs/heads/</td><td>yonghao97/guava </td><td>fix_3720                                              </td><td>refs/heads/</td><td>2022-10-17</td><td>2022-10-17</td><td>NA</td><td>NA</td></tr>\n",
       "\t<tr><th scope=row>4</th><td>Y3Vyc29yOjEx</td><td>google</td><td>guava</td><td>https://github.com/google/guava</td><td>304728</td><td>https://github.com/google/guava/pull/6188 </td><td>Fix Spliterator implementations for sorted collections                     </td><td> 6188</td><td>OPEN</td><td>false</td><td>⋯</td><td>google/guava</td><td>master</td><td>refs/heads/</td><td>kilink/guava    </td><td>sorted-collection-spliterator-fix                     </td><td>refs/heads/</td><td>2022-09-28</td><td>2022-09-28</td><td>NA</td><td>NA</td></tr>\n",
       "\t<tr><th scope=row>5</th><td>Y3Vyc29yOjEz</td><td>apache</td><td>dubbo</td><td>https://github.com/apache/dubbo</td><td> 50218</td><td>https://github.com/apache/dubbo/pull/10929</td><td>InstantiationAwareBeanPostProcessorAdapter即将废弃，不再兼容Spring Boot 3.x</td><td>10929</td><td>OPEN</td><td>false</td><td>⋯</td><td>apache/dubbo</td><td>3.1   </td><td>refs/heads/</td><td>chang6666/dubbo </td><td>3.1                                                   </td><td>refs/heads/</td><td>2022-11-13</td><td>2022-11-13</td><td>NA</td><td>NA</td></tr>\n",
       "\t<tr><th scope=row>6</th><td>Y3Vyc29yOjEz</td><td>apache</td><td>dubbo</td><td>https://github.com/apache/dubbo</td><td> 50218</td><td>https://github.com/apache/dubbo/pull/10926</td><td>Add some logs                                                              </td><td>10926</td><td>OPEN</td><td>false</td><td>⋯</td><td>apache/dubbo</td><td>3.2   </td><td>refs/heads/</td><td>AlbumenJ/dubbo  </td><td>1112_add_log                                          </td><td>refs/heads/</td><td>2022-11-12</td><td>2022-11-12</td><td>NA</td><td>NA</td></tr>\n",
       "</tbody>\n",
       "</table>\n"
      ],
      "text/latex": [
       "A data.frame: 6 × 22\n",
       "\\begin{tabular}{r|lllllllllllllllllllll}\n",
       "  & cursor & owner & name & repoUrl & clients & prUrl & title & number & state & draft & ⋯ & baseRepo & baseRef & baseRefPrefix & headRepo & headRef & headRefPrefix & createdAt & publishedAt & mergedAt & closedAt\\\\\n",
       "  & <fct> & <fct> & <fct> & <fct> & <int> & <fct> & <fct> & <int> & <fct> & <fct> & ⋯ & <fct> & <fct> & <fct> & <fct> & <fct> & <fct> & <fct> & <fct> & <lgl> & <lgl>\\\\\n",
       "\\hline\n",
       "\t1 & Y3Vyc29yOjEx & google & guava & https://github.com/google/guava & 304728 & https://github.com/google/guava/pull/6232  & Fixes for issues \\#3965, \\#1710, \\#5882 and \\#5773                              &  6232 & OPEN & false & ⋯ & google/guava & master & refs/heads/ & u6873285/guava   & master                                                 & refs/heads/ & 2022-10-29 & 2022-10-29 & NA & NA\\\\\n",
       "\t2 & Y3Vyc29yOjEx & google & guava & https://github.com/google/guava & 304728 & https://github.com/google/guava/pull/6225  & added testput\\_nullvaluesupported to test                                    &  6225 & OPEN & false & ⋯ & google/guava & master & refs/heads/ & alvonellos/guava & \\#6217\\_Add\\_test\\_that\\_putIfAbsent\\_replaces\\_a\\_null\\_value\\_ & refs/heads/ & 2022-10-23 & 2022-10-23 & NA & NA\\\\\n",
       "\t3 & Y3Vyc29yOjEx & google & guava & https://github.com/google/guava & 304728 & https://github.com/google/guava/pull/6218  & PR: Fix \\#3720                                                               &  6218 & OPEN & false & ⋯ & google/guava & master & refs/heads/ & yonghao97/guava  & fix\\_3720                                               & refs/heads/ & 2022-10-17 & 2022-10-17 & NA & NA\\\\\n",
       "\t4 & Y3Vyc29yOjEx & google & guava & https://github.com/google/guava & 304728 & https://github.com/google/guava/pull/6188  & Fix Spliterator implementations for sorted collections                      &  6188 & OPEN & false & ⋯ & google/guava & master & refs/heads/ & kilink/guava     & sorted-collection-spliterator-fix                      & refs/heads/ & 2022-09-28 & 2022-09-28 & NA & NA\\\\\n",
       "\t5 & Y3Vyc29yOjEz & apache & dubbo & https://github.com/apache/dubbo &  50218 & https://github.com/apache/dubbo/pull/10929 & InstantiationAwareBeanPostProcessorAdapter即将废弃，不再兼容Spring Boot 3.x & 10929 & OPEN & false & ⋯ & apache/dubbo & 3.1    & refs/heads/ & chang6666/dubbo  & 3.1                                                    & refs/heads/ & 2022-11-13 & 2022-11-13 & NA & NA\\\\\n",
       "\t6 & Y3Vyc29yOjEz & apache & dubbo & https://github.com/apache/dubbo &  50218 & https://github.com/apache/dubbo/pull/10926 & Add some logs                                                               & 10926 & OPEN & false & ⋯ & apache/dubbo & 3.2    & refs/heads/ & AlbumenJ/dubbo   & 1112\\_add\\_log                                           & refs/heads/ & 2022-11-12 & 2022-11-12 & NA & NA\\\\\n",
       "\\end{tabular}\n"
      ],
      "text/markdown": [
       "\n",
       "A data.frame: 6 × 22\n",
       "\n",
       "| <!--/--> | cursor &lt;fct&gt; | owner &lt;fct&gt; | name &lt;fct&gt; | repoUrl &lt;fct&gt; | clients &lt;int&gt; | prUrl &lt;fct&gt; | title &lt;fct&gt; | number &lt;int&gt; | state &lt;fct&gt; | draft &lt;fct&gt; | ⋯ ⋯ | baseRepo &lt;fct&gt; | baseRef &lt;fct&gt; | baseRefPrefix &lt;fct&gt; | headRepo &lt;fct&gt; | headRef &lt;fct&gt; | headRefPrefix &lt;fct&gt; | createdAt &lt;fct&gt; | publishedAt &lt;fct&gt; | mergedAt &lt;lgl&gt; | closedAt &lt;lgl&gt; |\n",
       "|---|---|---|---|---|---|---|---|---|---|---|---|---|---|---|---|---|---|---|---|---|---|\n",
       "| 1 | Y3Vyc29yOjEx | google | guava | https://github.com/google/guava | 304728 | https://github.com/google/guava/pull/6232  | Fixes for issues #3965, #1710, #5882 and #5773                              |  6232 | OPEN | false | ⋯ | google/guava | master | refs/heads/ | u6873285/guava   | master                                                 | refs/heads/ | 2022-10-29 | 2022-10-29 | NA | NA |\n",
       "| 2 | Y3Vyc29yOjEx | google | guava | https://github.com/google/guava | 304728 | https://github.com/google/guava/pull/6225  | added testput_nullvaluesupported to test                                    |  6225 | OPEN | false | ⋯ | google/guava | master | refs/heads/ | alvonellos/guava | #6217_Add_test_that_putIfAbsent_replaces_a_null_value_ | refs/heads/ | 2022-10-23 | 2022-10-23 | NA | NA |\n",
       "| 3 | Y3Vyc29yOjEx | google | guava | https://github.com/google/guava | 304728 | https://github.com/google/guava/pull/6218  | PR: Fix #3720                                                               |  6218 | OPEN | false | ⋯ | google/guava | master | refs/heads/ | yonghao97/guava  | fix_3720                                               | refs/heads/ | 2022-10-17 | 2022-10-17 | NA | NA |\n",
       "| 4 | Y3Vyc29yOjEx | google | guava | https://github.com/google/guava | 304728 | https://github.com/google/guava/pull/6188  | Fix Spliterator implementations for sorted collections                      |  6188 | OPEN | false | ⋯ | google/guava | master | refs/heads/ | kilink/guava     | sorted-collection-spliterator-fix                      | refs/heads/ | 2022-09-28 | 2022-09-28 | NA | NA |\n",
       "| 5 | Y3Vyc29yOjEz | apache | dubbo | https://github.com/apache/dubbo |  50218 | https://github.com/apache/dubbo/pull/10929 | InstantiationAwareBeanPostProcessorAdapter即将废弃，不再兼容Spring Boot 3.x | 10929 | OPEN | false | ⋯ | apache/dubbo | 3.1    | refs/heads/ | chang6666/dubbo  | 3.1                                                    | refs/heads/ | 2022-11-13 | 2022-11-13 | NA | NA |\n",
       "| 6 | Y3Vyc29yOjEz | apache | dubbo | https://github.com/apache/dubbo |  50218 | https://github.com/apache/dubbo/pull/10926 | Add some logs                                                               | 10926 | OPEN | false | ⋯ | apache/dubbo | 3.2    | refs/heads/ | AlbumenJ/dubbo   | 1112_add_log                                           | refs/heads/ | 2022-11-12 | 2022-11-12 | NA | NA |\n",
       "\n"
      ],
      "text/plain": [
       "  cursor       owner  name  repoUrl                         clients\n",
       "1 Y3Vyc29yOjEx google guava https://github.com/google/guava 304728 \n",
       "2 Y3Vyc29yOjEx google guava https://github.com/google/guava 304728 \n",
       "3 Y3Vyc29yOjEx google guava https://github.com/google/guava 304728 \n",
       "4 Y3Vyc29yOjEx google guava https://github.com/google/guava 304728 \n",
       "5 Y3Vyc29yOjEz apache dubbo https://github.com/apache/dubbo  50218 \n",
       "6 Y3Vyc29yOjEz apache dubbo https://github.com/apache/dubbo  50218 \n",
       "  prUrl                                     \n",
       "1 https://github.com/google/guava/pull/6232 \n",
       "2 https://github.com/google/guava/pull/6225 \n",
       "3 https://github.com/google/guava/pull/6218 \n",
       "4 https://github.com/google/guava/pull/6188 \n",
       "5 https://github.com/apache/dubbo/pull/10929\n",
       "6 https://github.com/apache/dubbo/pull/10926\n",
       "  title                                                                      \n",
       "1 Fixes for issues #3965, #1710, #5882 and #5773                             \n",
       "2 added testput_nullvaluesupported to test                                   \n",
       "3 PR: Fix #3720                                                              \n",
       "4 Fix Spliterator implementations for sorted collections                     \n",
       "5 InstantiationAwareBeanPostProcessorAdapter即将废弃，不再兼容Spring Boot 3.x\n",
       "6 Add some logs                                                              \n",
       "  number state draft ⋯ baseRepo     baseRef baseRefPrefix headRepo        \n",
       "1  6232  OPEN  false ⋯ google/guava master  refs/heads/   u6873285/guava  \n",
       "2  6225  OPEN  false ⋯ google/guava master  refs/heads/   alvonellos/guava\n",
       "3  6218  OPEN  false ⋯ google/guava master  refs/heads/   yonghao97/guava \n",
       "4  6188  OPEN  false ⋯ google/guava master  refs/heads/   kilink/guava    \n",
       "5 10929  OPEN  false ⋯ apache/dubbo 3.1     refs/heads/   chang6666/dubbo \n",
       "6 10926  OPEN  false ⋯ apache/dubbo 3.2     refs/heads/   AlbumenJ/dubbo  \n",
       "  headRef                                                headRefPrefix\n",
       "1 master                                                 refs/heads/  \n",
       "2 #6217_Add_test_that_putIfAbsent_replaces_a_null_value_ refs/heads/  \n",
       "3 fix_3720                                               refs/heads/  \n",
       "4 sorted-collection-spliterator-fix                      refs/heads/  \n",
       "5 3.1                                                    refs/heads/  \n",
       "6 1112_add_log                                           refs/heads/  \n",
       "  createdAt  publishedAt mergedAt closedAt\n",
       "1 2022-10-29 2022-10-29  NA       NA      \n",
       "2 2022-10-23 2022-10-23  NA       NA      \n",
       "3 2022-10-17 2022-10-17  NA       NA      \n",
       "4 2022-09-28 2022-09-28  NA       NA      \n",
       "5 2022-11-13 2022-11-13  NA       NA      \n",
       "6 2022-11-12 2022-11-12  NA       NA      "
      ]
     },
     "metadata": {},
     "output_type": "display_data"
    },
    {
     "data": {
      "text/plain": [
       "              cursor              owner           name     \n",
       " Y3Vyc29yOjIxNA==: 343   apache      :1066   trino  : 343  \n",
       " Y3Vyc29yOjI0MA==: 214   trinodb     : 343   alluxio: 214  \n",
       " Y3Vyc29yOjM4OA==: 144   Alluxio     : 214   hudi   : 144  \n",
       " Y3Vyc29yOjU1    : 139   OpenAPITools:  78   flink  : 139  \n",
       " Y3Vyc29yOjExMg==: 125   alibaba     :  56   pulsar : 125  \n",
       " Y3Vyc29yOjk4    :  93   keycloak    :  56   hadoop :  93  \n",
       " (Other)         :1470   (Other)     : 715   (Other):1470  \n",
       "                               repoUrl        clients       \n",
       " https://github.com/trinodb/trino  : 343   Min.   :    132  \n",
       " https://github.com/Alluxio/alluxio: 214   1st Qu.:   1589  \n",
       " https://github.com/apache/hudi    : 144   Median :   3272  \n",
       " https://github.com/apache/flink   : 139   Mean   :  28792  \n",
       " https://github.com/apache/pulsar  : 125   3rd Qu.:  22544  \n",
       " https://github.com/apache/hadoop  :  93   Max.   :1374859  \n",
       " (Other)                           :1470                    \n",
       "                                        prUrl     \n",
       " https://github.com/abel533/Mapper/pull/245:   1  \n",
       " https://github.com/abel533/Mapper/pull/577:   1  \n",
       " https://github.com/abel533/Mapper/pull/647:   1  \n",
       " https://github.com/abel533/Mapper/pull/741:   1  \n",
       " https://github.com/abel533/Mapper/pull/743:   1  \n",
       " https://github.com/abel533/Mapper/pull/793:   1  \n",
       " (Other)                                   :2522  \n",
       "                                                                                                                                          title     \n",
       " [Bug][API]edit workflow query resources list error.                                                                                         :   2  \n",
       " [BUG][API]task definition reference deleted resource files.                                                                                 :   2  \n",
       " [FLINK-29781][table-planner] Fix ChangelogNormalize uses wrong keys after transformation by WatermarkAssignerChangelogNormalizeTransposeRule:   2  \n",
       " [ISSUE #8694] Support prometheus http service discovery                                                                                     :   2  \n",
       " [UNDERTOW-2198] Add Option to force the SNIHostName                                                                                         :   2  \n",
       " Allow fetching file based access provider rules via http(s) url                                                                             :   2  \n",
       " (Other)                                                                                                                                     :2516  \n",
       "     number       state        draft          files          javaFiles     \n",
       " Min.   :  152   OPEN:2528   false:2295   Min.   :  1.00   Min.   :  1.00  \n",
       " 1st Qu.: 3956               true : 233   1st Qu.:  2.00   1st Qu.:  2.00  \n",
       " Median : 9638                            Median :  5.00   Median :  4.00  \n",
       " Mean   :10065                            Mean   : 13.09   Mean   : 10.05  \n",
       " 3rd Qu.:14946                            3rd Qu.: 13.00   3rd Qu.: 10.00  \n",
       " Max.   :29239                            Max.   :100.00   Max.   :100.00  \n",
       "                                                                           \n",
       "            baseRepo       baseRef         baseRefPrefix \n",
       " trinodb/trino  : 343   master :1766   refs/heads/:2528  \n",
       " Alluxio/alluxio: 214   main   : 284                     \n",
       " apache/hudi    : 144   dev    : 129                     \n",
       " apache/flink   : 139   trunk  :  88                     \n",
       " apache/pulsar  : 125   develop:  73                     \n",
       " apache/hadoop  :  93   4.1    :  11                     \n",
       " (Other)        :1470   (Other): 177                     \n",
       "                     headRepo       headRef         headRefPrefix \n",
       " nsivabalan/hudi         :  20   master : 117   refs/heads/:2528  \n",
       " maobaolong/alluxio      :  18   dev    :  16                     \n",
       " eclipse/jetty.project   :  16   main   :  15                     \n",
       " ashutoshcipher/hadoop   :  15   develop:  12                     \n",
       " Graylog2/graylog2-server:  13   patch-1:  11                     \n",
       " onehouseinc/hudi        :  13   3.1    :   2                     \n",
       " (Other)                 :2433   (Other):2355                     \n",
       "      createdAt        publishedAt   mergedAt       closedAt      \n",
       " 2022-11-11: 114   2022-11-11: 114   Mode:logical   Mode:logical  \n",
       " 2022-11-10: 100   2022-11-10: 100   NA's:2528      NA's:2528     \n",
       " 2022-11-09:  70   2022-11-09:  70                                \n",
       " 2022-11-08:  64   2022-11-08:  64                                \n",
       " 2022-11-07:  63   2022-11-07:  63                                \n",
       " 2022-11-02:  59   2022-11-02:  59                                \n",
       " (Other)   :2058   (Other)   :2058                                "
      ]
     },
     "metadata": {},
     "output_type": "display_data"
    }
   ],
   "source": [
    "head(prs)\n",
    "summary(prs)"
   ]
  },
  {
   "cell_type": "markdown",
   "id": "701378b4-d4c8-4970-a287-950795162cfe",
   "metadata": {},
   "source": [
    "## Results"
   ]
  },
  {
   "cell_type": "code",
   "execution_count": 5,
   "id": "32d49142-53a2-4473-98e4-a9f34d6d982e",
   "metadata": {},
   "outputs": [
    {
     "data": {
      "text/html": [
       "<table class=\"dataframe\">\n",
       "<caption>A data.frame: 6 × 13</caption>\n",
       "<thead>\n",
       "\t<tr><th></th><th scope=col>base</th><th scope=col>breakingChanges</th><th scope=col>brokenClients</th><th scope=col>brokenUses</th><th scope=col>changedFiles</th><th scope=col>checkedClients</th><th scope=col>errors</th><th scope=col>head</th><th scope=col>impactedPackages</th><th scope=col>name</th><th scope=col>number</th><th scope=col>owner</th><th scope=col>seconds</th></tr>\n",
       "\t<tr><th></th><th scope=col>&lt;fct&gt;</th><th scope=col>&lt;int&gt;</th><th scope=col>&lt;int&gt;</th><th scope=col>&lt;int&gt;</th><th scope=col>&lt;int&gt;</th><th scope=col>&lt;int&gt;</th><th scope=col>&lt;fct&gt;</th><th scope=col>&lt;fct&gt;</th><th scope=col>&lt;int&gt;</th><th scope=col>&lt;fct&gt;</th><th scope=col>&lt;int&gt;</th><th scope=col>&lt;fct&gt;</th><th scope=col>&lt;int&gt;</th></tr>\n",
       "</thead>\n",
       "<tbody>\n",
       "\t<tr><th scope=row>1</th><td>master</td><td>0</td><td>0</td><td>0</td><td>10</td><td>0</td><td><span style=white-space:pre-wrap>null[package] failed (1): [ERROR] COMPILATION ERROR : [ERROR] An unknown compilation problem occurred[ERROR] Failed to execute goal org.apache.maven.plugins:maven-compiler-plugin:3.8.1:compile (default-compile) on project guava: Compilation failure[ERROR] An unknown compilation problem occurred[ERROR] -&gt; [Help 1][ERROR] [ERROR] To see the full stack trace of the errors, re-run Maven with the -e switch.[ERROR] Re-run Maven using the -X switch to enable full debug logging.[ERROR] [ERROR] For more information about the errors and possible solutions, please read the following articles:[ERROR] [Help 1] http://cwiki.apache.org/confluence/display/MAVEN/MojoFailureException[ERROR] [ERROR] After correcting the problems, you can resume the build with the command[ERROR]   mvn &lt;args&gt; -rf :guava[package] failed (1): [ERROR] COMPILATION ERROR : [ERROR] An unknown compilation problem occurred[ERROR] Failed to execute goal org.apache.maven.plugins:maven-compiler-plugin:3.8.1:compile (default-compile) on project guava: Compilation failure[ERROR] An unknown compilation problem occurred[ERROR] -&gt; [Help 1][ERROR] [ERROR] To see the full stack trace of the errors, re-run Maven with the -e switch.[ERROR] Re-run Maven using the -X switch to enable full debug logging.[ERROR] [ERROR] For more information about the errors and possible solutions, please read the following articles:[ERROR] [Help 1] http://cwiki.apache.org/confluence/display/MAVEN/MojoFailureException[ERROR] [ERROR] After correcting the problems, you can resume the build with the command[ERROR]   mvn &lt;args&gt; -rf :guava</span></td><td><span style=white-space:pre-wrap>master                                                </span></td><td>2</td><td>guava</td><td> 6232</td><td>google</td><td>13</td></tr>\n",
       "\t<tr><th scope=row>2</th><td>master</td><td>0</td><td>0</td><td>0</td><td> 1</td><td>0</td><td><span style=white-space:pre-wrap>null[package] failed (1): [ERROR] COMPILATION ERROR : [ERROR] An unknown compilation problem occurred[ERROR] Failed to execute goal org.apache.maven.plugins:maven-compiler-plugin:3.8.1:compile (default-compile) on project guava: Compilation failure[ERROR] An unknown compilation problem occurred[ERROR] -&gt; [Help 1][ERROR] [ERROR] To see the full stack trace of the errors, re-run Maven with the -e switch.[ERROR] Re-run Maven using the -X switch to enable full debug logging.[ERROR] [ERROR] For more information about the errors and possible solutions, please read the following articles:[ERROR] [Help 1] http://cwiki.apache.org/confluence/display/MAVEN/MojoFailureException[ERROR] [ERROR] After correcting the problems, you can resume the build with the command[ERROR]   mvn &lt;args&gt; -rf :guava                                                                                                                                                                                                                                                                                                                                                                                                                                                                                                                                                                                                                                                                                                                                                                                                                     </span></td><td>#6217_Add_test_that_putIfAbsent_replaces_a_null_value_</td><td>1</td><td>guava</td><td> 6225</td><td>google</td><td> 8</td></tr>\n",
       "\t<tr><th scope=row>3</th><td>master</td><td>0</td><td>0</td><td>0</td><td> 4</td><td>0</td><td><span style=white-space:pre-wrap>null[package] failed (1): [ERROR] [ERROR] Could not find the selected project in the reactor: android/guava-tests @ [ERROR] Could not find the selected project in the reactor: android/guava-tests -&gt; [Help 1][ERROR] [ERROR] To see the full stack trace of the errors, re-run Maven with the -e switch.[ERROR] Re-run Maven using the -X switch to enable full debug logging.[ERROR] [ERROR] For more information about the errors and possible solutions, please read the following articles:[ERROR] [Help 1] http://cwiki.apache.org/confluence/display/MAVEN/MavenExecutionException[package] failed (1): [ERROR] [ERROR] Could not find the selected project in the reactor: android/guava @ [ERROR] Could not find the selected project in the reactor: android/guava -&gt; [Help 1][ERROR] [ERROR] To see the full stack trace of the errors, re-run Maven with the -e switch.[ERROR] Re-run Maven using the -X switch to enable full debug logging.[ERROR] [ERROR] For more information about the errors and possible solutions, please read the following articles:[ERROR] [Help 1] http://cwiki.apache.org/confluence/display/MAVEN/MavenExecutionException                                                                                                                                                                                                                                                                                                                                                                                                                                                                          </span></td><td><span style=white-space:pre-wrap>fix_3720                                              </span></td><td>2</td><td>guava</td><td> 6218</td><td>google</td><td> 9</td></tr>\n",
       "\t<tr><th scope=row>4</th><td>master</td><td>0</td><td>0</td><td>0</td><td> 2</td><td>0</td><td><span style=white-space:pre-wrap>null[package] failed (1): [ERROR] COMPILATION ERROR : [ERROR] An unknown compilation problem occurred[ERROR] Failed to execute goal org.apache.maven.plugins:maven-compiler-plugin:3.8.1:compile (default-compile) on project guava: Compilation failure[ERROR] An unknown compilation problem occurred[ERROR] -&gt; [Help 1][ERROR] [ERROR] To see the full stack trace of the errors, re-run Maven with the -e switch.[ERROR] Re-run Maven using the -X switch to enable full debug logging.[ERROR] [ERROR] For more information about the errors and possible solutions, please read the following articles:[ERROR] [Help 1] http://cwiki.apache.org/confluence/display/MAVEN/MojoFailureException[ERROR] [ERROR] After correcting the problems, you can resume the build with the command[ERROR]   mvn &lt;args&gt; -rf :guava                                                                                                                                                                                                                                                                                                                                                                                                                                                                                                                                                                                                                                                                                                                                                                                                                     </span></td><td><span style=white-space:pre-wrap>sorted-collection-spliterator-fix                     </span></td><td>1</td><td>guava</td><td> 6188</td><td>google</td><td> 8</td></tr>\n",
       "\t<tr><th scope=row>5</th><td>3.1   </td><td>0</td><td>0</td><td>0</td><td> 3</td><td>0</td><td>                                                                                                                                                                                                                                                                                                                                                                                                                                                                                                                                                                                                                                                                                                                                                                                                                                                                                                                                                                                                                                                                                                                                                                                                                                                                                                                                                                                                                                                                                                                                                                                                                                              </td><td>1113_add_script                                       </td><td>0</td><td>dubbo</td><td>10930</td><td>apache</td><td> 3</td></tr>\n",
       "\t<tr><th scope=row>6</th><td>3.1   </td><td>0</td><td>0</td><td>0</td><td> 1</td><td>0</td><td>                                                                                                                                                                                                                                                                                                                                                                                                                                                                                                                                                                                                                                                                                                                                                                                                                                                                                                                                                                                                                                                                                                                                                                                                                                                                                                                                                                                                                                                                                                                                                                                                                                              </td><td>3.1                                                   </td><td>1</td><td>dubbo</td><td>10929</td><td>apache</td><td>72</td></tr>\n",
       "</tbody>\n",
       "</table>\n"
      ],
      "text/latex": [
       "A data.frame: 6 × 13\n",
       "\\begin{tabular}{r|lllllllllllll}\n",
       "  & base & breakingChanges & brokenClients & brokenUses & changedFiles & checkedClients & errors & head & impactedPackages & name & number & owner & seconds\\\\\n",
       "  & <fct> & <int> & <int> & <int> & <int> & <int> & <fct> & <fct> & <int> & <fct> & <int> & <fct> & <int>\\\\\n",
       "\\hline\n",
       "\t1 & master & 0 & 0 & 0 & 10 & 0 & null{[}package{]} failed (1): {[}ERROR{]} COMPILATION ERROR : {[}ERROR{]} An unknown compilation problem occurred{[}ERROR{]} Failed to execute goal org.apache.maven.plugins:maven-compiler-plugin:3.8.1:compile (default-compile) on project guava: Compilation failure{[}ERROR{]} An unknown compilation problem occurred{[}ERROR{]} -> {[}Help 1{]}{[}ERROR{]} {[}ERROR{]} To see the full stack trace of the errors, re-run Maven with the -e switch.{[}ERROR{]} Re-run Maven using the -X switch to enable full debug logging.{[}ERROR{]} {[}ERROR{]} For more information about the errors and possible solutions, please read the following articles:{[}ERROR{]} {[}Help 1{]} http://cwiki.apache.org/confluence/display/MAVEN/MojoFailureException{[}ERROR{]} {[}ERROR{]} After correcting the problems, you can resume the build with the command{[}ERROR{]}   mvn <args> -rf :guava{[}package{]} failed (1): {[}ERROR{]} COMPILATION ERROR : {[}ERROR{]} An unknown compilation problem occurred{[}ERROR{]} Failed to execute goal org.apache.maven.plugins:maven-compiler-plugin:3.8.1:compile (default-compile) on project guava: Compilation failure{[}ERROR{]} An unknown compilation problem occurred{[}ERROR{]} -> {[}Help 1{]}{[}ERROR{]} {[}ERROR{]} To see the full stack trace of the errors, re-run Maven with the -e switch.{[}ERROR{]} Re-run Maven using the -X switch to enable full debug logging.{[}ERROR{]} {[}ERROR{]} For more information about the errors and possible solutions, please read the following articles:{[}ERROR{]} {[}Help 1{]} http://cwiki.apache.org/confluence/display/MAVEN/MojoFailureException{[}ERROR{]} {[}ERROR{]} After correcting the problems, you can resume the build with the command{[}ERROR{]}   mvn <args> -rf :guava & master                                                 & 2 & guava &  6232 & google & 13\\\\\n",
       "\t2 & master & 0 & 0 & 0 &  1 & 0 & null{[}package{]} failed (1): {[}ERROR{]} COMPILATION ERROR : {[}ERROR{]} An unknown compilation problem occurred{[}ERROR{]} Failed to execute goal org.apache.maven.plugins:maven-compiler-plugin:3.8.1:compile (default-compile) on project guava: Compilation failure{[}ERROR{]} An unknown compilation problem occurred{[}ERROR{]} -> {[}Help 1{]}{[}ERROR{]} {[}ERROR{]} To see the full stack trace of the errors, re-run Maven with the -e switch.{[}ERROR{]} Re-run Maven using the -X switch to enable full debug logging.{[}ERROR{]} {[}ERROR{]} For more information about the errors and possible solutions, please read the following articles:{[}ERROR{]} {[}Help 1{]} http://cwiki.apache.org/confluence/display/MAVEN/MojoFailureException{[}ERROR{]} {[}ERROR{]} After correcting the problems, you can resume the build with the command{[}ERROR{]}   mvn <args> -rf :guava                                                                                                                                                                                                                                                                                                                                                                                                                                                                                                                                                                                                                                                                                                                                                                                                                      & \\#6217\\_Add\\_test\\_that\\_putIfAbsent\\_replaces\\_a\\_null\\_value\\_ & 1 & guava &  6225 & google &  8\\\\\n",
       "\t3 & master & 0 & 0 & 0 &  4 & 0 & null{[}package{]} failed (1): {[}ERROR{]} {[}ERROR{]} Could not find the selected project in the reactor: android/guava-tests @ {[}ERROR{]} Could not find the selected project in the reactor: android/guava-tests -> {[}Help 1{]}{[}ERROR{]} {[}ERROR{]} To see the full stack trace of the errors, re-run Maven with the -e switch.{[}ERROR{]} Re-run Maven using the -X switch to enable full debug logging.{[}ERROR{]} {[}ERROR{]} For more information about the errors and possible solutions, please read the following articles:{[}ERROR{]} {[}Help 1{]} http://cwiki.apache.org/confluence/display/MAVEN/MavenExecutionException{[}package{]} failed (1): {[}ERROR{]} {[}ERROR{]} Could not find the selected project in the reactor: android/guava @ {[}ERROR{]} Could not find the selected project in the reactor: android/guava -> {[}Help 1{]}{[}ERROR{]} {[}ERROR{]} To see the full stack trace of the errors, re-run Maven with the -e switch.{[}ERROR{]} Re-run Maven using the -X switch to enable full debug logging.{[}ERROR{]} {[}ERROR{]} For more information about the errors and possible solutions, please read the following articles:{[}ERROR{]} {[}Help 1{]} http://cwiki.apache.org/confluence/display/MAVEN/MavenExecutionException                                                                                                                                                                                                                                                                                                                                                                                                                                                                           & fix\\_3720                                               & 2 & guava &  6218 & google &  9\\\\\n",
       "\t4 & master & 0 & 0 & 0 &  2 & 0 & null{[}package{]} failed (1): {[}ERROR{]} COMPILATION ERROR : {[}ERROR{]} An unknown compilation problem occurred{[}ERROR{]} Failed to execute goal org.apache.maven.plugins:maven-compiler-plugin:3.8.1:compile (default-compile) on project guava: Compilation failure{[}ERROR{]} An unknown compilation problem occurred{[}ERROR{]} -> {[}Help 1{]}{[}ERROR{]} {[}ERROR{]} To see the full stack trace of the errors, re-run Maven with the -e switch.{[}ERROR{]} Re-run Maven using the -X switch to enable full debug logging.{[}ERROR{]} {[}ERROR{]} For more information about the errors and possible solutions, please read the following articles:{[}ERROR{]} {[}Help 1{]} http://cwiki.apache.org/confluence/display/MAVEN/MojoFailureException{[}ERROR{]} {[}ERROR{]} After correcting the problems, you can resume the build with the command{[}ERROR{]}   mvn <args> -rf :guava                                                                                                                                                                                                                                                                                                                                                                                                                                                                                                                                                                                                                                                                                                                                                                                                                      & sorted-collection-spliterator-fix                      & 1 & guava &  6188 & google &  8\\\\\n",
       "\t5 & 3.1    & 0 & 0 & 0 &  3 & 0 &                                                                                                                                                                                                                                                                                                                                                                                                                                                                                                                                                                                                                                                                                                                                                                                                                                                                                                                                                                                                                                                                                                                                                                                                                                                                                                                                                                                                                                                                                                                                                                                                                                                & 1113\\_add\\_script                                        & 0 & dubbo & 10930 & apache &  3\\\\\n",
       "\t6 & 3.1    & 0 & 0 & 0 &  1 & 0 &                                                                                                                                                                                                                                                                                                                                                                                                                                                                                                                                                                                                                                                                                                                                                                                                                                                                                                                                                                                                                                                                                                                                                                                                                                                                                                                                                                                                                                                                                                                                                                                                                                                & 3.1                                                    & 1 & dubbo & 10929 & apache & 72\\\\\n",
       "\\end{tabular}\n"
      ],
      "text/markdown": [
       "\n",
       "A data.frame: 6 × 13\n",
       "\n",
       "| <!--/--> | base &lt;fct&gt; | breakingChanges &lt;int&gt; | brokenClients &lt;int&gt; | brokenUses &lt;int&gt; | changedFiles &lt;int&gt; | checkedClients &lt;int&gt; | errors &lt;fct&gt; | head &lt;fct&gt; | impactedPackages &lt;int&gt; | name &lt;fct&gt; | number &lt;int&gt; | owner &lt;fct&gt; | seconds &lt;int&gt; |\n",
       "|---|---|---|---|---|---|---|---|---|---|---|---|---|---|\n",
       "| 1 | master | 0 | 0 | 0 | 10 | 0 | null[package] failed (1): [ERROR] COMPILATION ERROR : [ERROR] An unknown compilation problem occurred[ERROR] Failed to execute goal org.apache.maven.plugins:maven-compiler-plugin:3.8.1:compile (default-compile) on project guava: Compilation failure[ERROR] An unknown compilation problem occurred[ERROR] -&gt; [Help 1][ERROR] [ERROR] To see the full stack trace of the errors, re-run Maven with the -e switch.[ERROR] Re-run Maven using the -X switch to enable full debug logging.[ERROR] [ERROR] For more information about the errors and possible solutions, please read the following articles:[ERROR] [Help 1] http://cwiki.apache.org/confluence/display/MAVEN/MojoFailureException[ERROR] [ERROR] After correcting the problems, you can resume the build with the command[ERROR]   mvn &lt;args&gt; -rf :guava[package] failed (1): [ERROR] COMPILATION ERROR : [ERROR] An unknown compilation problem occurred[ERROR] Failed to execute goal org.apache.maven.plugins:maven-compiler-plugin:3.8.1:compile (default-compile) on project guava: Compilation failure[ERROR] An unknown compilation problem occurred[ERROR] -&gt; [Help 1][ERROR] [ERROR] To see the full stack trace of the errors, re-run Maven with the -e switch.[ERROR] Re-run Maven using the -X switch to enable full debug logging.[ERROR] [ERROR] For more information about the errors and possible solutions, please read the following articles:[ERROR] [Help 1] http://cwiki.apache.org/confluence/display/MAVEN/MojoFailureException[ERROR] [ERROR] After correcting the problems, you can resume the build with the command[ERROR]   mvn &lt;args&gt; -rf :guava | master                                                 | 2 | guava |  6232 | google | 13 |\n",
       "| 2 | master | 0 | 0 | 0 |  1 | 0 | null[package] failed (1): [ERROR] COMPILATION ERROR : [ERROR] An unknown compilation problem occurred[ERROR] Failed to execute goal org.apache.maven.plugins:maven-compiler-plugin:3.8.1:compile (default-compile) on project guava: Compilation failure[ERROR] An unknown compilation problem occurred[ERROR] -&gt; [Help 1][ERROR] [ERROR] To see the full stack trace of the errors, re-run Maven with the -e switch.[ERROR] Re-run Maven using the -X switch to enable full debug logging.[ERROR] [ERROR] For more information about the errors and possible solutions, please read the following articles:[ERROR] [Help 1] http://cwiki.apache.org/confluence/display/MAVEN/MojoFailureException[ERROR] [ERROR] After correcting the problems, you can resume the build with the command[ERROR]   mvn &lt;args&gt; -rf :guava                                                                                                                                                                                                                                                                                                                                                                                                                                                                                                                                                                                                                                                                                                                                                                                                                      | #6217_Add_test_that_putIfAbsent_replaces_a_null_value_ | 1 | guava |  6225 | google |  8 |\n",
       "| 3 | master | 0 | 0 | 0 |  4 | 0 | null[package] failed (1): [ERROR] [ERROR] Could not find the selected project in the reactor: android/guava-tests @ [ERROR] Could not find the selected project in the reactor: android/guava-tests -&gt; [Help 1][ERROR] [ERROR] To see the full stack trace of the errors, re-run Maven with the -e switch.[ERROR] Re-run Maven using the -X switch to enable full debug logging.[ERROR] [ERROR] For more information about the errors and possible solutions, please read the following articles:[ERROR] [Help 1] http://cwiki.apache.org/confluence/display/MAVEN/MavenExecutionException[package] failed (1): [ERROR] [ERROR] Could not find the selected project in the reactor: android/guava @ [ERROR] Could not find the selected project in the reactor: android/guava -&gt; [Help 1][ERROR] [ERROR] To see the full stack trace of the errors, re-run Maven with the -e switch.[ERROR] Re-run Maven using the -X switch to enable full debug logging.[ERROR] [ERROR] For more information about the errors and possible solutions, please read the following articles:[ERROR] [Help 1] http://cwiki.apache.org/confluence/display/MAVEN/MavenExecutionException                                                                                                                                                                                                                                                                                                                                                                                                                                                                           | fix_3720                                               | 2 | guava |  6218 | google |  9 |\n",
       "| 4 | master | 0 | 0 | 0 |  2 | 0 | null[package] failed (1): [ERROR] COMPILATION ERROR : [ERROR] An unknown compilation problem occurred[ERROR] Failed to execute goal org.apache.maven.plugins:maven-compiler-plugin:3.8.1:compile (default-compile) on project guava: Compilation failure[ERROR] An unknown compilation problem occurred[ERROR] -&gt; [Help 1][ERROR] [ERROR] To see the full stack trace of the errors, re-run Maven with the -e switch.[ERROR] Re-run Maven using the -X switch to enable full debug logging.[ERROR] [ERROR] For more information about the errors and possible solutions, please read the following articles:[ERROR] [Help 1] http://cwiki.apache.org/confluence/display/MAVEN/MojoFailureException[ERROR] [ERROR] After correcting the problems, you can resume the build with the command[ERROR]   mvn &lt;args&gt; -rf :guava                                                                                                                                                                                                                                                                                                                                                                                                                                                                                                                                                                                                                                                                                                                                                                                                                      | sorted-collection-spliterator-fix                      | 1 | guava |  6188 | google |  8 |\n",
       "| 5 | 3.1    | 0 | 0 | 0 |  3 | 0 | <!----> | 1113_add_script                                        | 0 | dubbo | 10930 | apache |  3 |\n",
       "| 6 | 3.1    | 0 | 0 | 0 |  1 | 0 | <!----> | 3.1                                                    | 1 | dubbo | 10929 | apache | 72 |\n",
       "\n"
      ],
      "text/plain": [
       "  base   breakingChanges brokenClients brokenUses changedFiles checkedClients\n",
       "1 master 0               0             0          10           0             \n",
       "2 master 0               0             0           1           0             \n",
       "3 master 0               0             0           4           0             \n",
       "4 master 0               0             0           2           0             \n",
       "5 3.1    0               0             0           3           0             \n",
       "6 3.1    0               0             0           1           0             \n",
       "  errors                                                                                                                                                                                                                                                                                                                                                                                                                                                                                                                                                                                                                                                                                                                                                                                                                                                                                                                                                                                                                                                                                                                                                                                                                                                                                                                                                                                                                                                                                                                                                                                                                                        \n",
       "1 null[package] failed (1): [ERROR] COMPILATION ERROR : [ERROR] An unknown compilation problem occurred[ERROR] Failed to execute goal org.apache.maven.plugins:maven-compiler-plugin:3.8.1:compile (default-compile) on project guava: Compilation failure[ERROR] An unknown compilation problem occurred[ERROR] -> [Help 1][ERROR] [ERROR] To see the full stack trace of the errors, re-run Maven with the -e switch.[ERROR] Re-run Maven using the -X switch to enable full debug logging.[ERROR] [ERROR] For more information about the errors and possible solutions, please read the following articles:[ERROR] [Help 1] http://cwiki.apache.org/confluence/display/MAVEN/MojoFailureException[ERROR] [ERROR] After correcting the problems, you can resume the build with the command[ERROR]   mvn <args> -rf :guava[package] failed (1): [ERROR] COMPILATION ERROR : [ERROR] An unknown compilation problem occurred[ERROR] Failed to execute goal org.apache.maven.plugins:maven-compiler-plugin:3.8.1:compile (default-compile) on project guava: Compilation failure[ERROR] An unknown compilation problem occurred[ERROR] -> [Help 1][ERROR] [ERROR] To see the full stack trace of the errors, re-run Maven with the -e switch.[ERROR] Re-run Maven using the -X switch to enable full debug logging.[ERROR] [ERROR] For more information about the errors and possible solutions, please read the following articles:[ERROR] [Help 1] http://cwiki.apache.org/confluence/display/MAVEN/MojoFailureException[ERROR] [ERROR] After correcting the problems, you can resume the build with the command[ERROR]   mvn <args> -rf :guava\n",
       "2 null[package] failed (1): [ERROR] COMPILATION ERROR : [ERROR] An unknown compilation problem occurred[ERROR] Failed to execute goal org.apache.maven.plugins:maven-compiler-plugin:3.8.1:compile (default-compile) on project guava: Compilation failure[ERROR] An unknown compilation problem occurred[ERROR] -> [Help 1][ERROR] [ERROR] To see the full stack trace of the errors, re-run Maven with the -e switch.[ERROR] Re-run Maven using the -X switch to enable full debug logging.[ERROR] [ERROR] For more information about the errors and possible solutions, please read the following articles:[ERROR] [Help 1] http://cwiki.apache.org/confluence/display/MAVEN/MojoFailureException[ERROR] [ERROR] After correcting the problems, you can resume the build with the command[ERROR]   mvn <args> -rf :guava                                                                                                                                                                                                                                                                                                                                                                                                                                                                                                                                                                                                                                                                                                                                                                                                                     \n",
       "3 null[package] failed (1): [ERROR] [ERROR] Could not find the selected project in the reactor: android/guava-tests @ [ERROR] Could not find the selected project in the reactor: android/guava-tests -> [Help 1][ERROR] [ERROR] To see the full stack trace of the errors, re-run Maven with the -e switch.[ERROR] Re-run Maven using the -X switch to enable full debug logging.[ERROR] [ERROR] For more information about the errors and possible solutions, please read the following articles:[ERROR] [Help 1] http://cwiki.apache.org/confluence/display/MAVEN/MavenExecutionException[package] failed (1): [ERROR] [ERROR] Could not find the selected project in the reactor: android/guava @ [ERROR] Could not find the selected project in the reactor: android/guava -> [Help 1][ERROR] [ERROR] To see the full stack trace of the errors, re-run Maven with the -e switch.[ERROR] Re-run Maven using the -X switch to enable full debug logging.[ERROR] [ERROR] For more information about the errors and possible solutions, please read the following articles:[ERROR] [Help 1] http://cwiki.apache.org/confluence/display/MAVEN/MavenExecutionException                                                                                                                                                                                                                                                                                                                                                                                                                                                                          \n",
       "4 null[package] failed (1): [ERROR] COMPILATION ERROR : [ERROR] An unknown compilation problem occurred[ERROR] Failed to execute goal org.apache.maven.plugins:maven-compiler-plugin:3.8.1:compile (default-compile) on project guava: Compilation failure[ERROR] An unknown compilation problem occurred[ERROR] -> [Help 1][ERROR] [ERROR] To see the full stack trace of the errors, re-run Maven with the -e switch.[ERROR] Re-run Maven using the -X switch to enable full debug logging.[ERROR] [ERROR] For more information about the errors and possible solutions, please read the following articles:[ERROR] [Help 1] http://cwiki.apache.org/confluence/display/MAVEN/MojoFailureException[ERROR] [ERROR] After correcting the problems, you can resume the build with the command[ERROR]   mvn <args> -rf :guava                                                                                                                                                                                                                                                                                                                                                                                                                                                                                                                                                                                                                                                                                                                                                                                                                     \n",
       "5                                                                                                                                                                                                                                                                                                                                                                                                                                                                                                                                                                                                                                                                                                                                                                                                                                                                                                                                                                                                                                                                                                                                                                                                                                                                                                                                                                                                                                                                                                                                                                                                                                               \n",
       "6                                                                                                                                                                                                                                                                                                                                                                                                                                                                                                                                                                                                                                                                                                                                                                                                                                                                                                                                                                                                                                                                                                                                                                                                                                                                                                                                                                                                                                                                                                                                                                                                                                               \n",
       "  head                                                   impactedPackages name \n",
       "1 master                                                 2                guava\n",
       "2 #6217_Add_test_that_putIfAbsent_replaces_a_null_value_ 1                guava\n",
       "3 fix_3720                                               2                guava\n",
       "4 sorted-collection-spliterator-fix                      1                guava\n",
       "5 1113_add_script                                        0                dubbo\n",
       "6 3.1                                                    1                dubbo\n",
       "  number owner  seconds\n",
       "1  6232  google 13     \n",
       "2  6225  google  8     \n",
       "3  6218  google  9     \n",
       "4  6188  google  8     \n",
       "5 10930  apache  3     \n",
       "6 10929  apache 72     "
      ]
     },
     "metadata": {},
     "output_type": "display_data"
    },
    {
     "data": {
      "text/plain": [
       "      base      breakingChanges     brokenClients       brokenUses     \n",
       " master :1884   Min.   :    0.000   Min.   : 0.0000   Min.   :   0.00  \n",
       " main   : 285   1st Qu.:    0.000   1st Qu.: 0.0000   1st Qu.:   0.00  \n",
       " dev    : 129   Median :    0.000   Median : 0.0000   Median :   0.00  \n",
       " develop:  79   Mean   :    9.588   Mean   : 0.1126   Mean   :   1.97  \n",
       " trunk  :  62   3rd Qu.:    0.000   3rd Qu.: 0.0000   3rd Qu.:   0.00  \n",
       "        :  31   Max.   :17826.000   Max.   :91.0000   Max.   :1154.00  \n",
       " (Other): 204                                                          \n",
       "  changedFiles    checkedClients   \n",
       " Min.   :   0.0   Min.   :  0.000  \n",
       " 1st Qu.:   2.0   1st Qu.:  0.000  \n",
       " Median :   5.0   Median :  0.000  \n",
       " Mean   :  22.8   Mean   :  4.059  \n",
       " 3rd Qu.:  13.0   3rd Qu.:  0.000  \n",
       " Max.   :3000.0   Max.   :337.000  \n",
       "                                   \n",
       "                                                                                                                                                                                                                                                                                                                                                                                                                                                                                                                                                                                                                                                                                                                                                                                                                                                                                                                                                                                                                                                                                                                                                                                                                                                                                                                                                                                                                                                                                                                                                                                                                      errors    \n",
       "                                                                                                                                                                                                                                                                                                                                                                                                                                                                                                                                                                                                                                                                                                                                                                                                                                                                                                                                                                                                                                                                                                                                                                                                                                                                                                                                                                                                                                                                                                                                                                                                                         : 941  \n",
       " nullnull                                                                                                                                                                                                                                                                                                                                                                                                                                                                                                                                                                                                                                                                                                                                                                                                                                                                                                                                                                                                                                                                                                                                                                                                                                                                                                                                                                                                                                                                                                                                                                                                                :  73  \n",
       " null[package] failed (1): [ERROR] Failed to execute goal on project pulsar-broker: Could not resolve dependencies for project org.apache.pulsar:pulsar-broker:jar:2.11.0-SNAPSHOT: Failure to find org.apache.pulsar:pulsar-metadata:jar:tests:2.11.0-SNAPSHOT in https://repository.apache.org/snapshots was cached in the local repository, resolution will not be reattempted until the update interval of apache.snapshots has elapsed or updates are forced -> [Help 1][ERROR] [ERROR] To see the full stack trace of the errors, re-run Maven with the -e switch.[ERROR] Re-run Maven using the -X switch to enable full debug logging.[ERROR] [ERROR] For more information about the errors and possible solutions, please read the following articles:[ERROR] [Help 1] http://cwiki.apache.org/confluence/display/MAVEN/DependencyResolutionException[ERROR] [ERROR] After correcting the problems, you can resume the build with the command[ERROR]   mvn <args> -rf :pulsar-broker                                                                                                                                                                                                                                                                                                                                                                                                                                                                                                                                                                                                                            :  38  \n",
       " null[package] failed (1): [ERROR] Failed to execute goal on project trino-plugin-toolkit: Could not resolve dependencies for project io.trino:trino-plugin-toolkit:jar:403-SNAPSHOT: Failure to find io.trino:trino-spi:jar:tests:403-SNAPSHOT in https://oss.sonatype.org/content/repositories/snapshots was cached in the local repository, resolution will not be reattempted until the update interval of sonatype-nexus-snapshots has elapsed or updates are forced -> [Help 1][ERROR] [ERROR] To see the full stack trace of the errors, re-run Maven with the -e switch.[ERROR] Re-run Maven using the -X switch to enable full debug logging.[ERROR] [ERROR] For more information about the errors and possible solutions, please read the following articles:[ERROR] [Help 1] http://cwiki.apache.org/confluence/display/MAVEN/DependencyResolutionException[ERROR] [ERROR] After correcting the problems, you can resume the build with the command[ERROR]   mvn <args> -rf :trino-plugin-toolkit                                                                                                                                                                                                                                                                                                                                                                                                                                                                                                                                                                                                             :  29  \n",
       " null[package] failed (1): [info] Running process libraries[info] Processing library Library: type: jni[info] Running process libraries[info] Processing library Library: type: jni[ERROR] Failed to execute goal on project bookkeeper-common: Could not resolve dependencies for project org.apache.bookkeeper:bookkeeper-common:jar:4.16.0-SNAPSHOT: org.apache.bookkeeper:cpu-affinity:jar:4.16.0-SNAPSHOT was not found in https://repository.apache.org/snapshots during a previous attempt. This failure was cached in the local repository and resolution is not reattempted until the update interval of apache.snapshots has elapsed or updates are forced -> [Help 1][ERROR] [ERROR] To see the full stack trace of the errors, re-run Maven with the -e switch.[ERROR] Re-run Maven using the -X switch to enable full debug logging.[ERROR] [ERROR] For more information about the errors and possible solutions, please read the following articles:[ERROR] [Help 1] http://cwiki.apache.org/confluence/display/MAVEN/DependencyResolutionException[ERROR] [ERROR] After correcting the problems, you can resume the build with the command[ERROR]   mvn <args> -rf :bookkeeper-common                                                                                                                                                                                                                                                                                                                                                                                                                     :  22  \n",
       " null[package] failed (1): [ERROR] Failed to execute goal on project keycloak-crypto-default: Could not resolve dependencies for project org.keycloak:keycloak-crypto-default:jar:999-SNAPSHOT: Could not find artifact org.keycloak:keycloak-core:jar:tests:999-SNAPSHOT -> [Help 1][ERROR] [ERROR] To see the full stack trace of the errors, re-run Maven with the -e switch.[ERROR] Re-run Maven using the -X switch to enable full debug logging.[ERROR] [ERROR] For more information about the errors and possible solutions, please read the following articles:[ERROR] [Help 1] http://cwiki.apache.org/confluence/display/MAVEN/DependencyResolutionException[ERROR] [ERROR] After correcting the problems, you can resume the build with the command[ERROR]   mvn <args> -rf :keycloak-crypto-default[package] failed (1): [ERROR] Failed to execute goal on project keycloak-crypto-default: Could not resolve dependencies for project org.keycloak:keycloak-crypto-default:jar:999-SNAPSHOT: Could not find artifact org.keycloak:keycloak-core:jar:tests:999-SNAPSHOT -> [Help 1][ERROR] [ERROR] To see the full stack trace of the errors, re-run Maven with the -e switch.[ERROR] Re-run Maven using the -X switch to enable full debug logging.[ERROR] [ERROR] For more information about the errors and possible solutions, please read the following articles:[ERROR] [Help 1] http://cwiki.apache.org/confluence/display/MAVEN/DependencyResolutionException[ERROR] [ERROR] After correcting the problems, you can resume the build with the command[ERROR]   mvn <args> -rf :keycloak-crypto-default:  21  \n",
       " (Other)                                                                                                                                                                                                                                                                                                                                                                                                                                                                                                                                                                                                                                                                                                                                                                                                                                                                                                                                                                                                                                                                                                                                                                                                                                                                                                                                                                                                                                                                                                                                                                                                                 :1550  \n",
       "      head      impactedPackages                name          number     \n",
       " master : 128   Min.   : 0.000   trino            : 343   Min.   :  152  \n",
       "        :  31   1st Qu.: 1.000   alluxio          : 214   1st Qu.: 3875  \n",
       " patch-1:  20   Median : 1.000   flink            : 168   Median : 9865  \n",
       " dev    :  17   Mean   : 2.094   hudi             : 143   Mean   :10206  \n",
       " main   :  15   3rd Qu.: 2.000   openapi-generator: 131   3rd Qu.:14990  \n",
       " develop:  12   Max.   :97.000   pulsar           : 125   Max.   :29239  \n",
       " (Other):2451                    (Other)          :1550                  \n",
       "          owner         seconds      \n",
       " apache      :1075   Min.   :   2.0  \n",
       " trinodb     : 343   1st Qu.:  26.0  \n",
       " Alluxio     : 214   Median :  45.0  \n",
       " OpenAPITools: 131   Mean   : 118.1  \n",
       " prestodb    :  76   3rd Qu.: 104.0  \n",
       " alibaba     :  65   Max.   :9407.0  \n",
       " (Other)     : 770                   "
      ]
     },
     "metadata": {},
     "output_type": "display_data"
    }
   ],
   "source": [
    "results <- read.csv('../data/results.csv', stringsAsFactors=TRUE)\n",
    "head(results)\n",
    "summary(results)"
   ]
  },
  {
   "cell_type": "code",
   "execution_count": 6,
   "id": "62a5c7c8-929f-4cce-9043-a0ccf149f747",
   "metadata": {},
   "outputs": [
    {
     "data": {
      "text/html": [
       "271"
      ],
      "text/latex": [
       "271"
      ],
      "text/markdown": [
       "271"
      ],
      "text/plain": [
       "[1] 271"
      ]
     },
     "metadata": {},
     "output_type": "display_data"
    },
    {
     "data": {
      "text/html": [
       "42"
      ],
      "text/latex": [
       "42"
      ],
      "text/markdown": [
       "42"
      ],
      "text/plain": [
       "[1] 42"
      ]
     },
     "metadata": {},
     "output_type": "display_data"
    },
    {
     "data": {
      "text/html": [
       "2674"
      ],
      "text/latex": [
       "2674"
      ],
      "text/markdown": [
       "2674"
      ],
      "text/plain": [
       "[1] 2674"
      ]
     },
     "metadata": {},
     "output_type": "display_data"
    }
   ],
   "source": [
    "breaking <- subset(results, breakingChanges > 0)\n",
    "nrow(breaking)\n",
    "impacting <- subset(breaking, brokenUses > 0)\n",
    "nrow(impacting)\n",
    "nrow(results)"
   ]
  },
  {
   "cell_type": "markdown",
   "id": "bbe3d7a4-29f5-4dcf-a675-731883ef6548",
   "metadata": {},
   "source": [
    "Overall, 271 out of 2674 PRs are breaking (10.13%), and 42 have an impact on clients (1.57% of all, 15.5% of breaking ones)."
   ]
  },
  {
   "cell_type": "code",
   "execution_count": 7,
   "id": "5bf66668-511b-471d-8a58-bc2e0d3c7fe3",
   "metadata": {},
   "outputs": [],
   "source": [
    "all <- merge(prs, breaking, by=c('owner', 'name', 'number'))\n",
    "write.csv(all, '../data/breaking-prs.csv')"
   ]
  },
  {
   "cell_type": "markdown",
   "id": "73723c49-5e49-456a-af9d-c3a66589eea5",
   "metadata": {},
   "source": [
    "## BreakBot reports\n",
    "  - First, we fork the original repository in our own organization `breakbot-playground`\n",
    "  - Then, we copy the PRs of interest in the fork\n",
    "  - BreakBot runs automatically on these PRs to produce its reports\n",
    "  - The `.github/breakbot.yml` configuration we use is as follows (100 clients per impacted package at most, with a minimum of 5 stars)\n",
    "  \n",
    "```\n",
    "clients:\n",
    "  top: 100\n",
    "  stars: 5\n",
    "```\n"
   ]
  }
 ],
 "metadata": {
  "kernelspec": {
   "display_name": "R",
   "language": "R",
   "name": "ir"
  },
  "language_info": {
   "codemirror_mode": "r",
   "file_extension": ".r",
   "mimetype": "text/x-r-source",
   "name": "R",
   "pygments_lexer": "r",
   "version": "4.2.2"
  }
 },
 "nbformat": 4,
 "nbformat_minor": 5
}
