{
 "cells": [
  {
   "cell_type": "markdown",
   "id": "1c43d296-a36e-4d58-9e2c-9a6e35a77eb5",
   "metadata": {},
   "source": [
    "# Clients Cleaning"
   ]
  },
  {
   "cell_type": "markdown",
   "id": "575cdbf3-ee31-4e6b-950c-75f070d4a73b",
   "metadata": {},
   "source": [
    "## Load Libraries"
   ]
  },
  {
   "cell_type": "code",
   "execution_count": 1,
   "id": "1e80ffd7-d004-41a8-b724-df7fda13f857",
   "metadata": {},
   "outputs": [],
   "source": [
    "import numpy as np\n",
    "import pandas as pd\n",
    "\n",
    "%matplotlib inline\n",
    "import matplotlib as mpl\n",
    "import matplotlib.pyplot as plt\n",
    "import seaborn as sns\n",
    "sns.set()\n",
    "\n",
    "from datetime import datetime"
   ]
  },
  {
   "cell_type": "markdown",
   "id": "32e0919f-1dd5-4947-a442-6d571fa16612",
   "metadata": {},
   "source": [
    "## Load Dataset"
   ]
  },
  {
   "cell_type": "code",
   "execution_count": 2,
   "id": "6539a9cd-f149-4413-a8be-ccdd55bc05fb",
   "metadata": {},
   "outputs": [
    {
     "data": {
      "text/html": [
       "<div>\n",
       "<style scoped>\n",
       "    .dataframe tbody tr th:only-of-type {\n",
       "        vertical-align: middle;\n",
       "    }\n",
       "\n",
       "    .dataframe tbody tr th {\n",
       "        vertical-align: top;\n",
       "    }\n",
       "\n",
       "    .dataframe thead th {\n",
       "        text-align: right;\n",
       "    }\n",
       "</style>\n",
       "<table border=\"1\" class=\"dataframe\">\n",
       "  <thead>\n",
       "    <tr style=\"text-align: right;\">\n",
       "      <th></th>\n",
       "      <th>cursor</th>\n",
       "      <th>owner</th>\n",
       "      <th>name</th>\n",
       "      <th>sshUrl</th>\n",
       "      <th>url</th>\n",
       "      <th>stars</th>\n",
       "      <th>createdAt</th>\n",
       "      <th>pushedAt</th>\n",
       "      <th>packages</th>\n",
       "      <th>groupId</th>\n",
       "      <th>artifactId</th>\n",
       "      <th>version</th>\n",
       "      <th>path</th>\n",
       "      <th>clients</th>\n",
       "      <th>relevantClients</th>\n",
       "      <th>cowner</th>\n",
       "      <th>cname</th>\n",
       "      <th>csshUrl</th>\n",
       "      <th>curl</th>\n",
       "      <th>cstars</th>\n",
       "    </tr>\n",
       "  </thead>\n",
       "  <tbody>\n",
       "    <tr>\n",
       "      <th>0</th>\n",
       "      <td>Y3Vyc29yOjY=</td>\n",
       "      <td>javaparser</td>\n",
       "      <td>javaparser</td>\n",
       "      <td>ssh://git@github.com:javaparser/javaparser.git</td>\n",
       "      <td>https://github.com/javaparser/javaparser</td>\n",
       "      <td>4290</td>\n",
       "      <td>2011-10-30</td>\n",
       "      <td>2022-07-27</td>\n",
       "      <td>5</td>\n",
       "      <td>com.github.javaparser</td>\n",
       "      <td>javaparser-core</td>\n",
       "      <td>3.24.3-SNAPSHOT</td>\n",
       "      <td>javaparser-core/</td>\n",
       "      <td>3166</td>\n",
       "      <td>27</td>\n",
       "      <td>kiegroup</td>\n",
       "      <td>optaplanner</td>\n",
       "      <td>ssh://git@github.com:kiegroup/optaplanner.git</td>\n",
       "      <td>https://github.com/kiegroup/optaplanner</td>\n",
       "      <td>2676</td>\n",
       "    </tr>\n",
       "    <tr>\n",
       "      <th>1</th>\n",
       "      <td>Y3Vyc29yOjY=</td>\n",
       "      <td>javaparser</td>\n",
       "      <td>javaparser</td>\n",
       "      <td>ssh://git@github.com:javaparser/javaparser.git</td>\n",
       "      <td>https://github.com/javaparser/javaparser</td>\n",
       "      <td>4290</td>\n",
       "      <td>2011-10-30</td>\n",
       "      <td>2022-07-27</td>\n",
       "      <td>5</td>\n",
       "      <td>com.github.javaparser</td>\n",
       "      <td>javaparser-core</td>\n",
       "      <td>3.24.3-SNAPSHOT</td>\n",
       "      <td>javaparser-core/</td>\n",
       "      <td>3166</td>\n",
       "      <td>27</td>\n",
       "      <td>Azure</td>\n",
       "      <td>azure-sdk-for-java</td>\n",
       "      <td>ssh://git@github.com:Azure/azure-sdk-for-java.git</td>\n",
       "      <td>https://github.com/Azure/azure-sdk-for-java</td>\n",
       "      <td>1556</td>\n",
       "    </tr>\n",
       "    <tr>\n",
       "      <th>2</th>\n",
       "      <td>Y3Vyc29yOjY=</td>\n",
       "      <td>javaparser</td>\n",
       "      <td>javaparser</td>\n",
       "      <td>ssh://git@github.com:javaparser/javaparser.git</td>\n",
       "      <td>https://github.com/javaparser/javaparser</td>\n",
       "      <td>4290</td>\n",
       "      <td>2011-10-30</td>\n",
       "      <td>2022-07-27</td>\n",
       "      <td>5</td>\n",
       "      <td>com.github.javaparser</td>\n",
       "      <td>javaparser-core</td>\n",
       "      <td>3.24.3-SNAPSHOT</td>\n",
       "      <td>javaparser-core/</td>\n",
       "      <td>3166</td>\n",
       "      <td>27</td>\n",
       "      <td>fabric8io</td>\n",
       "      <td>kubernetes-client</td>\n",
       "      <td>ssh://git@github.com:fabric8io/kubernetes-clie...</td>\n",
       "      <td>https://github.com/fabric8io/kubernetes-client</td>\n",
       "      <td>2579</td>\n",
       "    </tr>\n",
       "    <tr>\n",
       "      <th>3</th>\n",
       "      <td>Y3Vyc29yOjY=</td>\n",
       "      <td>javaparser</td>\n",
       "      <td>javaparser</td>\n",
       "      <td>ssh://git@github.com:javaparser/javaparser.git</td>\n",
       "      <td>https://github.com/javaparser/javaparser</td>\n",
       "      <td>4290</td>\n",
       "      <td>2011-10-30</td>\n",
       "      <td>2022-07-27</td>\n",
       "      <td>5</td>\n",
       "      <td>com.github.javaparser</td>\n",
       "      <td>javaparser-core</td>\n",
       "      <td>3.24.3-SNAPSHOT</td>\n",
       "      <td>javaparser-core/</td>\n",
       "      <td>3166</td>\n",
       "      <td>27</td>\n",
       "      <td>abstracta</td>\n",
       "      <td>jmeter-java-dsl</td>\n",
       "      <td>ssh://git@github.com:abstracta/jmeter-java-dsl...</td>\n",
       "      <td>https://github.com/abstracta/jmeter-java-dsl</td>\n",
       "      <td>186</td>\n",
       "    </tr>\n",
       "    <tr>\n",
       "      <th>4</th>\n",
       "      <td>Y3Vyc29yOjY=</td>\n",
       "      <td>javaparser</td>\n",
       "      <td>javaparser</td>\n",
       "      <td>ssh://git@github.com:javaparser/javaparser.git</td>\n",
       "      <td>https://github.com/javaparser/javaparser</td>\n",
       "      <td>4290</td>\n",
       "      <td>2011-10-30</td>\n",
       "      <td>2022-07-27</td>\n",
       "      <td>5</td>\n",
       "      <td>com.github.javaparser</td>\n",
       "      <td>javaparser-core</td>\n",
       "      <td>3.24.3-SNAPSHOT</td>\n",
       "      <td>javaparser-core/</td>\n",
       "      <td>3166</td>\n",
       "      <td>27</td>\n",
       "      <td>kiegroup</td>\n",
       "      <td>drools</td>\n",
       "      <td>ssh://git@github.com:kiegroup/drools.git</td>\n",
       "      <td>https://github.com/kiegroup/drools</td>\n",
       "      <td>4563</td>\n",
       "    </tr>\n",
       "  </tbody>\n",
       "</table>\n",
       "</div>"
      ],
      "text/plain": [
       "         cursor       owner        name  \\\n",
       "0  Y3Vyc29yOjY=  javaparser  javaparser   \n",
       "1  Y3Vyc29yOjY=  javaparser  javaparser   \n",
       "2  Y3Vyc29yOjY=  javaparser  javaparser   \n",
       "3  Y3Vyc29yOjY=  javaparser  javaparser   \n",
       "4  Y3Vyc29yOjY=  javaparser  javaparser   \n",
       "\n",
       "                                           sshUrl  \\\n",
       "0  ssh://git@github.com:javaparser/javaparser.git   \n",
       "1  ssh://git@github.com:javaparser/javaparser.git   \n",
       "2  ssh://git@github.com:javaparser/javaparser.git   \n",
       "3  ssh://git@github.com:javaparser/javaparser.git   \n",
       "4  ssh://git@github.com:javaparser/javaparser.git   \n",
       "\n",
       "                                        url  stars   createdAt    pushedAt  \\\n",
       "0  https://github.com/javaparser/javaparser   4290  2011-10-30  2022-07-27   \n",
       "1  https://github.com/javaparser/javaparser   4290  2011-10-30  2022-07-27   \n",
       "2  https://github.com/javaparser/javaparser   4290  2011-10-30  2022-07-27   \n",
       "3  https://github.com/javaparser/javaparser   4290  2011-10-30  2022-07-27   \n",
       "4  https://github.com/javaparser/javaparser   4290  2011-10-30  2022-07-27   \n",
       "\n",
       "   packages                groupId       artifactId          version  \\\n",
       "0         5  com.github.javaparser  javaparser-core  3.24.3-SNAPSHOT   \n",
       "1         5  com.github.javaparser  javaparser-core  3.24.3-SNAPSHOT   \n",
       "2         5  com.github.javaparser  javaparser-core  3.24.3-SNAPSHOT   \n",
       "3         5  com.github.javaparser  javaparser-core  3.24.3-SNAPSHOT   \n",
       "4         5  com.github.javaparser  javaparser-core  3.24.3-SNAPSHOT   \n",
       "\n",
       "               path  clients  relevantClients     cowner               cname  \\\n",
       "0  javaparser-core/     3166               27   kiegroup         optaplanner   \n",
       "1  javaparser-core/     3166               27      Azure  azure-sdk-for-java   \n",
       "2  javaparser-core/     3166               27  fabric8io   kubernetes-client   \n",
       "3  javaparser-core/     3166               27  abstracta     jmeter-java-dsl   \n",
       "4  javaparser-core/     3166               27   kiegroup              drools   \n",
       "\n",
       "                                             csshUrl  \\\n",
       "0      ssh://git@github.com:kiegroup/optaplanner.git   \n",
       "1  ssh://git@github.com:Azure/azure-sdk-for-java.git   \n",
       "2  ssh://git@github.com:fabric8io/kubernetes-clie...   \n",
       "3  ssh://git@github.com:abstracta/jmeter-java-dsl...   \n",
       "4           ssh://git@github.com:kiegroup/drools.git   \n",
       "\n",
       "                                             curl  cstars  \n",
       "0         https://github.com/kiegroup/optaplanner    2676  \n",
       "1     https://github.com/Azure/azure-sdk-for-java    1556  \n",
       "2  https://github.com/fabric8io/kubernetes-client    2579  \n",
       "3    https://github.com/abstracta/jmeter-java-dsl     186  \n",
       "4              https://github.com/kiegroup/drools    4563  "
      ]
     },
     "execution_count": 2,
     "metadata": {},
     "output_type": "execute_result"
    }
   ],
   "source": [
    "# Paths to datasets\n",
    "clients_vm1_path = '../data/clients-vm1.csv'\n",
    "clients_vm2_path = '../data/clients-vm2.csv'\n",
    "\n",
    "df_clients = pd.concat(map(pd.read_csv, [clients_vm1_path, clients_vm2_path]))\n",
    "df_clients.head()"
   ]
  },
  {
   "cell_type": "markdown",
   "id": "6712ef6c-d3dc-4256-8512-617eee63dbcc",
   "metadata": {},
   "source": [
    "## Validate Data"
   ]
  },
  {
   "cell_type": "code",
   "execution_count": 3,
   "id": "5425830f-b10b-452b-bfe1-9327fb405ecc",
   "metadata": {},
   "outputs": [
    {
     "name": "stdout",
     "output_type": "stream",
     "text": [
      "<class 'pandas.core.frame.DataFrame'>\n",
      "Int64Index: 3238 entries, 0 to 1627\n",
      "Data columns (total 20 columns):\n",
      " #   Column           Non-Null Count  Dtype \n",
      "---  ------           --------------  ----- \n",
      " 0   cursor           3238 non-null   object\n",
      " 1   owner            3238 non-null   object\n",
      " 2   name             3238 non-null   object\n",
      " 3   sshUrl           3238 non-null   object\n",
      " 4   url              3238 non-null   object\n",
      " 5   stars            3238 non-null   int64 \n",
      " 6   createdAt        3238 non-null   object\n",
      " 7   pushedAt         3238 non-null   object\n",
      " 8   packages         3238 non-null   int64 \n",
      " 9   groupId          3238 non-null   object\n",
      " 10  artifactId       3238 non-null   object\n",
      " 11  version          3238 non-null   object\n",
      " 12  path             2900 non-null   object\n",
      " 13  clients          3238 non-null   int64 \n",
      " 14  relevantClients  3238 non-null   int64 \n",
      " 15  cowner           3238 non-null   object\n",
      " 16  cname            3238 non-null   object\n",
      " 17  csshUrl          3238 non-null   object\n",
      " 18  curl             3238 non-null   object\n",
      " 19  cstars           3238 non-null   int64 \n",
      "dtypes: int64(5), object(15)\n",
      "memory usage: 531.2+ KB\n"
     ]
    }
   ],
   "source": [
    "rows, columns = df_clients.shape\n",
    "df_clients.info()"
   ]
  },
  {
   "cell_type": "markdown",
   "id": "96db74af-43bc-4074-a7da-6ac0f151926b",
   "metadata": {},
   "source": [
    "All columns seem to have non-null values except for the `path` one. We need to further investigate these cases.\n"
   ]
  },
  {
   "cell_type": "markdown",
   "id": "33a53bc0-de8c-4531-8132-7be0d70cd66f",
   "metadata": {
    "tags": []
   },
   "source": [
    "### Sanity Checks"
   ]
  },
  {
   "cell_type": "markdown",
   "id": "c23f5ff8-9274-4c68-8d4f-d5530d13cf32",
   "metadata": {},
   "source": [
    "**Auxiliary Functions**"
   ]
  },
  {
   "cell_type": "code",
   "execution_count": 4,
   "id": "5944ae6a-0eae-476b-bbc0-40dd9125906b",
   "metadata": {},
   "outputs": [],
   "source": [
    "def compute_url_parts(url_col: str) -> tuple[str, str]:\n",
    "    \"\"\"\n",
    "    Returns the GitHub scheme and authority of the clients data \n",
    "    frame column.\n",
    "    :param url_col: name of the column in the data frame. Can \n",
    "        be 'sshUrl', 'url', 'csshUrl', or 'curl'\n",
    "    :returns: tuple whose first element is the scheme of the\n",
    "        expected urls (e.g. 'ssh', 'https') and its second \n",
    "        element is the authority of the expected urls.\n",
    "    :raises: `ValueError` if the url_col is invalid.\n",
    "    \"\"\"\n",
    "    if url_col in ['sshUrl', 'csshUrl']:\n",
    "        return ('ssh', 'git@github.com')\n",
    "    elif url_col in ['url', 'curl']:\n",
    "        return ('https', 'github.com')\n",
    "    else:\n",
    "        raise Exception('Invalid url_col value')\n",
    "        \n",
    "        \n",
    "def validate_urls(url_col: str, df: pd.DataFrame) -> bool:\n",
    "    \"\"\"\n",
    "    Validates if the values of a given URL column within the clients\n",
    "    data frame are valid. Concretely, it performs three checks:\n",
    "    1. all URLs start with the expected scheme; 2. all URLs \n",
    "    contain the expected authority, and; 3. all URLs are built \n",
    "    in the right way and contain the expected path based on the \n",
    "    repository owner and name values.\n",
    "    :param url_col: name of the column in the data frame. Can \n",
    "        be 'sshUrl', 'url', 'csshUrl', or 'curl'\n",
    "    :param df: clients data frame\n",
    "    :returns: `True` if all checks pass, `False` otherwise.\n",
    "    \"\"\"\n",
    "    # Define owner and name column names\n",
    "    owner_col = 'owner'\n",
    "    name_col = 'name'\n",
    "    if url_col.startswith('c'):\n",
    "        owner_col = 'c' + owner_col\n",
    "        name_col = 'c' + name_col\n",
    "        \n",
    "    # E.g., ssh://git@github.com:owner/name\n",
    "    # or https://github.com/owner/name\n",
    "    scheme, authority = compute_url_parts(url_col)\n",
    "    delimiter = ':' if scheme == 'ssh' else '/'\n",
    "    extension = '.git' if scheme == 'ssh' else ''\n",
    "    \n",
    "    # SSH URLs have the right scheme\n",
    "    mask = df[url_col].str.match(f'^{scheme}://')\n",
    "    scheme_check = mask.all()\n",
    "    print(f'Records have right scheme: {scheme_check}')\n",
    "\n",
    "    # SSH URLs have the right authority\n",
    "    mask = df[url_col].str.contains(f'//{authority}{delimiter}')\n",
    "    authority_check = mask.all()\n",
    "    print(f'Records have right authority: {authority_check}')\n",
    "\n",
    "    # SSH URLs have the right path\n",
    "    mask = df[url_col] == f'{scheme}://{authority}{delimiter}' + df[owner_col].map(str) + '/' + df[name_col].map(str) + extension\n",
    "    path_check = mask.all()\n",
    "    print(f'Records have right path: {path_check}')\n",
    "    \n",
    "    return scheme_check and authority_check and path_check\n",
    "\n",
    "\n",
    "def validate_date(date_col: str, df: pd.DataFrame) -> bool:\n",
    "    \"\"\"\n",
    "    Validates if the values of a given date column within the \n",
    "    clients data frame are valid. Concretely, it checks if all \n",
    "    dates are of the format yyyy-MM-dd.\n",
    "    :param date_col: name of the column in the data frame. Can \n",
    "        be 'createdAt' or 'pushedAt'\n",
    "    :param df: clients data frame\n",
    "    :returns: `True` if the check passes, `False` otherwise.\n",
    "    :raises: `ValueError` if the date_col is invalid.\n",
    "    \"\"\"\n",
    "    if date_col not in ['createdAt', 'pushedAt']:\n",
    "        raise ValueError('Invalid date_col value')\n",
    "        \n",
    "    mask = df[date_col].str.match('^\\d{4}-\\d{2}-\\d{2}')\n",
    "    format_check = mask.all()\n",
    "    print(f'Records have right format: {format_check}')\n",
    "    \n",
    "    return format_check\n",
    "\n",
    "\n",
    "def validate_limit_date(limit_date: datetime, date_col: str, df: pd.DataFrame) -> bool:\n",
    "    \"\"\"\n",
    "    Validates if the values of a given date column within the \n",
    "    clients data frame are valid. Concretely, it performs two \n",
    "    checks: 1. all date appear after a limit date, and; 2. all \n",
    "    dates appear before the present date.\n",
    "    :param limit_date: limit past date for all records\n",
    "    :param date_col: name of the column in the data frame. Can \n",
    "        be 'createdAt' or 'pushedAt'\n",
    "    :param df: clients data frame\n",
    "    :returns: `True` if all checks pass, `False` otherwise.\n",
    "    :raises: `ValueError` if the date_col is invalid.\n",
    "    \"\"\" \n",
    "    if date_col not in ['createdAt', 'pushedAt']:\n",
    "        raise ValueError('Invalid date_col value')\n",
    "    \n",
    "    mask = pd.to_datetime(df[date_col]) > limit_date\n",
    "    limit_check = mask.all()\n",
    "    print(f'Records appear after {limit_date}: {limit_check}')\n",
    "    \n",
    "    present = datetime.now()\n",
    "    mask = pd.to_datetime(df[date_col]) <= present\n",
    "    present_check = mask.all()\n",
    "    print(f'Records appear before {present}: {present_check}')\n",
    "    \n",
    "    return limit_check and present_check\n",
    "\n",
    "\n",
    "def validate_limit_num(limit_num: int, num_col: str, df: pd.DataFrame) -> bool:\n",
    "    \"\"\"\n",
    "    \"\"\"\n",
    "    mask = df[num_col] >= limit_num\n",
    "    limit_check = mask.all()\n",
    "    print(f'Records have at least {limit_num}: {limit_check}')\n",
    "    \n",
    "    return limit_check"
   ]
  },
  {
   "cell_type": "markdown",
   "id": "ef991f89-9296-4073-aa5c-57fbd25636cf",
   "metadata": {},
   "source": [
    "**Validate `sshUrl` column:** Verify that all SSH URLs are correctly build and match the expected repository owner/name."
   ]
  },
  {
   "cell_type": "code",
   "execution_count": 5,
   "id": "f5abf46a-50c4-4e94-bcac-9fcf45a46348",
   "metadata": {},
   "outputs": [
    {
     "name": "stdout",
     "output_type": "stream",
     "text": [
      "Records have right scheme: True\n",
      "Records have right authority: True\n",
      "Records have right path: True\n"
     ]
    }
   ],
   "source": [
    "ssh_url_check = validate_urls('sshUrl', df_clients)\n",
    "assert ssh_url_check, 'sshUrl check'"
   ]
  },
  {
   "cell_type": "markdown",
   "id": "3c1eeda4-7992-43ac-b142-9738cea9d79c",
   "metadata": {},
   "source": [
    "**Validate `url` column:** Verify that all HTTP URLs are correctly build and match the expected repository owner/name."
   ]
  },
  {
   "cell_type": "code",
   "execution_count": 6,
   "id": "17a40169-9ed3-4a2d-abc1-a1dc1c0bc167",
   "metadata": {},
   "outputs": [
    {
     "name": "stdout",
     "output_type": "stream",
     "text": [
      "Records have right scheme: True\n",
      "Records have right authority: True\n",
      "Records have right path: True\n"
     ]
    }
   ],
   "source": [
    "http_url_check = validate_urls('url', df_clients)\n",
    "assert http_url_check, 'url check'"
   ]
  },
  {
   "cell_type": "markdown",
   "id": "8a115c0e-77d9-432e-b19e-8fba49af69bc",
   "metadata": {},
   "source": [
    "**Validate `stars` column:** Verify that all records have at least 2,500 stars."
   ]
  },
  {
   "cell_type": "code",
   "execution_count": 7,
   "id": "02cef42f-21d1-46cd-8501-b5fa50fc96d7",
   "metadata": {},
   "outputs": [
    {
     "name": "stdout",
     "output_type": "stream",
     "text": [
      "Records have at least 2500: True\n"
     ]
    }
   ],
   "source": [
    "min_stars = 2500\n",
    "stars_check = validate_limit_num(min_stars, 'stars', df_clients)\n",
    "assert stars_check, 'stars check'"
   ]
  },
  {
   "cell_type": "markdown",
   "id": "795403dc-303e-43d5-b416-20e6e0581394",
   "metadata": {},
   "source": [
    "**Validate `createdAt` column:** Verify that all dates have the expected format \"yyyy-MM-dd\"."
   ]
  },
  {
   "cell_type": "code",
   "execution_count": 8,
   "id": "9b6c3bc4-8526-41fe-96f6-4c5741d4c2de",
   "metadata": {},
   "outputs": [
    {
     "name": "stdout",
     "output_type": "stream",
     "text": [
      "Records have right format: True\n"
     ]
    }
   ],
   "source": [
    "last_pushed_date = datetime(2022, 7, 22)\n",
    "created_at_check = validate_date('createdAt', df_clients)\n",
    "assert created_at_check, 'createdAt check'"
   ]
  },
  {
   "cell_type": "markdown",
   "id": "b923ebc0-b128-430c-b5b2-0472c5c96ae1",
   "metadata": {},
   "source": [
    "**Validate `pushedAt` column:** Verify that all dates have the expected format \"yyyy-MM-dd\" and appear after a limit date."
   ]
  },
  {
   "cell_type": "code",
   "execution_count": 9,
   "id": "5ae4fe77-3027-4059-bb9a-ce0492650190",
   "metadata": {},
   "outputs": [
    {
     "name": "stdout",
     "output_type": "stream",
     "text": [
      "Records have right format: True\n",
      "Records appear after 2022-04-22 00:00:00: True\n",
      "Records appear before 2022-08-07 19:10:39.275193: True\n"
     ]
    }
   ],
   "source": [
    "last_pushed_date = datetime(2022, 4, 22)\n",
    "pushed_at_format_check = validate_date('pushedAt', df_clients)\n",
    "pushed_at_limit_check = validate_limit_date(last_pushed_date, 'pushedAt', df_clients)\n",
    "assert pushed_at_format_check and pushed_at_limit_check, 'pushedAt check'"
   ]
  },
  {
   "cell_type": "markdown",
   "id": "eeea8290-d287-41d2-afd0-2cd14b00188a",
   "metadata": {},
   "source": [
    "**Validate `packages` column:** Verify that all records have more than 0 packages."
   ]
  },
  {
   "cell_type": "code",
   "execution_count": 10,
   "id": "856b988b-719a-469f-ab7f-aab90278e196",
   "metadata": {},
   "outputs": [
    {
     "name": "stdout",
     "output_type": "stream",
     "text": [
      "Records have at least 1: True\n"
     ]
    }
   ],
   "source": [
    "packages_check = validate_limit_num(1, 'packages', df_clients)\n",
    "assert packages_check, 'packages check'"
   ]
  },
  {
   "cell_type": "markdown",
   "id": "f29ac908-a9bb-443a-b641-e0fbed681590",
   "metadata": {},
   "source": [
    "**Validate `path` column:** The `info` method already gave some insights about records where the package path in `null`. We will further investigate these cases, and check if it is necessary to exclude them from the dataset."
   ]
  },
  {
   "cell_type": "code",
   "execution_count": 11,
   "id": "9864476a-2560-42f6-b7ea-bc29d4f284f1",
   "metadata": {},
   "outputs": [
    {
     "name": "stdout",
     "output_type": "stream",
     "text": [
      "Records in the \"path\" column with null values: 338\n"
     ]
    }
   ],
   "source": [
    "mask = df_clients['path'].isnull()\n",
    "print(f'Records in the \"path\" column with null values: {mask.sum()}')"
   ]
  },
  {
   "cell_type": "code",
   "execution_count": 12,
   "id": "b81dc308-6156-4672-a124-e4df5aa91ff4",
   "metadata": {},
   "outputs": [
    {
     "data": {
      "text/plain": [
       "url                                                    groupId                    artifactId            version               \n",
       "https://github.com/JodaOrg/joda-time                   joda-time                  joda-time             2.10.14                    7\n",
       "https://github.com/LWJGL/lwjgl3                        org.lwjgl                  lwjgl                 3.2.3                      8\n",
       "https://github.com/OpenHFT/Chronicle-Queue             net.openhft                chronicle-queue       5.23ea30-SNAPSHOT          4\n",
       "https://github.com/alibaba/QLExpress                   com.alibaba                QLExpress             3.3.0                      3\n",
       "https://github.com/alibaba/fastjson                    com.alibaba                fastjson              1.2.84-SNAPSHOT           37\n",
       "https://github.com/apache/curator                      org.apache.curator         apache-curator        5.4.0-SNAPSHOT             3\n",
       "https://github.com/apache/hbase                        org.apache.hbase           hbase                 3.0.0-alpha-4-SNAPSHOT    17\n",
       "https://github.com/apache/logging-log4j2               org.apache.logging.log4j   log4j                 2.18.1-SNAPSHOT            5\n",
       "https://github.com/apache/nifi                         org.apache.nifi            nifi                  1.18.0-SNAPSHOT            1\n",
       "https://github.com/apache/rocketmq                     org.apache.rocketmq        rocketmq-all          5.0.0-SNAPSHOT             1\n",
       "https://github.com/apache/storm                        org.apache.storm           storm                 2.5.0-SNAPSHOT             1\n",
       "https://github.com/apache/zookeeper                    org.apache.zookeeper       parent                3.9.0-SNAPSHOT             1\n",
       "https://github.com/brettwooldridge/HikariCP            com.zaxxer                 HikariCP              5.0.2-SNAPSHOT            12\n",
       "https://github.com/bytedeco/javacpp                    org.bytedeco               javacpp               1.5.8-SNAPSHOT             5\n",
       "https://github.com/bytedeco/javacv                     org.bytedeco               javacv                1.5.8-SNAPSHOT            12\n",
       "https://github.com/checkstyle/checkstyle               com.puppycrawl.tools       checkstyle            10.4-SNAPSHOT             14\n",
       "https://github.com/eclipse-vertx/vert.x                io.vertx                   vertx-core            4.3.3-SNAPSHOT            31\n",
       "https://github.com/google/flatbuffers                  com.google.flatbuffers     flatbuffers-java      2.0.3                      8\n",
       "https://github.com/hs-web/hsweb-framework              org.hswebframework.web     hsweb-framework       4.0.15-SNAPSHOT            2\n",
       "https://github.com/jhy/jsoup                           org.jsoup                  jsoup                 1.15.3-SNAPSHOT            6\n",
       "https://github.com/jvm-profiling-tools/async-profiler  tools.profiler             async-profiler        2.8.3                      1\n",
       "https://github.com/mybatis/mybatis-3                   org.mybatis                mybatis               3.5.11-SNAPSHOT            3\n",
       "https://github.com/pmd/pmd                             net.sourceforge.pmd        pmd                   6.49.0-SNAPSHOT            3\n",
       "https://github.com/redis/jedis                         redis.clients              jedis                 4.3.0-SNAPSHOT            96\n",
       "https://github.com/spring-cloud/spring-cloud-netflix   org.springframework.cloud  spring-cloud-netflix  4.0.0-SNAPSHOT             1\n",
       "https://github.com/square/javapoet                     com.squareup               javapoet              1.14.0-SNAPSHOT           38\n",
       "https://github.com/stanfordnlp/CoreNLP                 edu.stanford.nlp           stanford-corenlp      4.4.0                     18\n",
       "dtype: int64"
      ]
     },
     "execution_count": 12,
     "metadata": {},
     "output_type": "execute_result"
    }
   ],
   "source": [
    "# Unique combinations\n",
    "df_empty_path = df_clients[mask]\n",
    "df_empty_path.groupby(['url', 'groupId', 'artifactId', 'version']).size()"
   ]
  },
  {
   "cell_type": "markdown",
   "id": "e13b8d34-c565-42bc-9778-5e0ecebcfd65",
   "metadata": {},
   "source": [
    "**Analysis of `path` null cases:** All POM files exist in the corresponding repository and they are placed at the root of the folder. A check of the datasets code is required to identify the source of this issue.\n",
    "\n",
    "| Repository | POM exists? | Path | \n",
    "|------------|:-----------:|------|\n",
    "| https://github.com/JodaOrg/joda-time | True | / |\n",
    "| https://github.com/LWJGL/lwjgl3 | True | / |\n",
    "| https://github.com/OpenHFT/Chronicle-Queue | True | / |\n",
    "| https://github.com/alibaba/QLExpress | True | / |\n",
    "| https://github.com/alibaba/fastjson | True | / |\n",
    "| https://github.com/apache/curator | True | / |\n",
    "| https://github.com/apache/hbase | True | / |\n",
    "| https://github.com/apache/logging-log4j2  | True | / |\n",
    "| https://github.com/apache/nifi | True | / |\n",
    "| https://github.com/apache/rocketmq | True | / |\n",
    "| https://github.com/apache/storm | True | / |\n",
    "| https://github.com/apache/zookeeper | True | / |\n",
    "| https://github.com/brettwooldridge/HikariCP | True | / |\n",
    "| https://github.com/bytedeco/javacpp  | True | / | \n",
    "| https://github.com/bytedeco/javacv | True | / |\n",
    "| https://github.com/checkstyle/checkstyle | True | / |\n",
    "| https://github.com/eclipse-vertx/vert.x | True | / |\n",
    "| https://github.com/google/flatbuffers | True | / |\n",
    "| https://github.com/hs-web/hsweb-framework | True | / |\n",
    "| https://github.com/jhy/jsoup | True | / |\n",
    "| https://github.com/jvm-profiling-tools/async-profiler | True | / |\n",
    "| https://github.com/mybatis/mybatis-3 | True | / |\n",
    "| https://github.com/pmd/pmd | True | / |\n",
    "| https://github.com/redis/jedis | True | / |\n",
    "| https://github.com/spring-cloud/spring-cloud-netflix | True | / |\n",
    "| https://github.com/square/javapoet | True | / |\n",
    "| https://github.com/stanfordnlp/CoreNLP | True | / |"
   ]
  },
  {
   "cell_type": "markdown",
   "id": "f5d37880-cba7-4e7b-b29d-713ffbaa4b03",
   "metadata": {},
   "source": [
    "As an additional remark, no package registers paths pointing to the root of the repository. This cases must be considered in the code."
   ]
  },
  {
   "cell_type": "code",
   "execution_count": 13,
   "id": "b2b1dfab-a3bf-4c4c-b0cf-203fa64a1fae",
   "metadata": {},
   "outputs": [
    {
     "name": "stdout",
     "output_type": "stream",
     "text": [
      "Number of packages at the root of the repository: 0\n"
     ]
    }
   ],
   "source": [
    "mask = df_clients['path'] == '/'\n",
    "print(f'Number of packages at the root of the repository: {df_clients[mask].shape[0]}')"
   ]
  },
  {
   "cell_type": "markdown",
   "id": "e91cbe85-f264-4ec6-aa49-d6e2cbe892cc",
   "metadata": {},
   "source": [
    "**Validate `clients` column:** Verify that all records have more than 0 clients and that the number of total clients is greater than the number of relevant clients."
   ]
  },
  {
   "cell_type": "code",
   "execution_count": 14,
   "id": "7c4df19a-747e-4af2-ae99-a184f466282a",
   "metadata": {},
   "outputs": [
    {
     "name": "stdout",
     "output_type": "stream",
     "text": [
      "Records have at least 1: True\n",
      "Records have more clients than relevant clients: True\n"
     ]
    }
   ],
   "source": [
    "clients_check = validate_limit_num(1, 'clients', df_clients)\n",
    "\n",
    "mask = df_clients['clients'] >= df_clients['relevantClients']\n",
    "limit_check = mask.all()\n",
    "print(f'Records have more clients than relevant clients: {limit_check}')\n",
    "\n",
    "assert clients_check and limit_check, 'clients check'"
   ]
  },
  {
   "cell_type": "markdown",
   "id": "dd1b4477-0aa8-46dc-8a99-064a62fd6da9",
   "metadata": {},
   "source": [
    "**Validate `relevantClients` column:** Verify that all records have more than 0 relevant clients."
   ]
  },
  {
   "cell_type": "code",
   "execution_count": 15,
   "id": "99dd9918-b92b-493a-aeb4-079255cc6028",
   "metadata": {},
   "outputs": [
    {
     "name": "stdout",
     "output_type": "stream",
     "text": [
      "Records have at least 1: True\n"
     ]
    }
   ],
   "source": [
    "relevant_clients_check = validate_limit_num(1, 'relevantClients', df_clients)\n",
    "assert relevant_clients_check, 'relevantClients check'"
   ]
  },
  {
   "cell_type": "markdown",
   "id": "fe527feb-5bf9-461f-b42a-cd19a8c89fc6",
   "metadata": {},
   "source": [
    "**Validate `csshUrl` column:** Verify that all client SSH URLs are correctly build and match the expected repository owner/name."
   ]
  },
  {
   "cell_type": "code",
   "execution_count": 16,
   "id": "69e808cd-23c8-46ad-aecf-fdda9ef4cba7",
   "metadata": {},
   "outputs": [
    {
     "name": "stdout",
     "output_type": "stream",
     "text": [
      "Records have right scheme: True\n",
      "Records have right authority: True\n",
      "Records have right path: True\n"
     ]
    }
   ],
   "source": [
    "cssh_url_check = validate_urls('csshUrl', df_clients)\n",
    "assert cssh_url_check, 'csshUrl check'"
   ]
  },
  {
   "cell_type": "markdown",
   "id": "e8d4bb93-b905-4c13-a44b-af1ec11de856",
   "metadata": {},
   "source": [
    "**Validate `curl` column:** Verify that all client HTTP URLs are correctly build and match the expected repository owner/name."
   ]
  },
  {
   "cell_type": "code",
   "execution_count": 17,
   "id": "71792fd5-b356-436c-ad02-ad9a689372b6",
   "metadata": {},
   "outputs": [
    {
     "name": "stdout",
     "output_type": "stream",
     "text": [
      "Records have right scheme: True\n",
      "Records have right authority: True\n",
      "Records have right path: True\n"
     ]
    }
   ],
   "source": [
    "chttp_url_check = validate_urls('curl', df_clients)\n",
    "assert chttp_url_check, 'curl check'"
   ]
  },
  {
   "cell_type": "markdown",
   "id": "5309a55a-cd2a-4c91-9ce7-ddac6902aaa8",
   "metadata": {},
   "source": [
    "**Validate `cstars` column:** Verify that all client records have at least 100 stars."
   ]
  },
  {
   "cell_type": "code",
   "execution_count": 18,
   "id": "c16c4c93-dfb1-42a9-aa22-e19a25aa49e5",
   "metadata": {},
   "outputs": [
    {
     "name": "stdout",
     "output_type": "stream",
     "text": [
      "Records have at least 100: True\n"
     ]
    }
   ],
   "source": [
    "min_stars = 100\n",
    "cstars_check = validate_limit_num(min_stars, 'cstars', df_clients)\n",
    "assert cstars_check, 'cstars check'"
   ]
  },
  {
   "cell_type": "markdown",
   "id": "b3407f6e-ef44-431a-9e93-efbb40a111b6",
   "metadata": {
    "tags": []
   },
   "source": [
    "## Clean Dataset"
   ]
  },
  {
   "cell_type": "markdown",
   "id": "057b86f0-fae4-4913-8759-ce4508439512",
   "metadata": {},
   "source": [
    "**Remove pushed before 2022-05-01 cases:** Only keep records where a pushed to the library repository is registered from 2022-05-01."
   ]
  },
  {
   "cell_type": "code",
   "execution_count": 19,
   "id": "03c98eb0-3fe0-4962-b6db-6e57a2026fc6",
   "metadata": {},
   "outputs": [
    {
     "name": "stdout",
     "output_type": "stream",
     "text": [
      "Pushed after 2022-05-01: 6 have been removed\n"
     ]
    }
   ],
   "source": [
    "last_pushed_date = datetime(2022, 5, 1)\n",
    "initial_rows = df_clients.shape[0]\n",
    "\n",
    "mask = pd.to_datetime(df_clients['pushedAt']) >= last_pushed_date\n",
    "df_clients = df_clients[mask]\n",
    "final_rows = df_clients.shape[0]\n",
    "\n",
    "print(f'Pushed after 2022-05-01: {initial_rows - final_rows} have been removed')"
   ]
  },
  {
   "cell_type": "markdown",
   "id": "68f9803a-f81a-41a2-868a-50e506706900",
   "metadata": {},
   "source": [
    "**Replace null `path` values by `/`:** Replaces all null values by the root of the directory after performing a manual review."
   ]
  },
  {
   "cell_type": "code",
   "execution_count": 20,
   "id": "47c315d5-5375-43c5-978a-07ada75a2404",
   "metadata": {},
   "outputs": [
    {
     "name": "stdout",
     "output_type": "stream",
     "text": [
      "Replace null path values by /: 338 have been updated\n"
     ]
    },
    {
     "data": {
      "text/html": [
       "<div>\n",
       "<style scoped>\n",
       "    .dataframe tbody tr th:only-of-type {\n",
       "        vertical-align: middle;\n",
       "    }\n",
       "\n",
       "    .dataframe tbody tr th {\n",
       "        vertical-align: top;\n",
       "    }\n",
       "\n",
       "    .dataframe thead th {\n",
       "        text-align: right;\n",
       "    }\n",
       "</style>\n",
       "<table border=\"1\" class=\"dataframe\">\n",
       "  <thead>\n",
       "    <tr style=\"text-align: right;\">\n",
       "      <th></th>\n",
       "      <th>cursor</th>\n",
       "      <th>owner</th>\n",
       "      <th>name</th>\n",
       "      <th>sshUrl</th>\n",
       "      <th>url</th>\n",
       "      <th>stars</th>\n",
       "      <th>createdAt</th>\n",
       "      <th>pushedAt</th>\n",
       "      <th>packages</th>\n",
       "      <th>groupId</th>\n",
       "      <th>artifactId</th>\n",
       "      <th>version</th>\n",
       "      <th>path</th>\n",
       "      <th>clients</th>\n",
       "      <th>relevantClients</th>\n",
       "      <th>cowner</th>\n",
       "      <th>cname</th>\n",
       "      <th>csshUrl</th>\n",
       "      <th>curl</th>\n",
       "      <th>cstars</th>\n",
       "    </tr>\n",
       "  </thead>\n",
       "  <tbody>\n",
       "    <tr>\n",
       "      <th>88</th>\n",
       "      <td>Y3Vyc29yOjIx</td>\n",
       "      <td>bytedeco</td>\n",
       "      <td>javacpp</td>\n",
       "      <td>ssh://git@github.com:bytedeco/javacpp.git</td>\n",
       "      <td>https://github.com/bytedeco/javacpp</td>\n",
       "      <td>3893</td>\n",
       "      <td>2014-04-21</td>\n",
       "      <td>2022-07-08</td>\n",
       "      <td>3</td>\n",
       "      <td>org.bytedeco</td>\n",
       "      <td>javacpp</td>\n",
       "      <td>1.5.8-SNAPSHOT</td>\n",
       "      <td>/</td>\n",
       "      <td>1057</td>\n",
       "      <td>5</td>\n",
       "      <td>itboyst</td>\n",
       "      <td>ArcSoftFaceDemo</td>\n",
       "      <td>ssh://git@github.com:itboyst/ArcSoftFaceDemo.git</td>\n",
       "      <td>https://github.com/itboyst/ArcSoftFaceDemo</td>\n",
       "      <td>275</td>\n",
       "    </tr>\n",
       "    <tr>\n",
       "      <th>89</th>\n",
       "      <td>Y3Vyc29yOjIx</td>\n",
       "      <td>bytedeco</td>\n",
       "      <td>javacpp</td>\n",
       "      <td>ssh://git@github.com:bytedeco/javacpp.git</td>\n",
       "      <td>https://github.com/bytedeco/javacpp</td>\n",
       "      <td>3893</td>\n",
       "      <td>2014-04-21</td>\n",
       "      <td>2022-07-08</td>\n",
       "      <td>3</td>\n",
       "      <td>org.bytedeco</td>\n",
       "      <td>javacpp</td>\n",
       "      <td>1.5.8-SNAPSHOT</td>\n",
       "      <td>/</td>\n",
       "      <td>1057</td>\n",
       "      <td>5</td>\n",
       "      <td>SonicCloudOrg</td>\n",
       "      <td>sonic-server</td>\n",
       "      <td>ssh://git@github.com:SonicCloudOrg/sonic-serve...</td>\n",
       "      <td>https://github.com/SonicCloudOrg/sonic-server</td>\n",
       "      <td>1311</td>\n",
       "    </tr>\n",
       "    <tr>\n",
       "      <th>90</th>\n",
       "      <td>Y3Vyc29yOjIx</td>\n",
       "      <td>bytedeco</td>\n",
       "      <td>javacpp</td>\n",
       "      <td>ssh://git@github.com:bytedeco/javacpp.git</td>\n",
       "      <td>https://github.com/bytedeco/javacpp</td>\n",
       "      <td>3893</td>\n",
       "      <td>2014-04-21</td>\n",
       "      <td>2022-07-08</td>\n",
       "      <td>3</td>\n",
       "      <td>org.bytedeco</td>\n",
       "      <td>javacpp</td>\n",
       "      <td>1.5.8-SNAPSHOT</td>\n",
       "      <td>/</td>\n",
       "      <td>1057</td>\n",
       "      <td>5</td>\n",
       "      <td>SonicCloudOrg</td>\n",
       "      <td>sonic-agent</td>\n",
       "      <td>ssh://git@github.com:SonicCloudOrg/sonic-agent...</td>\n",
       "      <td>https://github.com/SonicCloudOrg/sonic-agent</td>\n",
       "      <td>952</td>\n",
       "    </tr>\n",
       "    <tr>\n",
       "      <th>91</th>\n",
       "      <td>Y3Vyc29yOjIx</td>\n",
       "      <td>bytedeco</td>\n",
       "      <td>javacpp</td>\n",
       "      <td>ssh://git@github.com:bytedeco/javacpp.git</td>\n",
       "      <td>https://github.com/bytedeco/javacpp</td>\n",
       "      <td>3893</td>\n",
       "      <td>2014-04-21</td>\n",
       "      <td>2022-07-08</td>\n",
       "      <td>3</td>\n",
       "      <td>org.bytedeco</td>\n",
       "      <td>javacpp</td>\n",
       "      <td>1.5.8-SNAPSHOT</td>\n",
       "      <td>/</td>\n",
       "      <td>1057</td>\n",
       "      <td>5</td>\n",
       "      <td>meteoinfo</td>\n",
       "      <td>MeteoInfo</td>\n",
       "      <td>ssh://git@github.com:meteoinfo/MeteoInfo.git</td>\n",
       "      <td>https://github.com/meteoinfo/MeteoInfo</td>\n",
       "      <td>217</td>\n",
       "    </tr>\n",
       "    <tr>\n",
       "      <th>92</th>\n",
       "      <td>Y3Vyc29yOjIx</td>\n",
       "      <td>bytedeco</td>\n",
       "      <td>javacpp</td>\n",
       "      <td>ssh://git@github.com:bytedeco/javacpp.git</td>\n",
       "      <td>https://github.com/bytedeco/javacpp</td>\n",
       "      <td>3893</td>\n",
       "      <td>2014-04-21</td>\n",
       "      <td>2022-07-08</td>\n",
       "      <td>3</td>\n",
       "      <td>org.bytedeco</td>\n",
       "      <td>javacpp</td>\n",
       "      <td>1.5.8-SNAPSHOT</td>\n",
       "      <td>/</td>\n",
       "      <td>1057</td>\n",
       "      <td>5</td>\n",
       "      <td>gliwka</td>\n",
       "      <td>hyperscan-java</td>\n",
       "      <td>ssh://git@github.com:gliwka/hyperscan-java.git</td>\n",
       "      <td>https://github.com/gliwka/hyperscan-java</td>\n",
       "      <td>116</td>\n",
       "    </tr>\n",
       "  </tbody>\n",
       "</table>\n",
       "</div>"
      ],
      "text/plain": [
       "          cursor     owner     name  \\\n",
       "88  Y3Vyc29yOjIx  bytedeco  javacpp   \n",
       "89  Y3Vyc29yOjIx  bytedeco  javacpp   \n",
       "90  Y3Vyc29yOjIx  bytedeco  javacpp   \n",
       "91  Y3Vyc29yOjIx  bytedeco  javacpp   \n",
       "92  Y3Vyc29yOjIx  bytedeco  javacpp   \n",
       "\n",
       "                                       sshUrl  \\\n",
       "88  ssh://git@github.com:bytedeco/javacpp.git   \n",
       "89  ssh://git@github.com:bytedeco/javacpp.git   \n",
       "90  ssh://git@github.com:bytedeco/javacpp.git   \n",
       "91  ssh://git@github.com:bytedeco/javacpp.git   \n",
       "92  ssh://git@github.com:bytedeco/javacpp.git   \n",
       "\n",
       "                                    url  stars   createdAt    pushedAt  \\\n",
       "88  https://github.com/bytedeco/javacpp   3893  2014-04-21  2022-07-08   \n",
       "89  https://github.com/bytedeco/javacpp   3893  2014-04-21  2022-07-08   \n",
       "90  https://github.com/bytedeco/javacpp   3893  2014-04-21  2022-07-08   \n",
       "91  https://github.com/bytedeco/javacpp   3893  2014-04-21  2022-07-08   \n",
       "92  https://github.com/bytedeco/javacpp   3893  2014-04-21  2022-07-08   \n",
       "\n",
       "    packages       groupId artifactId         version path  clients  \\\n",
       "88         3  org.bytedeco    javacpp  1.5.8-SNAPSHOT    /     1057   \n",
       "89         3  org.bytedeco    javacpp  1.5.8-SNAPSHOT    /     1057   \n",
       "90         3  org.bytedeco    javacpp  1.5.8-SNAPSHOT    /     1057   \n",
       "91         3  org.bytedeco    javacpp  1.5.8-SNAPSHOT    /     1057   \n",
       "92         3  org.bytedeco    javacpp  1.5.8-SNAPSHOT    /     1057   \n",
       "\n",
       "    relevantClients         cowner            cname  \\\n",
       "88                5        itboyst  ArcSoftFaceDemo   \n",
       "89                5  SonicCloudOrg     sonic-server   \n",
       "90                5  SonicCloudOrg      sonic-agent   \n",
       "91                5      meteoinfo        MeteoInfo   \n",
       "92                5         gliwka   hyperscan-java   \n",
       "\n",
       "                                              csshUrl  \\\n",
       "88   ssh://git@github.com:itboyst/ArcSoftFaceDemo.git   \n",
       "89  ssh://git@github.com:SonicCloudOrg/sonic-serve...   \n",
       "90  ssh://git@github.com:SonicCloudOrg/sonic-agent...   \n",
       "91       ssh://git@github.com:meteoinfo/MeteoInfo.git   \n",
       "92     ssh://git@github.com:gliwka/hyperscan-java.git   \n",
       "\n",
       "                                             curl  cstars  \n",
       "88     https://github.com/itboyst/ArcSoftFaceDemo     275  \n",
       "89  https://github.com/SonicCloudOrg/sonic-server    1311  \n",
       "90   https://github.com/SonicCloudOrg/sonic-agent     952  \n",
       "91         https://github.com/meteoinfo/MeteoInfo     217  \n",
       "92       https://github.com/gliwka/hyperscan-java     116  "
      ]
     },
     "execution_count": 20,
     "metadata": {},
     "output_type": "execute_result"
    }
   ],
   "source": [
    "path_null_mask = df_clients['path'].isnull()\n",
    "modified_rows = df_clients[path_null_mask].shape[0]\n",
    "\n",
    "df_clients['path'].fillna('/', inplace=True)\n",
    "mask = ~df_clients['path'].isnull()\n",
    "path_null_check = mask.all()\n",
    "assert path_null_check, 'path null check'\n",
    "\n",
    "print(f'Replace null path values by /: {modified_rows} have been updated')\n",
    "df_clients[path_null_mask].head()"
   ]
  },
  {
   "cell_type": "markdown",
   "id": "06ef9acb-ff5e-4edc-9efb-2ce9c919eaca",
   "metadata": {},
   "source": [
    "## Store Cleaned Dataset"
   ]
  },
  {
   "cell_type": "code",
   "execution_count": 21,
   "id": "237cdc0c-40d6-44dd-b722-7a72486bde9a",
   "metadata": {},
   "outputs": [],
   "source": [
    "output_path = '../data/clients-cleaned.csv'\n",
    "df_clients.to_csv(output_path)"
   ]
  }
 ],
 "metadata": {
  "kernelspec": {
   "display_name": "Python 3 (ipykernel)",
   "language": "python",
   "name": "python3"
  },
  "language_info": {
   "codemirror_mode": {
    "name": "ipython",
    "version": 3
   },
   "file_extension": ".py",
   "mimetype": "text/x-python",
   "name": "python",
   "nbconvert_exporter": "python",
   "pygments_lexer": "ipython3",
   "version": "3.9.5"
  }
 },
 "nbformat": 4,
 "nbformat_minor": 5
}
